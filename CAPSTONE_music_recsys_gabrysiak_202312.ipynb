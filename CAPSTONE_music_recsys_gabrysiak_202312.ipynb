{
  "cells": [
    {
      "cell_type": "markdown",
      "metadata": {
        "id": "view-in-github",
        "colab_type": "text"
      },
      "source": [
        "<a href=\"https://colab.research.google.com/github/lauragabrysiak/mitx_applied_data_science/blob/main/CAPSTONE_music_recsys_gabrysiak_202312.ipynb\" target=\"_parent\"><img src=\"https://colab.research.google.com/assets/colab-badge.svg\" alt=\"Open In Colab\"/></a>"
      ]
    },
    {
      "cell_type": "markdown",
      "metadata": {
        "id": "DyAjEw4OHmDb"
      },
      "source": [
        "# **Music Recommendation System**"
      ]
    },
    {
      "cell_type": "markdown",
      "metadata": {
        "id": "NRJtXkTrHxMQ"
      },
      "source": [
        "## **System Configuration**"
      ]
    },
    {
      "cell_type": "markdown",
      "metadata": {
        "id": "WXZZ6Ma0ahcc"
      },
      "source": [
        "#### Mount Drive"
      ]
    },
    {
      "cell_type": "code",
      "execution_count": 66,
      "metadata": {
        "colab": {
          "base_uri": "https://localhost:8080/"
        },
        "id": "6SRzOPXI2Efn",
        "outputId": "d4f10325-1fd7-4320-d323-3b9ed68e4ac4"
      },
      "outputs": [
        {
          "output_type": "stream",
          "name": "stdout",
          "text": [
            "Drive already mounted at /content/gdrive/; to attempt to forcibly remount, call drive.mount(\"/content/gdrive/\", force_remount=True).\n"
          ]
        }
      ],
      "source": [
        "# Mounting the drive\n",
        "from google.colab import drive\n",
        "drive.mount('/content/gdrive/')"
      ]
    },
    {
      "cell_type": "markdown",
      "metadata": {
        "id": "Ch6RGxQ_alkL"
      },
      "source": [
        "#### Install Libraries"
      ]
    },
    {
      "cell_type": "code",
      "execution_count": 67,
      "metadata": {
        "id": "rncMR5r3SN0e",
        "colab": {
          "base_uri": "https://localhost:8080/"
        },
        "outputId": "369963cd-b47a-48b2-cde3-b02cd160db04"
      },
      "outputs": [
        {
          "output_type": "stream",
          "name": "stdout",
          "text": [
            "Requirement already satisfied: surprise in /usr/local/lib/python3.10/dist-packages (0.1)\n",
            "Requirement already satisfied: scikit-surprise in /usr/local/lib/python3.10/dist-packages (from surprise) (1.1.3)\n",
            "Requirement already satisfied: joblib>=1.0.0 in /usr/local/lib/python3.10/dist-packages (from scikit-surprise->surprise) (1.3.2)\n",
            "Requirement already satisfied: numpy>=1.17.3 in /usr/local/lib/python3.10/dist-packages (from scikit-surprise->surprise) (1.23.5)\n",
            "Requirement already satisfied: scipy>=1.3.2 in /usr/local/lib/python3.10/dist-packages (from scikit-surprise->surprise) (1.11.4)\n"
          ]
        }
      ],
      "source": [
        "# Installing surprise library\n",
        "!pip install surprise"
      ]
    },
    {
      "cell_type": "markdown",
      "metadata": {
        "id": "nxNVorA8ao2I"
      },
      "source": [
        "#### Import Libraries"
      ]
    },
    {
      "cell_type": "code",
      "execution_count": 68,
      "metadata": {
        "id": "R4YvKrpzId3K"
      },
      "outputs": [],
      "source": [
        "import warnings                                 # Used to ignore the warning given as output of the code\n",
        "warnings.filterwarnings('ignore')\n",
        "from collections import defaultdict             # A dictionary output that does not raise a key error\n",
        "\n",
        "import numpy as np                              # Basic libraries of python for numeric and dataframe computations\n",
        "import pandas as pd\n",
        "\n",
        "import matplotlib.pyplot as plt                 # data visualization\n",
        "import seaborn as sns                           # data visualization advanced\n",
        "\n",
        "from sklearn.metrics import mean_squared_error  # A performance metrics in sklearn"
      ]
    },
    {
      "cell_type": "code",
      "source": [
        "# To compute the accuracy of models\n",
        "from surprise import accuracy\n",
        "# Class is used to parse a file containing ratings, data should be in structure - user ; item ; rating\n",
        "from surprise.reader import Reader\n",
        "# Class for loading datasets\n",
        "from surprise.dataset import Dataset\n",
        "# For tuning model hyperparameters\n",
        "from surprise.model_selection import GridSearchCV\n",
        "# For splitting the rating data in train and test datasets\n",
        "from surprise.model_selection import train_test_split\n",
        "# For implementing similarity-based recommendation system\n",
        "from surprise.prediction_algorithms.knns import KNNBasic\n",
        "# For implementing matrix factorization based recommendation system\n",
        "from surprise.prediction_algorithms.matrix_factorization import SVD\n",
        "# for implementing K-Fold cross-validation\n",
        "from surprise.model_selection import KFold\n",
        "# For implementing clustering-based recommendation system\n",
        "from surprise import CoClustering\n",
        "## Added classes\n",
        "# from surprise import Similarity"
      ],
      "metadata": {
        "id": "d_uzcQsTK5jm"
      },
      "execution_count": 69,
      "outputs": []
    },
    {
      "cell_type": "markdown",
      "metadata": {
        "id": "bUGKX140wf-S"
      },
      "source": [
        "### **Datasets**"
      ]
    },
    {
      "cell_type": "markdown",
      "metadata": {
        "id": "oBrgp6LPayFm"
      },
      "source": [
        "#### Import datasets"
      ]
    },
    {
      "cell_type": "code",
      "execution_count": 70,
      "metadata": {
        "id": "si6ulhIYImck"
      },
      "outputs": [],
      "source": [
        "# Importing the datasets\n",
        "\n",
        "# Original final df\n",
        "#df_final = pd.read_csv('/content/sample_data/df_final.csv'\n",
        "#                  , on_bad_lines='skip')                        # some of the lines had formatting issues. This can be solved with bad_lines = skip\n",
        "# Spotipy augmented final df\n",
        "df_final = pd.read_csv('/content/sample_data/spotipy_concat_final_n_1000.csv'\n",
        "                  , on_bad_lines='skip')"
      ]
    },
    {
      "cell_type": "code",
      "execution_count": 71,
      "metadata": {
        "colab": {
          "base_uri": "https://localhost:8080/"
        },
        "id": "A7tGO-1aUGDt",
        "outputId": "80bd1850-1d91-4900-dd74-8c3003881c5e"
      },
      "outputs": [
        {
          "output_type": "stream",
          "name": "stdout",
          "text": [
            "Song Dataset: No of rows = 916 and No of columns = 20\n"
          ]
        }
      ],
      "source": [
        "rows, columns = df_final.shape\n",
        "print(\"Song Dataset: No of rows =\", rows, \"and No of columns =\", columns)"
      ]
    },
    {
      "cell_type": "code",
      "execution_count": 72,
      "metadata": {
        "colab": {
          "base_uri": "https://localhost:8080/"
        },
        "id": "fIuqUJsgUMww",
        "outputId": "2b71e03a-2acd-4e27-fe5e-60e42fa58a68"
      },
      "outputs": [
        {
          "output_type": "stream",
          "name": "stdout",
          "text": [
            "<class 'pandas.core.frame.DataFrame'>\n",
            "RangeIndex: 916 entries, 0 to 915\n",
            "Data columns (total 20 columns):\n",
            " #   Column                   Non-Null Count  Dtype \n",
            "---  ------                   --------------  ----- \n",
            " 0   user_id                  916 non-null    int64 \n",
            " 1   song_id                  916 non-null    int64 \n",
            " 2   play_count               916 non-null    int64 \n",
            " 3   song_title               916 non-null    object\n",
            " 4   song_release             916 non-null    object\n",
            " 5   song_artist              916 non-null    object\n",
            " 6   song_year                916 non-null    int64 \n",
            " 7   title                    916 non-null    object\n",
            " 8   popularity               916 non-null    int64 \n",
            " 9   is_local                 916 non-null    bool  \n",
            " 10  explicit                 916 non-null    bool  \n",
            " 11  duration_ms              916 non-null    int64 \n",
            " 12  album                    916 non-null    object\n",
            " 13  release_date             916 non-null    object\n",
            " 14  album_type               916 non-null    object\n",
            " 15  album_available_markets  916 non-null    object\n",
            " 16  artist                   916 non-null    object\n",
            " 17  artist_popularity        916 non-null    int64 \n",
            " 18  artist_followers         916 non-null    int64 \n",
            " 19  artist_genres            916 non-null    object\n",
            "dtypes: bool(2), int64(8), object(10)\n",
            "memory usage: 130.7+ KB\n",
            "None\n"
          ]
        }
      ],
      "source": [
        "print(df_final.info())   # there is some missing information (title (-15) /release (-5) )"
      ]
    },
    {
      "cell_type": "code",
      "source": [
        "## Merge all metadata into metadata_info column:\n",
        "def merge_columns(row):\n",
        "    return {\n",
        "        'play_count': row['play_count'],\n",
        "        'song_title': row['song_title'],\n",
        "        'song_release': row['song_release'],\n",
        "        'song_artist': row['song_artist'],\n",
        "        'song_year': row['song_year'],\n",
        "        'title': row['title'],\n",
        "        'popularity': row['popularity'],\n",
        "        'is_local': row['is_local'],\n",
        "        'explicit': row['explicit'],\n",
        "        'duration_ms': row['duration_ms'],\n",
        "        'album': row['album'],\n",
        "        'release_date': row['release_date'],\n",
        "        'album_type': row['album_type'],\n",
        "        'album_available_markets': row['album_available_markets'],\n",
        "        'artist': row['artist'],\n",
        "        'artist_popularity': row['artist_popularity'],\n",
        "        'artist_followers': row['artist_followers'],\n",
        "        'artist_genres': row['artist_genres']\n",
        "    }\n",
        "\n",
        "# Apply the function to create the new metadata_info column\n",
        "df_final['metadata_info'] = df_final.apply(merge_columns, axis=1)\n",
        "\n",
        "# Display the DataFrame\n",
        "print(df_final.head(3))"
      ],
      "metadata": {
        "id": "3ykbRXvr7aT9",
        "colab": {
          "base_uri": "https://localhost:8080/"
        },
        "outputId": "c1cea9da-528c-4f94-b47b-8abd51e95c1b"
      },
      "execution_count": 73,
      "outputs": [
        {
          "output_type": "stream",
          "name": "stdout",
          "text": [
            "   user_id  song_id  play_count                       song_title  \\\n",
            "0     6958      447           1               Daisy And Prudence   \n",
            "1     6958      512           1  The Ballad of Michael Valentine   \n",
            "2     6958      703           1            They Might Follow You   \n",
            "\n",
            "   song_release   song_artist  song_year  \\\n",
            "0  Distillation  Erin McKeown       2000   \n",
            "1       Sawdust   The Killers       2004   \n",
            "2   Tiny Vipers   Tiny Vipers       2007   \n",
            "\n",
            "                                             title  popularity  is_local  ...  \\\n",
            "0                               Daisy And Prudence           7     False  ...   \n",
            "1                  The Ballad Of Michael Valentine          35     False  ...   \n",
            "2  They Might Be Following You with Unmarked Teeth           0     False  ...   \n",
            "\n",
            "   duration_ms                   album release_date   album_type  \\\n",
            "0       293400            Distillation   2000-10-10        album   \n",
            "1       230346                 Sawdust   2007-01-01  compilation   \n",
            "2       217548  Bloody Masquerade Ball   2021-10-31        album   \n",
            "\n",
            "                             album_available_markets                 artist  \\\n",
            "0  ['AR', 'AU', 'AT', 'BE', 'BO', 'BR', 'BG', 'CA...           Erin McKeown   \n",
            "1  ['AR', 'AU', 'AT', 'BE', 'BO', 'BR', 'BG', 'CA...            The Killers   \n",
            "2  ['AR', 'AU', 'AT', 'BE', 'BO', 'BR', 'BG', 'CA...  Hunter Collins Losson   \n",
            "\n",
            "  artist_popularity  artist_followers  \\\n",
            "0                27             15372   \n",
            "1                74           7191964   \n",
            "2                 0                 1   \n",
            "\n",
            "                                       artist_genres  \\\n",
            "0                      ['ectofolk', \"women's music\"]   \n",
            "1  ['alternative rock', 'dance rock', 'modern roc...   \n",
            "2                                                 []   \n",
            "\n",
            "                                       metadata_info  \n",
            "0  {'play_count': 1, 'song_title': 'Daisy And Pru...  \n",
            "1  {'play_count': 1, 'song_title': 'The Ballad of...  \n",
            "2  {'play_count': 1, 'song_title': 'They Might Fo...  \n",
            "\n",
            "[3 rows x 21 columns]\n"
          ]
        }
      ]
    },
    {
      "cell_type": "markdown",
      "metadata": {
        "id": "uZcr1Eke2T9W"
      },
      "source": [
        "## **Exploratory Data Analysis**"
      ]
    },
    {
      "cell_type": "markdown",
      "metadata": {
        "id": "LQ5I4hJoZE4R"
      },
      "source": [
        "### **Numerical Variables EDA**"
      ]
    },
    {
      "cell_type": "code",
      "execution_count": 74,
      "metadata": {
        "id": "mDWmXxrZqyjs",
        "colab": {
          "base_uri": "https://localhost:8080/"
        },
        "outputId": "b43126d5-60ef-405d-cec1-4a30102db901"
      },
      "outputs": [
        {
          "output_type": "stream",
          "name": "stdout",
          "text": [
            "                   count unique    top freq             mean            std  \\\n",
            "user_id            916.0    NaN    NaN  NaN      46666.89738   18122.687247   \n",
            "song_id            916.0    NaN    NaN  NaN      4892.412664    2955.760471   \n",
            "play_count         916.0    NaN    NaN  NaN         1.733624       1.046986   \n",
            "song_year          916.0    NaN    NaN  NaN      1772.751092     641.669471   \n",
            "popularity         916.0    NaN    NaN  NaN        56.962882      26.530006   \n",
            "is_local             916      1  False  916              NaN            NaN   \n",
            "explicit             916      2  False  820              NaN            NaN   \n",
            "duration_ms        916.0    NaN    NaN  NaN    237610.336245   76711.903287   \n",
            "artist_popularity  916.0    NaN    NaN  NaN        64.712882      20.376926   \n",
            "artist_followers   916.0    NaN    NaN  NaN  11456416.527293  20589786.4476   \n",
            "\n",
            "                       min       25%        50%        75%          max  \n",
            "user_id             5480.0   39814.0    49549.0    57932.0      75901.0  \n",
            "song_id               21.0    2115.0     4911.0     7628.0       9981.0  \n",
            "play_count             1.0       1.0        1.0        2.0          5.0  \n",
            "song_year              0.0    2001.0     2006.0     2008.0       2010.0  \n",
            "popularity             0.0      41.0       66.0       78.0         98.0  \n",
            "is_local               NaN       NaN        NaN        NaN          NaN  \n",
            "explicit               NaN       NaN        NaN        NaN          NaN  \n",
            "duration_ms        45000.0  197200.0   229973.0   264302.0     761426.0  \n",
            "artist_popularity      0.0      56.0       70.0       79.0        100.0  \n",
            "artist_followers       1.0  651215.0  3294081.0  9804638.0  115935310.0  \n"
          ]
        }
      ],
      "source": [
        "# numerical variables\n",
        "print(df_final.describe(exclude='object').transpose())"
      ]
    },
    {
      "cell_type": "code",
      "execution_count": 75,
      "metadata": {
        "id": "e_xCNlxyZfdP",
        "colab": {
          "base_uri": "https://localhost:8080/",
          "height": 207
        },
        "outputId": "78cbd9cc-d151-4125-c9fb-5d7abb1c762e"
      },
      "outputs": [
        {
          "output_type": "display_data",
          "data": {
            "text/plain": [
              "<Figure size 700x200 with 2 Axes>"
            ],
            "image/png": "[encoded data removed]"
          },
          "metadata": {}
        }
      ],
      "source": [
        "# Create a figure with two subplots\n",
        "fig, axes = plt.subplots(nrows=1, ncols=2, figsize=(7, 2))\n",
        "# p1: top users by ratings\n",
        "#sns.barplot(x='song_id', y='play_count', data=df_final, color='black', ax=axes[0])\n",
        "sns.boxplot(x = df_final[\"play_count\"], color = 'grey', ax=axes[0])\n",
        "# p2: ratings distribution (min = 5 given selection criteria)\n",
        "sns.histplot(df_final['play_count'], bins=3, kde=True, color='black', ax=axes[1])\n",
        "fig.tight_layout()"
      ]
    },
    {
      "cell_type": "markdown",
      "metadata": {
        "id": "ByuHmvWDeBJI"
      },
      "source": [
        "### **Categorical Variables EDA**"
      ]
    },
    {
      "cell_type": "code",
      "execution_count": 76,
      "metadata": {
        "id": "PnniZnwTTava",
        "colab": {
          "base_uri": "https://localhost:8080/"
        },
        "outputId": "21303ba3-2110-43fa-f7e9-637ef5024fcc"
      },
      "outputs": [
        {
          "output_type": "stream",
          "name": "stdout",
          "text": [
            "                        count unique  \\\n",
            "song_title                916    365   \n",
            "song_release              916    288   \n",
            "song_artist               916    165   \n",
            "title                     916    360   \n",
            "album                     916    308   \n",
            "release_date              916    267   \n",
            "album_type                916      3   \n",
            "album_available_markets   916     60   \n",
            "artist                    916    256   \n",
            "artist_genres             916    220   \n",
            "metadata_info             916    639   \n",
            "\n",
            "                                                                       top  \\\n",
            "song_title                                                    Use Somebody   \n",
            "song_release                              Ray Guns Are Not Just The Future   \n",
            "song_artist                                                       Coldplay   \n",
            "title                                         Somebody That I Used To Know   \n",
            "album                                               Lungs (Deluxe Edition)   \n",
            "release_date                                                    2009-01-01   \n",
            "album_type                                                           album   \n",
            "album_available_markets  ['AR', 'AU', 'AT', 'BE', 'BO', 'BR', 'BG', 'CA...   \n",
            "artist                                                            Coldplay   \n",
            "artist_genres                                                           []   \n",
            "metadata_info            {'play_count': 1, 'song_title': 'Fast As I Can...   \n",
            "\n",
            "                        freq  \n",
            "song_title                14  \n",
            "song_release              24  \n",
            "song_artist               54  \n",
            "title                     14  \n",
            "album                     14  \n",
            "release_date              40  \n",
            "album_type               770  \n",
            "album_available_markets  561  \n",
            "artist                    34  \n",
            "artist_genres             68  \n",
            "metadata_info              7  \n"
          ]
        }
      ],
      "source": [
        "# categorical variables\n",
        "print(df_final.describe(include='object').transpose())"
      ]
    },
    {
      "cell_type": "code",
      "execution_count": 77,
      "metadata": {
        "id": "jF6Hok3_ZQvM",
        "colab": {
          "base_uri": "https://localhost:8080/",
          "height": 363
        },
        "outputId": "847e4a08-9122-494b-dbb7-39e7f079ee93"
      },
      "outputs": [
        {
          "output_type": "execute_result",
          "data": {
            "text/plain": [
              "   song_id                song_title  song_year  artist_popularity  mean  \\\n",
              "0     8582              Use Somebody       2008                 65   2.0   \n",
              "1     6293                    Yellow       2000                 86   2.0   \n",
              "2      703     They Might Follow You       2007                  0   2.0   \n",
              "3     4270      Don't Stop The Music       2007                 47   1.0   \n",
              "4     1118                    Clocks       2002                 87   2.0   \n",
              "5     1286          Somebody To Love       2010                 82   3.0   \n",
              "6     1480             Fast As I Can       2000                 42   1.0   \n",
              "7     7796                Love Story       2008                100   1.0   \n",
              "8     4676  The Trouble With Love Is       2003                 78   1.0   \n",
              "9     8107        You Only Live Once       2005                 73   1.0   \n",
              "\n",
              "   count  max  \n",
              "0     14    4  \n",
              "1     10    4  \n",
              "2     10    3  \n",
              "3      9    1  \n",
              "4      8    4  \n",
              "5      8    5  \n",
              "6      7    1  \n",
              "7      6    2  \n",
              "8      6    1  \n",
              "9      6    1  "
            ],
            "text/html": [
              "\n",
              "  <div id=\"df-62d4c418-d328-4b19-974d-95d0ba8f8d94\" class=\"colab-df-container\">\n",
              "    <div>\n",
              "<style scoped>\n",
              "    .dataframe tbody tr th:only-of-type {\n",
              "        vertical-align: middle;\n",
              "    }\n",
              "\n",
              "    .dataframe tbody tr th {\n",
              "        vertical-align: top;\n",
              "    }\n",
              "\n",
              "    .dataframe thead th {\n",
              "        text-align: right;\n",
              "    }\n",
              "</style>\n",
              "<table border=\"1\" class=\"dataframe\">\n",
              "  <thead>\n",
              "    <tr style=\"text-align: right;\">\n",
              "      <th></th>\n",
              "      <th>song_id</th>\n",
              "      <th>song_title</th>\n",
              "      <th>song_year</th>\n",
              "      <th>artist_popularity</th>\n",
              "      <th>mean</th>\n",
              "      <th>count</th>\n",
              "      <th>max</th>\n",
              "    </tr>\n",
              "  </thead>\n",
              "  <tbody>\n",
              "    <tr>\n",
              "      <th>0</th>\n",
              "      <td>8582</td>\n",
              "      <td>Use Somebody</td>\n",
              "      <td>2008</td>\n",
              "      <td>65</td>\n",
              "      <td>2.0</td>\n",
              "      <td>14</td>\n",
              "      <td>4</td>\n",
              "    </tr>\n",
              "    <tr>\n",
              "      <th>1</th>\n",
              "      <td>6293</td>\n",
              "      <td>Yellow</td>\n",
              "      <td>2000</td>\n",
              "      <td>86</td>\n",
              "      <td>2.0</td>\n",
              "      <td>10</td>\n",
              "      <td>4</td>\n",
              "    </tr>\n",
              "    <tr>\n",
              "      <th>2</th>\n",
              "      <td>703</td>\n",
              "      <td>They Might Follow You</td>\n",
              "      <td>2007</td>\n",
              "      <td>0</td>\n",
              "      <td>2.0</td>\n",
              "      <td>10</td>\n",
              "      <td>3</td>\n",
              "    </tr>\n",
              "    <tr>\n",
              "      <th>3</th>\n",
              "      <td>4270</td>\n",
              "      <td>Don't Stop The Music</td>\n",
              "      <td>2007</td>\n",
              "      <td>47</td>\n",
              "      <td>1.0</td>\n",
              "      <td>9</td>\n",
              "      <td>1</td>\n",
              "    </tr>\n",
              "    <tr>\n",
              "      <th>4</th>\n",
              "      <td>1118</td>\n",
              "      <td>Clocks</td>\n",
              "      <td>2002</td>\n",
              "      <td>87</td>\n",
              "      <td>2.0</td>\n",
              "      <td>8</td>\n",
              "      <td>4</td>\n",
              "    </tr>\n",
              "    <tr>\n",
              "      <th>5</th>\n",
              "      <td>1286</td>\n",
              "      <td>Somebody To Love</td>\n",
              "      <td>2010</td>\n",
              "      <td>82</td>\n",
              "      <td>3.0</td>\n",
              "      <td>8</td>\n",
              "      <td>5</td>\n",
              "    </tr>\n",
              "    <tr>\n",
              "      <th>6</th>\n",
              "      <td>1480</td>\n",
              "      <td>Fast As I Can</td>\n",
              "      <td>2000</td>\n",
              "      <td>42</td>\n",
              "      <td>1.0</td>\n",
              "      <td>7</td>\n",
              "      <td>1</td>\n",
              "    </tr>\n",
              "    <tr>\n",
              "      <th>7</th>\n",
              "      <td>7796</td>\n",
              "      <td>Love Story</td>\n",
              "      <td>2008</td>\n",
              "      <td>100</td>\n",
              "      <td>1.0</td>\n",
              "      <td>6</td>\n",
              "      <td>2</td>\n",
              "    </tr>\n",
              "    <tr>\n",
              "      <th>8</th>\n",
              "      <td>4676</td>\n",
              "      <td>The Trouble With Love Is</td>\n",
              "      <td>2003</td>\n",
              "      <td>78</td>\n",
              "      <td>1.0</td>\n",
              "      <td>6</td>\n",
              "      <td>1</td>\n",
              "    </tr>\n",
              "    <tr>\n",
              "      <th>9</th>\n",
              "      <td>8107</td>\n",
              "      <td>You Only Live Once</td>\n",
              "      <td>2005</td>\n",
              "      <td>73</td>\n",
              "      <td>1.0</td>\n",
              "      <td>6</td>\n",
              "      <td>1</td>\n",
              "    </tr>\n",
              "  </tbody>\n",
              "</table>\n",
              "</div>\n",
              "    <div class=\"colab-df-buttons\">\n",
              "\n",
              "  <div class=\"colab-df-container\">\n",
              "    <button class=\"colab-df-convert\" onclick=\"convertToInteractive('df-62d4c418-d328-4b19-974d-95d0ba8f8d94')\"\n",
              "            title=\"Convert this dataframe to an interactive table.\"\n",
              "            style=\"display:none;\">\n",
              "\n",
              "  <svg xmlns=\"http://www.w3.org/2000/svg\" height=\"24px\" viewBox=\"0 -960 960 960\">\n",
              "    <path d=\"M120-120v-720h720v720H120Zm60-500h600v-160H180v160Zm220 220h160v-160H400v160Zm0 220h160v-160H400v160ZM180-400h160v-160H180v160Zm440 0h160v-160H620v160ZM180-180h160v-160H180v160Zm440 0h160v-160H620v160Z\"/>\n",
              "  </svg>\n",
              "    </button>\n",
              "\n",
              "  <style>\n",
              "    .colab-df-container {\n",
              "      display:flex;\n",
              "      gap: 12px;\n",
              "    }\n",
              "\n",
              "    .colab-df-convert {\n",
              "      background-color: #E8F0FE;\n",
              "      border: none;\n",
              "      border-radius: 50%;\n",
              "      cursor: pointer;\n",
              "      display: none;\n",
              "      fill: #1967D2;\n",
              "      height: 32px;\n",
              "      padding: 0 0 0 0;\n",
              "      width: 32px;\n",
              "    }\n",
              "\n",
              "    .colab-df-convert:hover {\n",
              "      background-color: #E2EBFA;\n",
              "      box-shadow: 0px 1px 2px rgba(60, 64, 67, 0.3), 0px 1px 3px 1px rgba(60, 64, 67, 0.15);\n",
              "      fill: #174EA6;\n",
              "    }\n",
              "\n",
              "    .colab-df-buttons div {\n",
              "      margin-bottom: 4px;\n",
              "    }\n",
              "\n",
              "    [theme=dark] .colab-df-convert {\n",
              "      background-color: #3B4455;\n",
              "      fill: #D2E3FC;\n",
              "    }\n",
              "\n",
              "    [theme=dark] .colab-df-convert:hover {\n",
              "      background-color: #434B5C;\n",
              "      box-shadow: 0px 1px 3px 1px rgba(0, 0, 0, 0.15);\n",
              "      filter: drop-shadow(0px 1px 2px rgba(0, 0, 0, 0.3));\n",
              "      fill: #FFFFFF;\n",
              "    }\n",
              "  </style>\n",
              "\n",
              "    <script>\n",
              "      const buttonEl =\n",
              "        document.querySelector('#df-62d4c418-d328-4b19-974d-95d0ba8f8d94 button.colab-df-convert');\n",
              "      buttonEl.style.display =\n",
              "        google.colab.kernel.accessAllowed ? 'block' : 'none';\n",
              "\n",
              "      async function convertToInteractive(key) {\n",
              "        const element = document.querySelector('#df-62d4c418-d328-4b19-974d-95d0ba8f8d94');\n",
              "        const dataTable =\n",
              "          await google.colab.kernel.invokeFunction('convertToInteractive',\n",
              "                                                    [key], {});\n",
              "        if (!dataTable) return;\n",
              "\n",
              "        const docLinkHtml = 'Like what you see? Visit the ' +\n",
              "          '<a target=\"_blank\" href=https://colab.research.google.com/notebooks/data_table.ipynb>data table notebook</a>'\n",
              "          + ' to learn more about interactive tables.';\n",
              "        element.innerHTML = '';\n",
              "        dataTable['output_type'] = 'display_data';\n",
              "        await google.colab.output.renderOutput(dataTable, element);\n",
              "        const docLink = document.createElement('div');\n",
              "        docLink.innerHTML = docLinkHtml;\n",
              "        element.appendChild(docLink);\n",
              "      }\n",
              "    </script>\n",
              "  </div>\n",
              "\n",
              "\n",
              "<div id=\"df-526526be-eb71-4aa0-bdfb-13525c74dcfe\">\n",
              "  <button class=\"colab-df-quickchart\" onclick=\"quickchart('df-526526be-eb71-4aa0-bdfb-13525c74dcfe')\"\n",
              "            title=\"Suggest charts\"\n",
              "            style=\"display:none;\">\n",
              "\n",
              "<svg xmlns=\"http://www.w3.org/2000/svg\" height=\"24px\"viewBox=\"0 0 24 24\"\n",
              "     width=\"24px\">\n",
              "    <g>\n",
              "        <path d=\"M19 3H5c-1.1 0-2 .9-2 2v14c0 1.1.9 2 2 2h14c1.1 0 2-.9 2-2V5c0-1.1-.9-2-2-2zM9 17H7v-7h2v7zm4 0h-2V7h2v10zm4 0h-2v-4h2v4z\"/>\n",
              "    </g>\n",
              "</svg>\n",
              "  </button>\n",
              "\n",
              "<style>\n",
              "  .colab-df-quickchart {\n",
              "      --bg-color: #E8F0FE;\n",
              "      --fill-color: #1967D2;\n",
              "      --hover-bg-color: #E2EBFA;\n",
              "      --hover-fill-color: #174EA6;\n",
              "      --disabled-fill-color: #AAA;\n",
              "      --disabled-bg-color: #DDD;\n",
              "  }\n",
              "\n",
              "  [theme=dark] .colab-df-quickchart {\n",
              "      --bg-color: #3B4455;\n",
              "      --fill-color: #D2E3FC;\n",
              "      --hover-bg-color: #434B5C;\n",
              "      --hover-fill-color: #FFFFFF;\n",
              "      --disabled-bg-color: #3B4455;\n",
              "      --disabled-fill-color: #666;\n",
              "  }\n",
              "\n",
              "  .colab-df-quickchart {\n",
              "    background-color: var(--bg-color);\n",
              "    border: none;\n",
              "    border-radius: 50%;\n",
              "    cursor: pointer;\n",
              "    display: none;\n",
              "    fill: var(--fill-color);\n",
              "    height: 32px;\n",
              "    padding: 0;\n",
              "    width: 32px;\n",
              "  }\n",
              "\n",
              "  .colab-df-quickchart:hover {\n",
              "    background-color: var(--hover-bg-color);\n",
              "    box-shadow: 0 1px 2px rgba(60, 64, 67, 0.3), 0 1px 3px 1px rgba(60, 64, 67, 0.15);\n",
              "    fill: var(--button-hover-fill-color);\n",
              "  }\n",
              "\n",
              "  .colab-df-quickchart-complete:disabled,\n",
              "  .colab-df-quickchart-complete:disabled:hover {\n",
              "    background-color: var(--disabled-bg-color);\n",
              "    fill: var(--disabled-fill-color);\n",
              "    box-shadow: none;\n",
              "  }\n",
              "\n",
              "  .colab-df-spinner {\n",
              "    border: 2px solid var(--fill-color);\n",
              "    border-color: transparent;\n",
              "    border-bottom-color: var(--fill-color);\n",
              "    animation:\n",
              "      spin 1s steps(1) infinite;\n",
              "  }\n",
              "\n",
              "  @keyframes spin {\n",
              "    0% {\n",
              "      border-color: transparent;\n",
              "      border-bottom-color: var(--fill-color);\n",
              "      border-left-color: var(--fill-color);\n",
              "    }\n",
              "    20% {\n",
              "      border-color: transparent;\n",
              "      border-left-color: var(--fill-color);\n",
              "      border-top-color: var(--fill-color);\n",
              "    }\n",
              "    30% {\n",
              "      border-color: transparent;\n",
              "      border-left-color: var(--fill-color);\n",
              "      border-top-color: var(--fill-color);\n",
              "      border-right-color: var(--fill-color);\n",
              "    }\n",
              "    40% {\n",
              "      border-color: transparent;\n",
              "      border-right-color: var(--fill-color);\n",
              "      border-top-color: var(--fill-color);\n",
              "    }\n",
              "    60% {\n",
              "      border-color: transparent;\n",
              "      border-right-color: var(--fill-color);\n",
              "    }\n",
              "    80% {\n",
              "      border-color: transparent;\n",
              "      border-right-color: var(--fill-color);\n",
              "      border-bottom-color: var(--fill-color);\n",
              "    }\n",
              "    90% {\n",
              "      border-color: transparent;\n",
              "      border-bottom-color: var(--fill-color);\n",
              "    }\n",
              "  }\n",
              "</style>\n",
              "\n",
              "  <script>\n",
              "    async function quickchart(key) {\n",
              "      const quickchartButtonEl =\n",
              "        document.querySelector('#' + key + ' button');\n",
              "      quickchartButtonEl.disabled = true;  // To prevent multiple clicks.\n",
              "      quickchartButtonEl.classList.add('colab-df-spinner');\n",
              "      try {\n",
              "        const charts = await google.colab.kernel.invokeFunction(\n",
              "            'suggestCharts', [key], {});\n",
              "      } catch (error) {\n",
              "        console.error('Error during call to suggestCharts:', error);\n",
              "      }\n",
              "      quickchartButtonEl.classList.remove('colab-df-spinner');\n",
              "      quickchartButtonEl.classList.add('colab-df-quickchart-complete');\n",
              "    }\n",
              "    (() => {\n",
              "      let quickchartButtonEl =\n",
              "        document.querySelector('#df-526526be-eb71-4aa0-bdfb-13525c74dcfe button');\n",
              "      quickchartButtonEl.style.display =\n",
              "        google.colab.kernel.accessAllowed ? 'block' : 'none';\n",
              "    })();\n",
              "  </script>\n",
              "</div>\n",
              "\n",
              "    </div>\n",
              "  </div>\n"
            ]
          },
          "metadata": {},
          "execution_count": 77
        }
      ],
      "source": [
        "# Multivariate categorical analysis: Top songs with year information\n",
        "df_final.groupby(['song_id','song_title','song_year','artist_popularity'])['play_count'].agg(['mean', 'count', 'max']).sort_values(by='count', ascending=False).reset_index().round().head(10)"
      ]
    },
    {
      "cell_type": "markdown",
      "metadata": {
        "id": "joFF5zndX1Dk"
      },
      "source": [
        "Songs played in a year"
      ]
    },
    {
      "cell_type": "code",
      "execution_count": 78,
      "metadata": {
        "id": "bQp2iVMC2T9Y",
        "colab": {
          "base_uri": "https://localhost:8080/",
          "height": 363
        },
        "outputId": "cac8aa57-9560-4a7e-8081-392b304f81c9"
      },
      "outputs": [
        {
          "output_type": "execute_result",
          "data": {
            "text/plain": [
              "   song_year  mean  count  max\n",
              "0       2010   2.0     35    5\n",
              "1       2009   2.0    139    5\n",
              "2       2008   2.0    127    4\n",
              "3       2007   2.0    123    5\n",
              "4       2006   2.0     71    5\n",
              "5       2005   2.0     57    5\n",
              "6       2004   2.0     13    3\n",
              "7       2003   2.0     65    5\n",
              "8       2002   2.0     38    5\n",
              "9       2001   2.0     22    5"
            ],
            "text/html": [
              "\n",
              "  <div id=\"df-2bf520bf-2885-4cd6-863b-484e5bca0fb9\" class=\"colab-df-container\">\n",
              "    <div>\n",
              "<style scoped>\n",
              "    .dataframe tbody tr th:only-of-type {\n",
              "        vertical-align: middle;\n",
              "    }\n",
              "\n",
              "    .dataframe tbody tr th {\n",
              "        vertical-align: top;\n",
              "    }\n",
              "\n",
              "    .dataframe thead th {\n",
              "        text-align: right;\n",
              "    }\n",
              "</style>\n",
              "<table border=\"1\" class=\"dataframe\">\n",
              "  <thead>\n",
              "    <tr style=\"text-align: right;\">\n",
              "      <th></th>\n",
              "      <th>song_year</th>\n",
              "      <th>mean</th>\n",
              "      <th>count</th>\n",
              "      <th>max</th>\n",
              "    </tr>\n",
              "  </thead>\n",
              "  <tbody>\n",
              "    <tr>\n",
              "      <th>0</th>\n",
              "      <td>2010</td>\n",
              "      <td>2.0</td>\n",
              "      <td>35</td>\n",
              "      <td>5</td>\n",
              "    </tr>\n",
              "    <tr>\n",
              "      <th>1</th>\n",
              "      <td>2009</td>\n",
              "      <td>2.0</td>\n",
              "      <td>139</td>\n",
              "      <td>5</td>\n",
              "    </tr>\n",
              "    <tr>\n",
              "      <th>2</th>\n",
              "      <td>2008</td>\n",
              "      <td>2.0</td>\n",
              "      <td>127</td>\n",
              "      <td>4</td>\n",
              "    </tr>\n",
              "    <tr>\n",
              "      <th>3</th>\n",
              "      <td>2007</td>\n",
              "      <td>2.0</td>\n",
              "      <td>123</td>\n",
              "      <td>5</td>\n",
              "    </tr>\n",
              "    <tr>\n",
              "      <th>4</th>\n",
              "      <td>2006</td>\n",
              "      <td>2.0</td>\n",
              "      <td>71</td>\n",
              "      <td>5</td>\n",
              "    </tr>\n",
              "    <tr>\n",
              "      <th>5</th>\n",
              "      <td>2005</td>\n",
              "      <td>2.0</td>\n",
              "      <td>57</td>\n",
              "      <td>5</td>\n",
              "    </tr>\n",
              "    <tr>\n",
              "      <th>6</th>\n",
              "      <td>2004</td>\n",
              "      <td>2.0</td>\n",
              "      <td>13</td>\n",
              "      <td>3</td>\n",
              "    </tr>\n",
              "    <tr>\n",
              "      <th>7</th>\n",
              "      <td>2003</td>\n",
              "      <td>2.0</td>\n",
              "      <td>65</td>\n",
              "      <td>5</td>\n",
              "    </tr>\n",
              "    <tr>\n",
              "      <th>8</th>\n",
              "      <td>2002</td>\n",
              "      <td>2.0</td>\n",
              "      <td>38</td>\n",
              "      <td>5</td>\n",
              "    </tr>\n",
              "    <tr>\n",
              "      <th>9</th>\n",
              "      <td>2001</td>\n",
              "      <td>2.0</td>\n",
              "      <td>22</td>\n",
              "      <td>5</td>\n",
              "    </tr>\n",
              "  </tbody>\n",
              "</table>\n",
              "</div>\n",
              "    <div class=\"colab-df-buttons\">\n",
              "\n",
              "  <div class=\"colab-df-container\">\n",
              "    <button class=\"colab-df-convert\" onclick=\"convertToInteractive('df-2bf520bf-2885-4cd6-863b-484e5bca0fb9')\"\n",
              "            title=\"Convert this dataframe to an interactive table.\"\n",
              "            style=\"display:none;\">\n",
              "\n",
              "  <svg xmlns=\"http://www.w3.org/2000/svg\" height=\"24px\" viewBox=\"0 -960 960 960\">\n",
              "    <path d=\"M120-120v-720h720v720H120Zm60-500h600v-160H180v160Zm220 220h160v-160H400v160Zm0 220h160v-160H400v160ZM180-400h160v-160H180v160Zm440 0h160v-160H620v160ZM180-180h160v-160H180v160Zm440 0h160v-160H620v160Z\"/>\n",
              "  </svg>\n",
              "    </button>\n",
              "\n",
              "  <style>\n",
              "    .colab-df-container {\n",
              "      display:flex;\n",
              "      gap: 12px;\n",
              "    }\n",
              "\n",
              "    .colab-df-convert {\n",
              "      background-color: #E8F0FE;\n",
              "      border: none;\n",
              "      border-radius: 50%;\n",
              "      cursor: pointer;\n",
              "      display: none;\n",
              "      fill: #1967D2;\n",
              "      height: 32px;\n",
              "      padding: 0 0 0 0;\n",
              "      width: 32px;\n",
              "    }\n",
              "\n",
              "    .colab-df-convert:hover {\n",
              "      background-color: #E2EBFA;\n",
              "      box-shadow: 0px 1px 2px rgba(60, 64, 67, 0.3), 0px 1px 3px 1px rgba(60, 64, 67, 0.15);\n",
              "      fill: #174EA6;\n",
              "    }\n",
              "\n",
              "    .colab-df-buttons div {\n",
              "      margin-bottom: 4px;\n",
              "    }\n",
              "\n",
              "    [theme=dark] .colab-df-convert {\n",
              "      background-color: #3B4455;\n",
              "      fill: #D2E3FC;\n",
              "    }\n",
              "\n",
              "    [theme=dark] .colab-df-convert:hover {\n",
              "      background-color: #434B5C;\n",
              "      box-shadow: 0px 1px 3px 1px rgba(0, 0, 0, 0.15);\n",
              "      filter: drop-shadow(0px 1px 2px rgba(0, 0, 0, 0.3));\n",
              "      fill: #FFFFFF;\n",
              "    }\n",
              "  </style>\n",
              "\n",
              "    <script>\n",
              "      const buttonEl =\n",
              "        document.querySelector('#df-2bf520bf-2885-4cd6-863b-484e5bca0fb9 button.colab-df-convert');\n",
              "      buttonEl.style.display =\n",
              "        google.colab.kernel.accessAllowed ? 'block' : 'none';\n",
              "\n",
              "      async function convertToInteractive(key) {\n",
              "        const element = document.querySelector('#df-2bf520bf-2885-4cd6-863b-484e5bca0fb9');\n",
              "        const dataTable =\n",
              "          await google.colab.kernel.invokeFunction('convertToInteractive',\n",
              "                                                    [key], {});\n",
              "        if (!dataTable) return;\n",
              "\n",
              "        const docLinkHtml = 'Like what you see? Visit the ' +\n",
              "          '<a target=\"_blank\" href=https://colab.research.google.com/notebooks/data_table.ipynb>data table notebook</a>'\n",
              "          + ' to learn more about interactive tables.';\n",
              "        element.innerHTML = '';\n",
              "        dataTable['output_type'] = 'display_data';\n",
              "        await google.colab.output.renderOutput(dataTable, element);\n",
              "        const docLink = document.createElement('div');\n",
              "        docLink.innerHTML = docLinkHtml;\n",
              "        element.appendChild(docLink);\n",
              "      }\n",
              "    </script>\n",
              "  </div>\n",
              "\n",
              "\n",
              "<div id=\"df-ef49aa0c-dc65-4401-a442-7c678f99e944\">\n",
              "  <button class=\"colab-df-quickchart\" onclick=\"quickchart('df-ef49aa0c-dc65-4401-a442-7c678f99e944')\"\n",
              "            title=\"Suggest charts\"\n",
              "            style=\"display:none;\">\n",
              "\n",
              "<svg xmlns=\"http://www.w3.org/2000/svg\" height=\"24px\"viewBox=\"0 0 24 24\"\n",
              "     width=\"24px\">\n",
              "    <g>\n",
              "        <path d=\"M19 3H5c-1.1 0-2 .9-2 2v14c0 1.1.9 2 2 2h14c1.1 0 2-.9 2-2V5c0-1.1-.9-2-2-2zM9 17H7v-7h2v7zm4 0h-2V7h2v10zm4 0h-2v-4h2v4z\"/>\n",
              "    </g>\n",
              "</svg>\n",
              "  </button>\n",
              "\n",
              "<style>\n",
              "  .colab-df-quickchart {\n",
              "      --bg-color: #E8F0FE;\n",
              "      --fill-color: #1967D2;\n",
              "      --hover-bg-color: #E2EBFA;\n",
              "      --hover-fill-color: #174EA6;\n",
              "      --disabled-fill-color: #AAA;\n",
              "      --disabled-bg-color: #DDD;\n",
              "  }\n",
              "\n",
              "  [theme=dark] .colab-df-quickchart {\n",
              "      --bg-color: #3B4455;\n",
              "      --fill-color: #D2E3FC;\n",
              "      --hover-bg-color: #434B5C;\n",
              "      --hover-fill-color: #FFFFFF;\n",
              "      --disabled-bg-color: #3B4455;\n",
              "      --disabled-fill-color: #666;\n",
              "  }\n",
              "\n",
              "  .colab-df-quickchart {\n",
              "    background-color: var(--bg-color);\n",
              "    border: none;\n",
              "    border-radius: 50%;\n",
              "    cursor: pointer;\n",
              "    display: none;\n",
              "    fill: var(--fill-color);\n",
              "    height: 32px;\n",
              "    padding: 0;\n",
              "    width: 32px;\n",
              "  }\n",
              "\n",
              "  .colab-df-quickchart:hover {\n",
              "    background-color: var(--hover-bg-color);\n",
              "    box-shadow: 0 1px 2px rgba(60, 64, 67, 0.3), 0 1px 3px 1px rgba(60, 64, 67, 0.15);\n",
              "    fill: var(--button-hover-fill-color);\n",
              "  }\n",
              "\n",
              "  .colab-df-quickchart-complete:disabled,\n",
              "  .colab-df-quickchart-complete:disabled:hover {\n",
              "    background-color: var(--disabled-bg-color);\n",
              "    fill: var(--disabled-fill-color);\n",
              "    box-shadow: none;\n",
              "  }\n",
              "\n",
              "  .colab-df-spinner {\n",
              "    border: 2px solid var(--fill-color);\n",
              "    border-color: transparent;\n",
              "    border-bottom-color: var(--fill-color);\n",
              "    animation:\n",
              "      spin 1s steps(1) infinite;\n",
              "  }\n",
              "\n",
              "  @keyframes spin {\n",
              "    0% {\n",
              "      border-color: transparent;\n",
              "      border-bottom-color: var(--fill-color);\n",
              "      border-left-color: var(--fill-color);\n",
              "    }\n",
              "    20% {\n",
              "      border-color: transparent;\n",
              "      border-left-color: var(--fill-color);\n",
              "      border-top-color: var(--fill-color);\n",
              "    }\n",
              "    30% {\n",
              "      border-color: transparent;\n",
              "      border-left-color: var(--fill-color);\n",
              "      border-top-color: var(--fill-color);\n",
              "      border-right-color: var(--fill-color);\n",
              "    }\n",
              "    40% {\n",
              "      border-color: transparent;\n",
              "      border-right-color: var(--fill-color);\n",
              "      border-top-color: var(--fill-color);\n",
              "    }\n",
              "    60% {\n",
              "      border-color: transparent;\n",
              "      border-right-color: var(--fill-color);\n",
              "    }\n",
              "    80% {\n",
              "      border-color: transparent;\n",
              "      border-right-color: var(--fill-color);\n",
              "      border-bottom-color: var(--fill-color);\n",
              "    }\n",
              "    90% {\n",
              "      border-color: transparent;\n",
              "      border-bottom-color: var(--fill-color);\n",
              "    }\n",
              "  }\n",
              "</style>\n",
              "\n",
              "  <script>\n",
              "    async function quickchart(key) {\n",
              "      const quickchartButtonEl =\n",
              "        document.querySelector('#' + key + ' button');\n",
              "      quickchartButtonEl.disabled = true;  // To prevent multiple clicks.\n",
              "      quickchartButtonEl.classList.add('colab-df-spinner');\n",
              "      try {\n",
              "        const charts = await google.colab.kernel.invokeFunction(\n",
              "            'suggestCharts', [key], {});\n",
              "      } catch (error) {\n",
              "        console.error('Error during call to suggestCharts:', error);\n",
              "      }\n",
              "      quickchartButtonEl.classList.remove('colab-df-spinner');\n",
              "      quickchartButtonEl.classList.add('colab-df-quickchart-complete');\n",
              "    }\n",
              "    (() => {\n",
              "      let quickchartButtonEl =\n",
              "        document.querySelector('#df-ef49aa0c-dc65-4401-a442-7c678f99e944 button');\n",
              "      quickchartButtonEl.style.display =\n",
              "        google.colab.kernel.accessAllowed ? 'block' : 'none';\n",
              "    })();\n",
              "  </script>\n",
              "</div>\n",
              "\n",
              "    </div>\n",
              "  </div>\n"
            ]
          },
          "metadata": {},
          "execution_count": 78
        }
      ],
      "source": [
        "# Find out the number of songs played in a year\n",
        "  # Hint: Use groupby function on the 'year' column\n",
        "top_songs_year = df_final.groupby(['song_year'])['play_count'].agg(['mean', 'count','max']).sort_values(['song_year'],ascending=False).reset_index()\n",
        "round(top_songs_year).head(10)"
      ]
    },
    {
      "cell_type": "code",
      "execution_count": 79,
      "metadata": {
        "id": "bZCkOiAB2T9Y",
        "colab": {
          "base_uri": "https://localhost:8080/",
          "height": 336
        },
        "outputId": "ee7e8a1a-1e4d-4189-c1ff-bd1d96e382f8"
      },
      "outputs": [
        {
          "output_type": "display_data",
          "data": {
            "text/plain": [
              "<Figure size 1500x400 with 1 Axes>"
            ],
            "image/png": "[encoded data removed]"
          },
          "metadata": {}
        }
      ],
      "source": [
        "# Create a barplot plot with y label as \"number of titles played\" and x -axis year\n",
        "\n",
        "# Set the figure size\n",
        "fig = plt.figure(figsize= (15,4))\n",
        "sns.barplot(x='song_year', y='count', data=top_songs_year, color='black')\n",
        "# Set the x label of the plot\n",
        "plt.xlabel(\"song_year\")\n",
        "# Set the y label of the plot\n",
        "plt.ylabel('number of titles played')\n",
        "# Show the plot\n",
        "fig.tight_layout()"
      ]
    },
    {
      "cell_type": "markdown",
      "metadata": {
        "id": "9VThYg7voGIz"
      },
      "source": [
        "## Building various models"
      ]
    },
    {
      "cell_type": "markdown",
      "metadata": {
        "id": "Ituk9wA4Idib"
      },
      "source": [
        "### **M1) Popularity-Based Recommendation Systems**"
      ]
    },
    {
      "cell_type": "markdown",
      "metadata": {
        "id": "462hsbxaI1ED"
      },
      "source": [
        "Let's take the count and sum of play counts of the songs and build the popularity recommendation systems based on the sum of play counts."
      ]
    },
    {
      "cell_type": "code",
      "execution_count": 80,
      "metadata": {
        "id": "UXhBZlDE-jEu"
      },
      "outputs": [],
      "source": [
        "# Calculating average play_count\n",
        "       # Hint: Use groupby function on the song_id column\n",
        "avg_counts= df_final.groupby('song_id')['play_count'].mean().reset_index()\n",
        "\n",
        "# Calculating the frequency a song is played\n",
        "      # Hint: Use groupby function on the song_id column\n",
        "count_counts = df_final.groupby('song_id')['play_count'].count().reset_index()"
      ]
    },
    {
      "cell_type": "code",
      "execution_count": 81,
      "metadata": {
        "id": "v2XYdXvWdyys",
        "colab": {
          "base_uri": "https://localhost:8080/",
          "height": 206
        },
        "outputId": "f43800bd-5249-4bca-e7b1-50a07ffe2bb3"
      },
      "outputs": [
        {
          "output_type": "execute_result",
          "data": {
            "text/plain": [
              "   song_id             song_title      mean  count\n",
              "0     8582           Use Somebody  2.142857     14\n",
              "1     6293                 Yellow  2.400000     10\n",
              "2      703  They Might Follow You  1.500000     10\n",
              "3     4270   Don't Stop The Music  1.000000      9\n",
              "4     1118                 Clocks  1.875000      8"
            ],
            "text/html": [
              "\n",
              "  <div id=\"df-4100b467-73b4-4c13-8291-5b8e4fdee0ad\" class=\"colab-df-container\">\n",
              "    <div>\n",
              "<style scoped>\n",
              "    .dataframe tbody tr th:only-of-type {\n",
              "        vertical-align: middle;\n",
              "    }\n",
              "\n",
              "    .dataframe tbody tr th {\n",
              "        vertical-align: top;\n",
              "    }\n",
              "\n",
              "    .dataframe thead th {\n",
              "        text-align: right;\n",
              "    }\n",
              "</style>\n",
              "<table border=\"1\" class=\"dataframe\">\n",
              "  <thead>\n",
              "    <tr style=\"text-align: right;\">\n",
              "      <th></th>\n",
              "      <th>song_id</th>\n",
              "      <th>song_title</th>\n",
              "      <th>mean</th>\n",
              "      <th>count</th>\n",
              "    </tr>\n",
              "  </thead>\n",
              "  <tbody>\n",
              "    <tr>\n",
              "      <th>0</th>\n",
              "      <td>8582</td>\n",
              "      <td>Use Somebody</td>\n",
              "      <td>2.142857</td>\n",
              "      <td>14</td>\n",
              "    </tr>\n",
              "    <tr>\n",
              "      <th>1</th>\n",
              "      <td>6293</td>\n",
              "      <td>Yellow</td>\n",
              "      <td>2.400000</td>\n",
              "      <td>10</td>\n",
              "    </tr>\n",
              "    <tr>\n",
              "      <th>2</th>\n",
              "      <td>703</td>\n",
              "      <td>They Might Follow You</td>\n",
              "      <td>1.500000</td>\n",
              "      <td>10</td>\n",
              "    </tr>\n",
              "    <tr>\n",
              "      <th>3</th>\n",
              "      <td>4270</td>\n",
              "      <td>Don't Stop The Music</td>\n",
              "      <td>1.000000</td>\n",
              "      <td>9</td>\n",
              "    </tr>\n",
              "    <tr>\n",
              "      <th>4</th>\n",
              "      <td>1118</td>\n",
              "      <td>Clocks</td>\n",
              "      <td>1.875000</td>\n",
              "      <td>8</td>\n",
              "    </tr>\n",
              "  </tbody>\n",
              "</table>\n",
              "</div>\n",
              "    <div class=\"colab-df-buttons\">\n",
              "\n",
              "  <div class=\"colab-df-container\">\n",
              "    <button class=\"colab-df-convert\" onclick=\"convertToInteractive('df-4100b467-73b4-4c13-8291-5b8e4fdee0ad')\"\n",
              "            title=\"Convert this dataframe to an interactive table.\"\n",
              "            style=\"display:none;\">\n",
              "\n",
              "  <svg xmlns=\"http://www.w3.org/2000/svg\" height=\"24px\" viewBox=\"0 -960 960 960\">\n",
              "    <path d=\"M120-120v-720h720v720H120Zm60-500h600v-160H180v160Zm220 220h160v-160H400v160Zm0 220h160v-160H400v160ZM180-400h160v-160H180v160Zm440 0h160v-160H620v160ZM180-180h160v-160H180v160Zm440 0h160v-160H620v160Z\"/>\n",
              "  </svg>\n",
              "    </button>\n",
              "\n",
              "  <style>\n",
              "    .colab-df-container {\n",
              "      display:flex;\n",
              "      gap: 12px;\n",
              "    }\n",
              "\n",
              "    .colab-df-convert {\n",
              "      background-color: #E8F0FE;\n",
              "      border: none;\n",
              "      border-radius: 50%;\n",
              "      cursor: pointer;\n",
              "      display: none;\n",
              "      fill: #1967D2;\n",
              "      height: 32px;\n",
              "      padding: 0 0 0 0;\n",
              "      width: 32px;\n",
              "    }\n",
              "\n",
              "    .colab-df-convert:hover {\n",
              "      background-color: #E2EBFA;\n",
              "      box-shadow: 0px 1px 2px rgba(60, 64, 67, 0.3), 0px 1px 3px 1px rgba(60, 64, 67, 0.15);\n",
              "      fill: #174EA6;\n",
              "    }\n",
              "\n",
              "    .colab-df-buttons div {\n",
              "      margin-bottom: 4px;\n",
              "    }\n",
              "\n",
              "    [theme=dark] .colab-df-convert {\n",
              "      background-color: #3B4455;\n",
              "      fill: #D2E3FC;\n",
              "    }\n",
              "\n",
              "    [theme=dark] .colab-df-convert:hover {\n",
              "      background-color: #434B5C;\n",
              "      box-shadow: 0px 1px 3px 1px rgba(0, 0, 0, 0.15);\n",
              "      filter: drop-shadow(0px 1px 2px rgba(0, 0, 0, 0.3));\n",
              "      fill: #FFFFFF;\n",
              "    }\n",
              "  </style>\n",
              "\n",
              "    <script>\n",
              "      const buttonEl =\n",
              "        document.querySelector('#df-4100b467-73b4-4c13-8291-5b8e4fdee0ad button.colab-df-convert');\n",
              "      buttonEl.style.display =\n",
              "        google.colab.kernel.accessAllowed ? 'block' : 'none';\n",
              "\n",
              "      async function convertToInteractive(key) {\n",
              "        const element = document.querySelector('#df-4100b467-73b4-4c13-8291-5b8e4fdee0ad');\n",
              "        const dataTable =\n",
              "          await google.colab.kernel.invokeFunction('convertToInteractive',\n",
              "                                                    [key], {});\n",
              "        if (!dataTable) return;\n",
              "\n",
              "        const docLinkHtml = 'Like what you see? Visit the ' +\n",
              "          '<a target=\"_blank\" href=https://colab.research.google.com/notebooks/data_table.ipynb>data table notebook</a>'\n",
              "          + ' to learn more about interactive tables.';\n",
              "        element.innerHTML = '';\n",
              "        dataTable['output_type'] = 'display_data';\n",
              "        await google.colab.output.renderOutput(dataTable, element);\n",
              "        const docLink = document.createElement('div');\n",
              "        docLink.innerHTML = docLinkHtml;\n",
              "        element.appendChild(docLink);\n",
              "      }\n",
              "    </script>\n",
              "  </div>\n",
              "\n",
              "\n",
              "<div id=\"df-f050db70-f43e-42e4-9797-d7d5f7c26183\">\n",
              "  <button class=\"colab-df-quickchart\" onclick=\"quickchart('df-f050db70-f43e-42e4-9797-d7d5f7c26183')\"\n",
              "            title=\"Suggest charts\"\n",
              "            style=\"display:none;\">\n",
              "\n",
              "<svg xmlns=\"http://www.w3.org/2000/svg\" height=\"24px\"viewBox=\"0 0 24 24\"\n",
              "     width=\"24px\">\n",
              "    <g>\n",
              "        <path d=\"M19 3H5c-1.1 0-2 .9-2 2v14c0 1.1.9 2 2 2h14c1.1 0 2-.9 2-2V5c0-1.1-.9-2-2-2zM9 17H7v-7h2v7zm4 0h-2V7h2v10zm4 0h-2v-4h2v4z\"/>\n",
              "    </g>\n",
              "</svg>\n",
              "  </button>\n",
              "\n",
              "<style>\n",
              "  .colab-df-quickchart {\n",
              "      --bg-color: #E8F0FE;\n",
              "      --fill-color: #1967D2;\n",
              "      --hover-bg-color: #E2EBFA;\n",
              "      --hover-fill-color: #174EA6;\n",
              "      --disabled-fill-color: #AAA;\n",
              "      --disabled-bg-color: #DDD;\n",
              "  }\n",
              "\n",
              "  [theme=dark] .colab-df-quickchart {\n",
              "      --bg-color: #3B4455;\n",
              "      --fill-color: #D2E3FC;\n",
              "      --hover-bg-color: #434B5C;\n",
              "      --hover-fill-color: #FFFFFF;\n",
              "      --disabled-bg-color: #3B4455;\n",
              "      --disabled-fill-color: #666;\n",
              "  }\n",
              "\n",
              "  .colab-df-quickchart {\n",
              "    background-color: var(--bg-color);\n",
              "    border: none;\n",
              "    border-radius: 50%;\n",
              "    cursor: pointer;\n",
              "    display: none;\n",
              "    fill: var(--fill-color);\n",
              "    height: 32px;\n",
              "    padding: 0;\n",
              "    width: 32px;\n",
              "  }\n",
              "\n",
              "  .colab-df-quickchart:hover {\n",
              "    background-color: var(--hover-bg-color);\n",
              "    box-shadow: 0 1px 2px rgba(60, 64, 67, 0.3), 0 1px 3px 1px rgba(60, 64, 67, 0.15);\n",
              "    fill: var(--button-hover-fill-color);\n",
              "  }\n",
              "\n",
              "  .colab-df-quickchart-complete:disabled,\n",
              "  .colab-df-quickchart-complete:disabled:hover {\n",
              "    background-color: var(--disabled-bg-color);\n",
              "    fill: var(--disabled-fill-color);\n",
              "    box-shadow: none;\n",
              "  }\n",
              "\n",
              "  .colab-df-spinner {\n",
              "    border: 2px solid var(--fill-color);\n",
              "    border-color: transparent;\n",
              "    border-bottom-color: var(--fill-color);\n",
              "    animation:\n",
              "      spin 1s steps(1) infinite;\n",
              "  }\n",
              "\n",
              "  @keyframes spin {\n",
              "    0% {\n",
              "      border-color: transparent;\n",
              "      border-bottom-color: var(--fill-color);\n",
              "      border-left-color: var(--fill-color);\n",
              "    }\n",
              "    20% {\n",
              "      border-color: transparent;\n",
              "      border-left-color: var(--fill-color);\n",
              "      border-top-color: var(--fill-color);\n",
              "    }\n",
              "    30% {\n",
              "      border-color: transparent;\n",
              "      border-left-color: var(--fill-color);\n",
              "      border-top-color: var(--fill-color);\n",
              "      border-right-color: var(--fill-color);\n",
              "    }\n",
              "    40% {\n",
              "      border-color: transparent;\n",
              "      border-right-color: var(--fill-color);\n",
              "      border-top-color: var(--fill-color);\n",
              "    }\n",
              "    60% {\n",
              "      border-color: transparent;\n",
              "      border-right-color: var(--fill-color);\n",
              "    }\n",
              "    80% {\n",
              "      border-color: transparent;\n",
              "      border-right-color: var(--fill-color);\n",
              "      border-bottom-color: var(--fill-color);\n",
              "    }\n",
              "    90% {\n",
              "      border-color: transparent;\n",
              "      border-bottom-color: var(--fill-color);\n",
              "    }\n",
              "  }\n",
              "</style>\n",
              "\n",
              "  <script>\n",
              "    async function quickchart(key) {\n",
              "      const quickchartButtonEl =\n",
              "        document.querySelector('#' + key + ' button');\n",
              "      quickchartButtonEl.disabled = true;  // To prevent multiple clicks.\n",
              "      quickchartButtonEl.classList.add('colab-df-spinner');\n",
              "      try {\n",
              "        const charts = await google.colab.kernel.invokeFunction(\n",
              "            'suggestCharts', [key], {});\n",
              "      } catch (error) {\n",
              "        console.error('Error during call to suggestCharts:', error);\n",
              "      }\n",
              "      quickchartButtonEl.classList.remove('colab-df-spinner');\n",
              "      quickchartButtonEl.classList.add('colab-df-quickchart-complete');\n",
              "    }\n",
              "    (() => {\n",
              "      let quickchartButtonEl =\n",
              "        document.querySelector('#df-f050db70-f43e-42e4-9797-d7d5f7c26183 button');\n",
              "      quickchartButtonEl.style.display =\n",
              "        google.colab.kernel.accessAllowed ? 'block' : 'none';\n",
              "    })();\n",
              "  </script>\n",
              "</div>\n",
              "\n",
              "    </div>\n",
              "  </div>\n"
            ]
          },
          "metadata": {},
          "execution_count": 81
        }
      ],
      "source": [
        "# Making a dataframe with the average_count and play_freq\n",
        "avg_play_counts = df_final.groupby(['song_id','song_title'])['play_count'].agg(['mean', 'count']).sort_values(by='count', ascending=False).reset_index()\n",
        "\n",
        "# Let us see the first five records of the final_play dataset\n",
        "avg_play_counts.head()"
      ]
    },
    {
      "cell_type": "markdown",
      "metadata": {
        "id": "WnCT-A7RK_5g"
      },
      "source": [
        "Now, let's create a function to find the top n songs for a recommendation based on the average play count of song. We can also add a threshold for a minimum number of playcounts for a song to be considered for recommendation."
      ]
    },
    {
      "cell_type": "code",
      "execution_count": 82,
      "metadata": {
        "id": "QiT9FV3GNCrb"
      },
      "outputs": [],
      "source": [
        "# Build the function to find top n songs\n",
        "\n",
        "# p1: avg_play_counts: dataframe to sort\n",
        "# p2: n: n products\n",
        "# p3: min_playcounts: def what a min interaction is (min())\n",
        "\n",
        "def top_n_songs(df, n, min_playcount_def):\n",
        "\n",
        "    # Finding songs with minimum number of playcounts\n",
        "    #min_playcount_def = df['count'].min()                                     # def a min playcount\n",
        "    min_recommendations = df[df['count'] >=  min_playcount_def]               # recommendations that comprise def of min playcounts had to be fixed to be >= as they are min requirements\n",
        "\n",
        "    # Sorting values with respect to average rating\n",
        "    sorted_recommendations = min_recommendations.sort_values(['count'], ascending = False)#.reset_index()\n",
        "\n",
        "    return sorted_recommendations[:n]"
      ]
    },
    {
      "cell_type": "code",
      "execution_count": 83,
      "metadata": {
        "id": "vyXPU4KOyDZC",
        "colab": {
          "base_uri": "https://localhost:8080/"
        },
        "outputId": "37f8ed52-d237-4266-fdc8-676e49cd08be"
      },
      "outputs": [
        {
          "output_type": "stream",
          "name": "stdout",
          "text": [
            "   song_id             song_title      mean  count\n",
            "0     8582           Use Somebody  2.142857     14\n",
            "1     6293                 Yellow  2.400000     10\n",
            "2      703  They Might Follow You  1.500000     10 \n",
            "\n",
            "    song_id             song_title      mean  count\n",
            "0     8582           Use Somebody  2.142857     14\n",
            "2      703  They Might Follow You  1.500000     10\n",
            "1     6293                 Yellow  2.400000     10 \n",
            "\n",
            "    song_id             song_title      mean  count\n",
            "0     8582           Use Somebody  2.142857     14\n",
            "2      703  They Might Follow You  1.500000     10\n",
            "1     6293                 Yellow  2.400000     10\n"
          ]
        }
      ],
      "source": [
        "# Testing function\n",
        "result = top_n_songs(avg_play_counts, 3, 5)\n",
        "test = avg_play_counts[avg_play_counts['count'] >=  5].sort_values(['count'], ascending = False)\n",
        "\n",
        "print(\n",
        "      avg_play_counts.head(3)\n",
        "      , \"\\n\\n\"\n",
        "      , result # getting the index\n",
        "      , \"\\n\\n\"\n",
        "      , test[:3]\n",
        "      )"
      ]
    },
    {
      "cell_type": "code",
      "execution_count": 84,
      "metadata": {
        "id": "GpZt_BeXgz4F",
        "colab": {
          "base_uri": "https://localhost:8080/",
          "height": 363
        },
        "outputId": "1231c1d9-e520-47c3-9b14-d602b7295ab6"
      },
      "outputs": [
        {
          "output_type": "execute_result",
          "data": {
            "text/plain": [
              "    song_id             song_title      mean  count\n",
              "0      8582           Use Somebody  2.142857     14\n",
              "2       703  They Might Follow You  1.500000     10\n",
              "1      6293                 Yellow  2.400000     10\n",
              "3      4270   Don't Stop The Music  1.000000      9\n",
              "4      1118                 Clocks  1.875000      8\n",
              "5      1286       Somebody To Love  3.250000      8\n",
              "6      1480          Fast As I Can  1.000000      7\n",
              "10     8247             Tighten Up  2.333333      6\n",
              "13     9678          Cheryl Tweedy  1.333333      6\n",
              "11     8481    Party In The U.S.A.  1.166667      6"
            ],
            "text/html": [
              "\n",
              "  <div id=\"df-c04397c3-b52f-4bb2-8b6b-ca2b4530cc10\" class=\"colab-df-container\">\n",
              "    <div>\n",
              "<style scoped>\n",
              "    .dataframe tbody tr th:only-of-type {\n",
              "        vertical-align: middle;\n",
              "    }\n",
              "\n",
              "    .dataframe tbody tr th {\n",
              "        vertical-align: top;\n",
              "    }\n",
              "\n",
              "    .dataframe thead th {\n",
              "        text-align: right;\n",
              "    }\n",
              "</style>\n",
              "<table border=\"1\" class=\"dataframe\">\n",
              "  <thead>\n",
              "    <tr style=\"text-align: right;\">\n",
              "      <th></th>\n",
              "      <th>song_id</th>\n",
              "      <th>song_title</th>\n",
              "      <th>mean</th>\n",
              "      <th>count</th>\n",
              "    </tr>\n",
              "  </thead>\n",
              "  <tbody>\n",
              "    <tr>\n",
              "      <th>0</th>\n",
              "      <td>8582</td>\n",
              "      <td>Use Somebody</td>\n",
              "      <td>2.142857</td>\n",
              "      <td>14</td>\n",
              "    </tr>\n",
              "    <tr>\n",
              "      <th>2</th>\n",
              "      <td>703</td>\n",
              "      <td>They Might Follow You</td>\n",
              "      <td>1.500000</td>\n",
              "      <td>10</td>\n",
              "    </tr>\n",
              "    <tr>\n",
              "      <th>1</th>\n",
              "      <td>6293</td>\n",
              "      <td>Yellow</td>\n",
              "      <td>2.400000</td>\n",
              "      <td>10</td>\n",
              "    </tr>\n",
              "    <tr>\n",
              "      <th>3</th>\n",
              "      <td>4270</td>\n",
              "      <td>Don't Stop The Music</td>\n",
              "      <td>1.000000</td>\n",
              "      <td>9</td>\n",
              "    </tr>\n",
              "    <tr>\n",
              "      <th>4</th>\n",
              "      <td>1118</td>\n",
              "      <td>Clocks</td>\n",
              "      <td>1.875000</td>\n",
              "      <td>8</td>\n",
              "    </tr>\n",
              "    <tr>\n",
              "      <th>5</th>\n",
              "      <td>1286</td>\n",
              "      <td>Somebody To Love</td>\n",
              "      <td>3.250000</td>\n",
              "      <td>8</td>\n",
              "    </tr>\n",
              "    <tr>\n",
              "      <th>6</th>\n",
              "      <td>1480</td>\n",
              "      <td>Fast As I Can</td>\n",
              "      <td>1.000000</td>\n",
              "      <td>7</td>\n",
              "    </tr>\n",
              "    <tr>\n",
              "      <th>10</th>\n",
              "      <td>8247</td>\n",
              "      <td>Tighten Up</td>\n",
              "      <td>2.333333</td>\n",
              "      <td>6</td>\n",
              "    </tr>\n",
              "    <tr>\n",
              "      <th>13</th>\n",
              "      <td>9678</td>\n",
              "      <td>Cheryl Tweedy</td>\n",
              "      <td>1.333333</td>\n",
              "      <td>6</td>\n",
              "    </tr>\n",
              "    <tr>\n",
              "      <th>11</th>\n",
              "      <td>8481</td>\n",
              "      <td>Party In The U.S.A.</td>\n",
              "      <td>1.166667</td>\n",
              "      <td>6</td>\n",
              "    </tr>\n",
              "  </tbody>\n",
              "</table>\n",
              "</div>\n",
              "    <div class=\"colab-df-buttons\">\n",
              "\n",
              "  <div class=\"colab-df-container\">\n",
              "    <button class=\"colab-df-convert\" onclick=\"convertToInteractive('df-c04397c3-b52f-4bb2-8b6b-ca2b4530cc10')\"\n",
              "            title=\"Convert this dataframe to an interactive table.\"\n",
              "            style=\"display:none;\">\n",
              "\n",
              "  <svg xmlns=\"http://www.w3.org/2000/svg\" height=\"24px\" viewBox=\"0 -960 960 960\">\n",
              "    <path d=\"M120-120v-720h720v720H120Zm60-500h600v-160H180v160Zm220 220h160v-160H400v160Zm0 220h160v-160H400v160ZM180-400h160v-160H180v160Zm440 0h160v-160H620v160ZM180-180h160v-160H180v160Zm440 0h160v-160H620v160Z\"/>\n",
              "  </svg>\n",
              "    </button>\n",
              "\n",
              "  <style>\n",
              "    .colab-df-container {\n",
              "      display:flex;\n",
              "      gap: 12px;\n",
              "    }\n",
              "\n",
              "    .colab-df-convert {\n",
              "      background-color: #E8F0FE;\n",
              "      border: none;\n",
              "      border-radius: 50%;\n",
              "      cursor: pointer;\n",
              "      display: none;\n",
              "      fill: #1967D2;\n",
              "      height: 32px;\n",
              "      padding: 0 0 0 0;\n",
              "      width: 32px;\n",
              "    }\n",
              "\n",
              "    .colab-df-convert:hover {\n",
              "      background-color: #E2EBFA;\n",
              "      box-shadow: 0px 1px 2px rgba(60, 64, 67, 0.3), 0px 1px 3px 1px rgba(60, 64, 67, 0.15);\n",
              "      fill: #174EA6;\n",
              "    }\n",
              "\n",
              "    .colab-df-buttons div {\n",
              "      margin-bottom: 4px;\n",
              "    }\n",
              "\n",
              "    [theme=dark] .colab-df-convert {\n",
              "      background-color: #3B4455;\n",
              "      fill: #D2E3FC;\n",
              "    }\n",
              "\n",
              "    [theme=dark] .colab-df-convert:hover {\n",
              "      background-color: #434B5C;\n",
              "      box-shadow: 0px 1px 3px 1px rgba(0, 0, 0, 0.15);\n",
              "      filter: drop-shadow(0px 1px 2px rgba(0, 0, 0, 0.3));\n",
              "      fill: #FFFFFF;\n",
              "    }\n",
              "  </style>\n",
              "\n",
              "    <script>\n",
              "      const buttonEl =\n",
              "        document.querySelector('#df-c04397c3-b52f-4bb2-8b6b-ca2b4530cc10 button.colab-df-convert');\n",
              "      buttonEl.style.display =\n",
              "        google.colab.kernel.accessAllowed ? 'block' : 'none';\n",
              "\n",
              "      async function convertToInteractive(key) {\n",
              "        const element = document.querySelector('#df-c04397c3-b52f-4bb2-8b6b-ca2b4530cc10');\n",
              "        const dataTable =\n",
              "          await google.colab.kernel.invokeFunction('convertToInteractive',\n",
              "                                                    [key], {});\n",
              "        if (!dataTable) return;\n",
              "\n",
              "        const docLinkHtml = 'Like what you see? Visit the ' +\n",
              "          '<a target=\"_blank\" href=https://colab.research.google.com/notebooks/data_table.ipynb>data table notebook</a>'\n",
              "          + ' to learn more about interactive tables.';\n",
              "        element.innerHTML = '';\n",
              "        dataTable['output_type'] = 'display_data';\n",
              "        await google.colab.output.renderOutput(dataTable, element);\n",
              "        const docLink = document.createElement('div');\n",
              "        docLink.innerHTML = docLinkHtml;\n",
              "        element.appendChild(docLink);\n",
              "      }\n",
              "    </script>\n",
              "  </div>\n",
              "\n",
              "\n",
              "<div id=\"df-8d150346-4951-43ef-8f7c-da8dfbbe0873\">\n",
              "  <button class=\"colab-df-quickchart\" onclick=\"quickchart('df-8d150346-4951-43ef-8f7c-da8dfbbe0873')\"\n",
              "            title=\"Suggest charts\"\n",
              "            style=\"display:none;\">\n",
              "\n",
              "<svg xmlns=\"http://www.w3.org/2000/svg\" height=\"24px\"viewBox=\"0 0 24 24\"\n",
              "     width=\"24px\">\n",
              "    <g>\n",
              "        <path d=\"M19 3H5c-1.1 0-2 .9-2 2v14c0 1.1.9 2 2 2h14c1.1 0 2-.9 2-2V5c0-1.1-.9-2-2-2zM9 17H7v-7h2v7zm4 0h-2V7h2v10zm4 0h-2v-4h2v4z\"/>\n",
              "    </g>\n",
              "</svg>\n",
              "  </button>\n",
              "\n",
              "<style>\n",
              "  .colab-df-quickchart {\n",
              "      --bg-color: #E8F0FE;\n",
              "      --fill-color: #1967D2;\n",
              "      --hover-bg-color: #E2EBFA;\n",
              "      --hover-fill-color: #174EA6;\n",
              "      --disabled-fill-color: #AAA;\n",
              "      --disabled-bg-color: #DDD;\n",
              "  }\n",
              "\n",
              "  [theme=dark] .colab-df-quickchart {\n",
              "      --bg-color: #3B4455;\n",
              "      --fill-color: #D2E3FC;\n",
              "      --hover-bg-color: #434B5C;\n",
              "      --hover-fill-color: #FFFFFF;\n",
              "      --disabled-bg-color: #3B4455;\n",
              "      --disabled-fill-color: #666;\n",
              "  }\n",
              "\n",
              "  .colab-df-quickchart {\n",
              "    background-color: var(--bg-color);\n",
              "    border: none;\n",
              "    border-radius: 50%;\n",
              "    cursor: pointer;\n",
              "    display: none;\n",
              "    fill: var(--fill-color);\n",
              "    height: 32px;\n",
              "    padding: 0;\n",
              "    width: 32px;\n",
              "  }\n",
              "\n",
              "  .colab-df-quickchart:hover {\n",
              "    background-color: var(--hover-bg-color);\n",
              "    box-shadow: 0 1px 2px rgba(60, 64, 67, 0.3), 0 1px 3px 1px rgba(60, 64, 67, 0.15);\n",
              "    fill: var(--button-hover-fill-color);\n",
              "  }\n",
              "\n",
              "  .colab-df-quickchart-complete:disabled,\n",
              "  .colab-df-quickchart-complete:disabled:hover {\n",
              "    background-color: var(--disabled-bg-color);\n",
              "    fill: var(--disabled-fill-color);\n",
              "    box-shadow: none;\n",
              "  }\n",
              "\n",
              "  .colab-df-spinner {\n",
              "    border: 2px solid var(--fill-color);\n",
              "    border-color: transparent;\n",
              "    border-bottom-color: var(--fill-color);\n",
              "    animation:\n",
              "      spin 1s steps(1) infinite;\n",
              "  }\n",
              "\n",
              "  @keyframes spin {\n",
              "    0% {\n",
              "      border-color: transparent;\n",
              "      border-bottom-color: var(--fill-color);\n",
              "      border-left-color: var(--fill-color);\n",
              "    }\n",
              "    20% {\n",
              "      border-color: transparent;\n",
              "      border-left-color: var(--fill-color);\n",
              "      border-top-color: var(--fill-color);\n",
              "    }\n",
              "    30% {\n",
              "      border-color: transparent;\n",
              "      border-left-color: var(--fill-color);\n",
              "      border-top-color: var(--fill-color);\n",
              "      border-right-color: var(--fill-color);\n",
              "    }\n",
              "    40% {\n",
              "      border-color: transparent;\n",
              "      border-right-color: var(--fill-color);\n",
              "      border-top-color: var(--fill-color);\n",
              "    }\n",
              "    60% {\n",
              "      border-color: transparent;\n",
              "      border-right-color: var(--fill-color);\n",
              "    }\n",
              "    80% {\n",
              "      border-color: transparent;\n",
              "      border-right-color: var(--fill-color);\n",
              "      border-bottom-color: var(--fill-color);\n",
              "    }\n",
              "    90% {\n",
              "      border-color: transparent;\n",
              "      border-bottom-color: var(--fill-color);\n",
              "    }\n",
              "  }\n",
              "</style>\n",
              "\n",
              "  <script>\n",
              "    async function quickchart(key) {\n",
              "      const quickchartButtonEl =\n",
              "        document.querySelector('#' + key + ' button');\n",
              "      quickchartButtonEl.disabled = true;  // To prevent multiple clicks.\n",
              "      quickchartButtonEl.classList.add('colab-df-spinner');\n",
              "      try {\n",
              "        const charts = await google.colab.kernel.invokeFunction(\n",
              "            'suggestCharts', [key], {});\n",
              "      } catch (error) {\n",
              "        console.error('Error during call to suggestCharts:', error);\n",
              "      }\n",
              "      quickchartButtonEl.classList.remove('colab-df-spinner');\n",
              "      quickchartButtonEl.classList.add('colab-df-quickchart-complete');\n",
              "    }\n",
              "    (() => {\n",
              "      let quickchartButtonEl =\n",
              "        document.querySelector('#df-8d150346-4951-43ef-8f7c-da8dfbbe0873 button');\n",
              "      quickchartButtonEl.style.display =\n",
              "        google.colab.kernel.accessAllowed ? 'block' : 'none';\n",
              "    })();\n",
              "  </script>\n",
              "</div>\n",
              "\n",
              "    </div>\n",
              "  </div>\n"
            ]
          },
          "metadata": {},
          "execution_count": 84
        }
      ],
      "source": [
        "# Recommend top 10 songs using the function defined above\n",
        "top_n_songs(avg_play_counts, 10, 5)"
      ]
    },
    {
      "cell_type": "markdown",
      "metadata": {
        "id": "gf13HrPPJeWT"
      },
      "source": [
        "### **User User Similarity-Based Collaborative Filtering**"
      ]
    },
    {
      "cell_type": "markdown",
      "metadata": {
        "id": "ROcEpduohdua"
      },
      "source": [
        "In this type of recommendation system, we do not need any information about the users or items. We only need user item interaction data to build a collaborative recommendation system. For example playcounts."
      ]
    },
    {
      "cell_type": "markdown",
      "metadata": {
        "id": "jBW4BUhWTsnm"
      },
      "source": [
        "### Some useful functions"
      ]
    },
    {
      "cell_type": "markdown",
      "metadata": {
        "id": "ZhFa_4aHHchr"
      },
      "source": [
        "Below is the function to calculate precision@k and recall@k, RMSE, and F1_Score@k to evaluate the model performance."
      ]
    },
    {
      "cell_type": "markdown",
      "metadata": {
        "id": "ZOvOgjGWrMVV"
      },
      "source": [
        "**Think About It:** Which metric should be used for this problem to compare different models?"
      ]
    },
    {
      "cell_type": "code",
      "execution_count": 85,
      "metadata": {
        "id": "Rxn-GahOTsnm"
      },
      "outputs": [],
      "source": [
        "# The function to calulate the RMSE, precision@k, recall@k, and F_1 score\n",
        "def precision_recall_at_k(model, k = 30, threshold = 1.5):\n",
        "    \"\"\"Return precision and recall at k metrics for each user\"\"\"\n",
        "\n",
        "    # First map the predictions to each user.\n",
        "    user_est_true = defaultdict(list)\n",
        "\n",
        "    # Making predictions on the test data\n",
        "    predictions=model.test(testset)\n",
        "\n",
        "    for uid, _, true_r, est, _ in predictions:\n",
        "        user_est_true[uid].append((est, true_r))\n",
        "\n",
        "    precisions = dict()\n",
        "    recalls = dict()\n",
        "    for uid, user_ratings in user_est_true.items():\n",
        "\n",
        "        # Sort user ratings by estimated value\n",
        "        user_ratings.sort(key = lambda x : x[0], reverse = True)\n",
        "\n",
        "        # Number of relevant items\n",
        "        n_rel = sum((true_r >= threshold) for (_, true_r) in user_ratings)\n",
        "\n",
        "        # Number of recommended items in top k\n",
        "        n_rec_k = sum((est >= threshold) for (est, _) in user_ratings[ : k])\n",
        "\n",
        "        # Number of relevant and recommended items in top k\n",
        "        n_rel_and_rec_k = sum(((true_r >= threshold) and (est >= threshold))\n",
        "                              for (est, true_r) in user_ratings[ : k])\n",
        "\n",
        "        # Precision@K: Proportion of recommended items that are relevant\n",
        "        # When n_rec_k is 0, Precision is undefined. We here set Precision to 0 when n_rec_k is 0\n",
        "\n",
        "        precisions[uid] = n_rel_and_rec_k / n_rec_k if n_rec_k != 0 else 0\n",
        "\n",
        "        # Recall@K: Proportion of relevant items that are recommended\n",
        "        # When n_rel is 0, Recall is undefined. We here set Recall to 0 when n_rel is 0\n",
        "\n",
        "        recalls[uid] = n_rel_and_rec_k / n_rel if n_rel != 0 else 0\n",
        "\n",
        "    # Mean of all the predicted precisions are calculated\n",
        "    precision = round((sum(prec for prec in precisions.values()) / len(precisions)), 3)\n",
        "\n",
        "    # Mean of all the predicted recalls are calculated\n",
        "    recall = round((sum(rec for rec in recalls.values()) / len(recalls)), 3)\n",
        "\n",
        "    accuracy.rmse(predictions)\n",
        "\n",
        "    # Command to print the overall precision\n",
        "    print('Precision: ', precision)\n",
        "\n",
        "    # Command to print the overall recall\n",
        "    print('Recall: ', recall)\n",
        "\n",
        "    # Formula to compute the F-1 score\n",
        "    print('F_1 score: ', round((2 * precision * recall) / (precision + recall), 3))"
      ]
    },
    {
      "cell_type": "markdown",
      "metadata": {
        "id": "PcmLRxH4IjfG"
      },
      "source": [
        "**Think About It:** In the function precision_recall_at_k above the threshold value used is 1.5. How precision and recall are affected by changing the threshold? What is the intuition behind using the threshold value of 1.5?"
      ]
    },
    {
      "cell_type": "markdown",
      "metadata": {
        "id": "jSKCldCvj1jI"
      },
      "source": [
        "### Useful function from surprise library"
      ]
    },
    {
      "cell_type": "code",
      "execution_count": 86,
      "metadata": {
        "id": "NnYDPH0ljzV5"
      },
      "outputs": [],
      "source": [
        "# To compute the accuracy of models\n",
        "from surprise import accuracy\n",
        "# Class is used to parse a file containing ratings, data should be in structure - user ; item ; rating\n",
        "from surprise.reader import Reader\n",
        "# Class for loading datasets\n",
        "from surprise.dataset import Dataset\n",
        "# For tuning model hyperparameters\n",
        "from surprise.model_selection import GridSearchCV\n",
        "# For splitting the rating data in train and test datasets\n",
        "from surprise.model_selection import train_test_split\n",
        "# For implementing similarity-based recommendation system\n",
        "from surprise.prediction_algorithms.knns import KNNBasic\n",
        "# For implementing matrix factorization based recommendation system\n",
        "from surprise.prediction_algorithms.matrix_factorization import SVD\n",
        "# for implementing K-Fold cross-validation\n",
        "from surprise.model_selection import KFold\n",
        "# For implementing clustering-based recommendation system\n",
        "from surprise import CoClustering"
      ]
    },
    {
      "cell_type": "code",
      "execution_count": 172,
      "metadata": {
        "id": "rGfYDiOCpe4X"
      },
      "outputs": [],
      "source": [
        "# Instantiating Reader scale with expected rating scale\n",
        "reader = Reader(rating_scale = (0, 5)) # min = 0 and max = 5 x played by user\n",
        "\n",
        "# Loading the dataset\n",
        "data = Dataset.load_from_df(df_final[['user_id', 'song_id', 'play_count']], reader)      # can be solved with S1 count_df\n",
        "\n",
        "# Splitting the data into train and test dataset\n",
        "trainset, testset = train_test_split(data, test_size = 0.2, random_state = 42)\n",
        "trainset.metadata = df_final['metadata_info'].tolist()"
      ]
    },
    {
      "cell_type": "code",
      "execution_count": 231,
      "metadata": {
        "id": "bKvaVlWqedd6",
        "colab": {
          "base_uri": "https://localhost:8080/"
        },
        "outputId": "d8d80091-ba2c-4ee4-aa99-201e28e465f2"
      },
      "outputs": [
        {
          "output_type": "stream",
          "name": "stdout",
          "text": [
            "<surprise.reader.Reader object at 0x7ec2d433d7e0> \n",
            " <surprise.dataset.DatasetAutoFolds object at 0x7ec2ce106c80> \n",
            " <surprise.trainset.Trainset object at 0x7ec2ce14b9d0> \n",
            " [(22749, 8092, 1.0), (57932, 2403, 2.0)]\n"
          ]
        }
      ],
      "source": [
        "# test splitting:\n",
        "print(reader, \"\\n\"\n",
        "      , data, \"\\n\"\n",
        "      , trainset, \"\\n\"\n",
        "      #, trainset.metadata, \"\\n\"\n",
        "      , testset[:2]\n",
        "      )"
      ]
    },
    {
      "cell_type": "markdown",
      "metadata": {
        "id": "CuTmLjUP1aED"
      },
      "source": [
        "**Think About It:** How changing the test size would change the results and outputs?"
      ]
    },
    {
      "cell_type": "markdown",
      "metadata": {
        "id": "8A71jB6Eel6w"
      },
      "source": [
        "### M2) Defining User - User Similarity Model\n",
        "\n",
        "1. Initialize the model with similarity option\n",
        "1. Fit the model on the training data\n",
        "1. Use the precision_recall_at_k function to calculate the metrics on the test data\n",
        "1. Provide your observations on the output (Test on dataset: observed song / unobserved song)\n",
        "1. Hyperparameter Tuning with GridSearch\n",
        "1. Fit the model on the training data\n",
        "1. Use the precision_recall_at_k function to calculate the metrics on the test data\n",
        "1. recommendations function\n",
        "1. ranked recommendation"
      ]
    },
    {
      "cell_type": "markdown",
      "source": [
        "#### Embedding Metadata into the modelling process:"
      ],
      "metadata": {
        "id": "f9OoK9lvUDjb"
      }
    },
    {
      "cell_type": "code",
      "source": [
        "#from surprise import Similarity\n",
        "#\n",
        "#class CustomUserSimilarity(Similarity):\n",
        "#    def compute_sim(self, user):\n",
        "#        # Access user metadata using self.trainset.metadata\n",
        "#        # Implement your custom similarity logic\n",
        "#        pass"
      ],
      "metadata": {
        "id": "sejXfbG_UH6q"
      },
      "execution_count": null,
      "outputs": []
    },
    {
      "cell_type": "code",
      "execution_count": 90,
      "metadata": {
        "id": "vO3FL7iape8A",
        "scrolled": false,
        "colab": {
          "base_uri": "https://localhost:8080/"
        },
        "outputId": "9c40b778-261e-44eb-9aff-98011f4cf4a4"
      },
      "outputs": [
        {
          "output_type": "stream",
          "name": "stdout",
          "text": [
            "RMSE: 1.2032\n",
            "Precision:  0.38\n",
            "Recall:  0.626\n",
            "F_1 score:  0.473\n"
          ]
        }
      ],
      "source": [
        "# Build the default user-user-similarity model\n",
        "\n",
        "# Declaring the similarity options\n",
        "sim_options = {'name': 'cosine',\n",
        "               'user_based': True}\n",
        "\n",
        "# KNN algorithm is used to find desired similar items\n",
        "# Use random_state = 1\n",
        "sim_user_user = KNNBasic(sim_options=sim_options\n",
        "                         , verbose=False\n",
        "                         , random_state=1)\n",
        "\n",
        "# Train the algorithm on the trainset, and predict play_count for the testset\n",
        "sim_user_user.fit(trainset)\n",
        "\n",
        "# Let us compute precision@k, recall@k, and f_1 score with k = 30\n",
        " # Use sim_user_user model\n",
        "precision_recall_at_k(sim_user_user)"
      ]
    },
    {
      "cell_type": "markdown",
      "metadata": {
        "id": "mzcdlWmer6GA"
      },
      "source": [
        "**Observations and Insights:**\n",
        "Baseline model is reasanoble but performance metrics can be improved."
      ]
    },
    {
      "cell_type": "code",
      "execution_count": 91,
      "metadata": {
        "id": "Sxd23bZ9pe_x",
        "colab": {
          "base_uri": "https://localhost:8080/"
        },
        "outputId": "a2e2f6ca-6679-414b-a852-4783b75f9f29"
      },
      "outputs": [
        {
          "output_type": "stream",
          "name": "stdout",
          "text": [
            "user: 6958       item: 719        r_ui = 5.00   est = 1.00   {'actual_k': 1, 'was_impossible': False}\n"
          ]
        },
        {
          "output_type": "execute_result",
          "data": {
            "text/plain": [
              "Prediction(uid=6958, iid=719, r_ui=5, est=1.0, details={'actual_k': 1, 'was_impossible': False})"
            ]
          },
          "metadata": {},
          "execution_count": 91
        }
      ],
      "source": [
        "# Predicting play_count for a sample user with a listened song\n",
        "\n",
        "# Use any user id and song_id\n",
        "rand_index = np.random.randint(1, len(df_final))\n",
        "\n",
        "# Predicting rating for a sample user with an interacted product\n",
        "sim_user_user.predict(df_final['user_id'].iloc[rand_index]\n",
        "                      , df_final['song_id'].iloc[rand_index]\n",
        "                      , r_ui = 5\n",
        "                      , verbose = True)"
      ]
    },
    {
      "cell_type": "code",
      "execution_count": 92,
      "metadata": {
        "id": "PbFcBj1PpfEV"
      },
      "outputs": [],
      "source": [
        "# Predicting play_count for a sample user with a song not-listened by the user\n",
        "\n",
        " #predict play_count for any sample user\n",
        "\n",
        "# using a function from the elective project:\n",
        "def n_users_not_interacted_with(n, data, song_id):\n",
        "    users_interacted_with_product = set(data[data['song_id'] == song_id]['user_id'])\n",
        "    all_users = set(data['user_id'])\n",
        "    return list(all_users.difference(users_interacted_with_product))[:n] # where n is the number of elements to get in the list"
      ]
    },
    {
      "cell_type": "code",
      "execution_count": 93,
      "metadata": {
        "id": "n3qYMI4_iNzW",
        "colab": {
          "base_uri": "https://localhost:8080/"
        },
        "outputId": "37e5a4dc-49d5-4e75-c897-d308eb90be7c"
      },
      "outputs": [
        {
          "output_type": "execute_result",
          "data": {
            "text/plain": [
              "[56576, 35457, 52928, 39814, 40583]"
            ]
          },
          "metadata": {},
          "execution_count": 93
        }
      ],
      "source": [
        "# List of 5 users that have not interacted with the song\n",
        "n_users_not_interacted_with(\n",
        "                          5\n",
        "                          , df_final\n",
        "                          , 5725\n",
        "                          )"
      ]
    },
    {
      "cell_type": "code",
      "execution_count": 94,
      "metadata": {
        "id": "1BdvMaDDifek",
        "colab": {
          "base_uri": "https://localhost:8080/"
        },
        "outputId": "6870317a-08f7-42df-f9c4-d4b2f62b1484"
      },
      "outputs": [
        {
          "output_type": "stream",
          "name": "stdout",
          "text": [
            "user: 56576      item: 5725       r_ui = 5.00   est = 2.00   {'actual_k': 2, 'was_impossible': False}\n"
          ]
        },
        {
          "output_type": "execute_result",
          "data": {
            "text/plain": [
              "Prediction(uid=56576, iid=5725, r_ui=5, est=2.0, details={'actual_k': 2, 'was_impossible': False})"
            ]
          },
          "metadata": {},
          "execution_count": 94
        }
      ],
      "source": [
        "# Predicting play_count for a sample user with a song not-listened by the user\n",
        "\n",
        "sim_user_user.predict( 56576\n",
        "                      , 5725\n",
        "                      , r_ui = 5\n",
        "                      , verbose = True)"
      ]
    },
    {
      "cell_type": "markdown",
      "metadata": {
        "id": "P9EVM7DysC47"
      },
      "source": [
        "**Observations and Insights:**\n",
        "\n",
        "Legend:\n",
        "\n",
        "- uid: This stands for \"user id\" and represents the unique identifier of the user for whom the prediction was made. In this case, the user ID is 'dc9fcf22d3b8d1bf718876dea5964149c58eb7c8'.\n",
        "\n",
        "- iid: This stands for \"item id\" and represents the unique identifier of the item (in this context, a song) for which the prediction was made. In this case, the item ID is 'SOMYXWV12A8C14232E'.\n",
        "\n",
        "- r_ui: This represents the \"real\" or actual rating given by the user for the item. In this case, the actual rating is 5.\n",
        "\n",
        "- est: This represents the estimated or predicted rating for the user-item pair. In this case, the predicted rating is approximately 1.53.\n",
        "\n",
        "- details: This is a dictionary containing additional details about the prediction. In this specific case, the details include the number of actual neighbors considered for the prediction (actual_k: 40) and whether the prediction was made without any issues (was_impossible: False).\n",
        "\n",
        "\n",
        "**Prediction:**\n",
        "\n",
        "User 'dc9fcf22d3b8d1bf718876dea5964149c58eb7c8' is predicted to play the song 'SOMYXWV12A8C14232E' approximately 1.53. The actual playcount given by the user is 5. The prediction is based on collaborative filtering, and 40 nearest neighbors were considered in the process. No issues were encountered during the prediction process (was_impossible: False)."
      ]
    },
    {
      "cell_type": "markdown",
      "metadata": {
        "id": "Lt1QBiylsIOm"
      },
      "source": [
        "**Hyperparameter Tuning**\n",
        "\n",
        "Now, let's try to tune the model and see if we can improve the model performance."
      ]
    },
    {
      "cell_type": "code",
      "execution_count": 95,
      "metadata": {
        "id": "T3diJPL7-tVw",
        "colab": {
          "base_uri": "https://localhost:8080/"
        },
        "outputId": "0b8a3f03-4c71-495f-8b6a-96555663b4ac"
      },
      "outputs": [
        {
          "output_type": "stream",
          "name": "stdout",
          "text": [
            " Best RMSE score 1.083002115635411 \n",
            "\n",
            "\n",
            "Combination of parameters for best RMSE score {'k': 40, 'min_k': 1, 'sim_options': {'name': 'pearson', 'user_based': True}} \n",
            "\n"
          ]
        }
      ],
      "source": [
        "# Setting up parameter grid to tune the hyperparameters\n",
        "param_grid = {\n",
        "        'k':[40],                       # number of neighbors to consider (40 default also equal to the ones in round 1)\n",
        "        'min_k': [1],                   # minimum number of neighbors to take into account for aggregation\n",
        "        'sim_options': {\n",
        "        'name': ['cosine'\n",
        "                , 'pearson'\n",
        "                , 'msd']                # similarity metric (cosine or pearson). Consider all options\n",
        "}}\n",
        "\n",
        "# Performing 3-fold cross-validation to tune the hyperparameters\n",
        "gs = GridSearchCV(  KNNBasic\n",
        "                  , param_grid\n",
        "                  , measures = ['rmse']\n",
        "                  , cv = 3\n",
        "                  , n_jobs = -1)\n",
        "\n",
        "# Fitting the data\n",
        "# Use entire data for GridSearch\n",
        "gs.fit(data)\n",
        "\n",
        "# Best RMSE score\n",
        "print(\" Best RMSE score\", gs.best_score['rmse'], \"\\n\\n\")\n",
        "\n",
        "# Combination of parameters that gave the best RMSE score\n",
        "print(\"Combination of parameters for best RMSE score\", gs.best_params['rmse'], \"\\n\")"
      ]
    },
    {
      "cell_type": "code",
      "execution_count": 116,
      "metadata": {
        "id": "PujRJA8X_JEJ",
        "colab": {
          "base_uri": "https://localhost:8080/"
        },
        "outputId": "8e7ce4a2-6e7a-4d48-aea7-8ef26353849d"
      },
      "outputs": [
        {
          "output_type": "stream",
          "name": "stdout",
          "text": [
            "RMSE: 1.1684\n",
            "Precision:  0.384\n",
            "Recall:  0.581\n",
            "F_1 score:  0.462\n"
          ]
        }
      ],
      "source": [
        "# Train the best model found in above gridsearch (updated values)\n",
        "sim_options = {'name': 'msd'\n",
        "              , 'user_based': True}\n",
        "\n",
        "# Creating an instance of KNNBasic with optimal hyperparameter values as the optimized model\n",
        "sim_user_user_optimized = KNNBasic(sim_options=sim_options\n",
        "                                   , k = gs.best_params['rmse']['k']\n",
        "                                   , min_k=1\n",
        "                                   , random_state=1\n",
        "                                   , verbose=False)\n",
        "\n",
        "# Training the algorithm on the train set\n",
        "sim_user_user_optimized.fit(trainset)     # we use optimized model this time\n",
        "precision_recall_at_k(sim_user_user_optimized)"
      ]
    },
    {
      "cell_type": "code",
      "execution_count": 97,
      "metadata": {
        "id": "FgV63lHiq1TV",
        "colab": {
          "base_uri": "https://localhost:8080/"
        },
        "outputId": "b85dfeca-f86c-4353-bfa2-8b328c2d423c"
      },
      "outputs": [
        {
          "output_type": "stream",
          "name": "stdout",
          "text": [
            "user: 57932      item: 5607       r_ui = 2.00   est = 1.00   {'actual_k': 1, 'was_impossible': False}\n"
          ]
        },
        {
          "output_type": "execute_result",
          "data": {
            "text/plain": [
              "Prediction(uid=57932, iid=5607, r_ui=2, est=1.0, details={'actual_k': 1, 'was_impossible': False})"
            ]
          },
          "metadata": {},
          "execution_count": 97
        }
      ],
      "source": [
        "# Predict the play count for a user who has listened to the song. Take user_id 6958, song_id 1671 and r_ui = 2\n",
        "rand_index = np.random.randint(1, len(df_final))\n",
        "\n",
        "# Predicting rating for a sample user with an interacted product\n",
        "sim_user_user_optimized.predict(df_final['user_id'].iloc[rand_index]\n",
        "                      , df_final['song_id'].iloc[rand_index]\n",
        "                      , r_ui = 2\n",
        "                      , verbose = True)"
      ]
    },
    {
      "cell_type": "code",
      "execution_count": 117,
      "metadata": {
        "id": "HXO2Ztjhq1bN",
        "colab": {
          "base_uri": "https://localhost:8080/"
        },
        "outputId": "053e64c2-c2e8-41b8-e316-8d510051f7af"
      },
      "outputs": [
        {
          "output_type": "stream",
          "name": "stdout",
          "text": [
            "user: 6958       item: 4058       r_ui = 3.00   est = 1.00   {'actual_k': 1, 'was_impossible': False}\n"
          ]
        },
        {
          "output_type": "execute_result",
          "data": {
            "text/plain": [
              "Prediction(uid=6958, iid=4058, r_ui=3, est=1.0, details={'actual_k': 1, 'was_impossible': False})"
            ]
          },
          "metadata": {},
          "execution_count": 117
        }
      ],
      "source": [
        "# Predict the play count for a song that is not listened to by the user (with user_id 6958)\n",
        "sim_user_user_optimized.predict(\n",
        "                      6958\n",
        "                      , 4058\n",
        "                      , r_ui = 3\n",
        "                      , verbose = True)"
      ]
    },
    {
      "cell_type": "markdown",
      "metadata": {
        "id": "SdpJ--8QWuzz"
      },
      "source": [
        "**Observations and Insights:**\n",
        "\n",
        "The model considerable improved after hyperparameter tuning:\n",
        "```\n",
        "RMSE: -0.0795, F_1: 0.011, Precision: 0.051, Recall: -0.073\n",
        "```\n"
      ]
    },
    {
      "cell_type": "markdown",
      "metadata": {
        "id": "U3ESobDynVNI"
      },
      "source": [
        "Below we will be implementing a function where the input parameters are:\n",
        "\n",
        "- data: A **song** dataset\n",
        "- user_id: A user-id **against which we want the recommendations**\n",
        "- top_n: The **number of songs we want to recommend**\n",
        "- algo: The algorithm we want to use **for predicting the play_count**\n",
        "- The output of the function is a **set of top_n items** recommended for the given user_id based on the given algorithm"
      ]
    },
    {
      "cell_type": "code",
      "execution_count": 123,
      "metadata": {
        "id": "vW9V1Tk65HlY"
      },
      "outputs": [],
      "source": [
        "def get_recommendations(data, user_id, top_n, algo):\n",
        "\n",
        "    # Creating an empty list to store the recommended product ids\n",
        "    recommendations = []\n",
        "\n",
        "    # Creating a user-item interactions matrix\n",
        "    user_item_interactions_matrix = data.pivot_table(\n",
        "        index='user_id',\n",
        "        columns='song_id',\n",
        "        values='play_count'\n",
        "    )\n",
        "\n",
        "    # Extracting those song ids which the user_id has not listened yet\n",
        "    non_interacted_songs = user_item_interactions_matrix.loc[user_id][user_item_interactions_matrix.loc[user_id].isnull()].index.tolist()\n",
        "\n",
        "    # Looping through each of the song ids which user_id has not interacted yet\n",
        "    for song_id in non_interacted_songs:\n",
        "\n",
        "        est = algo.predict(user_id, song_id).est\n",
        "\n",
        "        # [Deprecated] Predicting the playcounts\n",
        "        #est = algo.predict(user_id, song_id).est\n",
        "        # Appending the predicted playcounts\n",
        "        #recommendations.append((song_id, est))\n",
        "\n",
        "        # Extracting song title for the recommended item_id\n",
        "        song_title = data[data['song_id'] == song_id]['song_title'].iloc[0]\n",
        "        # Appending the predicted play count along with song title\n",
        "        recommendations.append({'song_id': song_id, 'song_title': song_title, 'predicted_play_count': est})\n",
        "\n",
        "    # Sorting the predicted ratings in descending order\n",
        "    recommendations = sorted(recommendations, key=lambda x: x['predicted_play_count'], reverse=True)\n",
        "\n",
        "    return recommendations[:top_n]"
      ]
    },
    {
      "cell_type": "code",
      "execution_count": 119,
      "metadata": {
        "id": "kAfqgBYr8UYg",
        "colab": {
          "base_uri": "https://localhost:8080/",
          "height": 204
        },
        "outputId": "eb098fba-f932-4949-e060-e41d023ad181"
      },
      "outputs": [
        {
          "output_type": "execute_result",
          "data": {
            "text/plain": [
              "song_id  21    22    52    97    114   145   154   194   198   208   ...  \\\n",
              "user_id                                                              ...   \n",
              "67308     NaN   NaN   NaN   NaN   NaN   NaN   NaN   NaN   NaN   NaN  ...   \n",
              "70318     NaN   NaN   NaN   NaN   NaN   NaN   NaN   NaN   NaN   NaN  ...   \n",
              "54439     NaN   NaN   NaN   NaN   NaN   NaN   NaN   NaN   NaN   NaN  ...   \n",
              "\n",
              "song_id  9678  9712  9724  9771  9847  9925  9931  9939  9960  9981  \n",
              "user_id                                                              \n",
              "67308     NaN   NaN   NaN   NaN   NaN   NaN   1.0   NaN   NaN   NaN  \n",
              "70318     NaN   NaN   NaN   NaN   NaN   NaN   NaN   NaN   1.0   NaN  \n",
              "54439     NaN   NaN   NaN   NaN   NaN   NaN   NaN   NaN   NaN   NaN  \n",
              "\n",
              "[3 rows x 361 columns]"
            ],
            "text/html": [
              "\n",
              "  <div id=\"df-0af71695-9720-41b4-84fa-47a57619ac2b\" class=\"colab-df-container\">\n",
              "    <div>\n",
              "<style scoped>\n",
              "    .dataframe tbody tr th:only-of-type {\n",
              "        vertical-align: middle;\n",
              "    }\n",
              "\n",
              "    .dataframe tbody tr th {\n",
              "        vertical-align: top;\n",
              "    }\n",
              "\n",
              "    .dataframe thead th {\n",
              "        text-align: right;\n",
              "    }\n",
              "</style>\n",
              "<table border=\"1\" class=\"dataframe\">\n",
              "  <thead>\n",
              "    <tr style=\"text-align: right;\">\n",
              "      <th>song_id</th>\n",
              "      <th>21</th>\n",
              "      <th>22</th>\n",
              "      <th>52</th>\n",
              "      <th>97</th>\n",
              "      <th>114</th>\n",
              "      <th>145</th>\n",
              "      <th>154</th>\n",
              "      <th>194</th>\n",
              "      <th>198</th>\n",
              "      <th>208</th>\n",
              "      <th>...</th>\n",
              "      <th>9678</th>\n",
              "      <th>9712</th>\n",
              "      <th>9724</th>\n",
              "      <th>9771</th>\n",
              "      <th>9847</th>\n",
              "      <th>9925</th>\n",
              "      <th>9931</th>\n",
              "      <th>9939</th>\n",
              "      <th>9960</th>\n",
              "      <th>9981</th>\n",
              "    </tr>\n",
              "    <tr>\n",
              "      <th>user_id</th>\n",
              "      <th></th>\n",
              "      <th></th>\n",
              "      <th></th>\n",
              "      <th></th>\n",
              "      <th></th>\n",
              "      <th></th>\n",
              "      <th></th>\n",
              "      <th></th>\n",
              "      <th></th>\n",
              "      <th></th>\n",
              "      <th></th>\n",
              "      <th></th>\n",
              "      <th></th>\n",
              "      <th></th>\n",
              "      <th></th>\n",
              "      <th></th>\n",
              "      <th></th>\n",
              "      <th></th>\n",
              "      <th></th>\n",
              "      <th></th>\n",
              "      <th></th>\n",
              "    </tr>\n",
              "  </thead>\n",
              "  <tbody>\n",
              "    <tr>\n",
              "      <th>67308</th>\n",
              "      <td>NaN</td>\n",
              "      <td>NaN</td>\n",
              "      <td>NaN</td>\n",
              "      <td>NaN</td>\n",
              "      <td>NaN</td>\n",
              "      <td>NaN</td>\n",
              "      <td>NaN</td>\n",
              "      <td>NaN</td>\n",
              "      <td>NaN</td>\n",
              "      <td>NaN</td>\n",
              "      <td>...</td>\n",
              "      <td>NaN</td>\n",
              "      <td>NaN</td>\n",
              "      <td>NaN</td>\n",
              "      <td>NaN</td>\n",
              "      <td>NaN</td>\n",
              "      <td>NaN</td>\n",
              "      <td>1.0</td>\n",
              "      <td>NaN</td>\n",
              "      <td>NaN</td>\n",
              "      <td>NaN</td>\n",
              "    </tr>\n",
              "    <tr>\n",
              "      <th>70318</th>\n",
              "      <td>NaN</td>\n",
              "      <td>NaN</td>\n",
              "      <td>NaN</td>\n",
              "      <td>NaN</td>\n",
              "      <td>NaN</td>\n",
              "      <td>NaN</td>\n",
              "      <td>NaN</td>\n",
              "      <td>NaN</td>\n",
              "      <td>NaN</td>\n",
              "      <td>NaN</td>\n",
              "      <td>...</td>\n",
              "      <td>NaN</td>\n",
              "      <td>NaN</td>\n",
              "      <td>NaN</td>\n",
              "      <td>NaN</td>\n",
              "      <td>NaN</td>\n",
              "      <td>NaN</td>\n",
              "      <td>NaN</td>\n",
              "      <td>NaN</td>\n",
              "      <td>1.0</td>\n",
              "      <td>NaN</td>\n",
              "    </tr>\n",
              "    <tr>\n",
              "      <th>54439</th>\n",
              "      <td>NaN</td>\n",
              "      <td>NaN</td>\n",
              "      <td>NaN</td>\n",
              "      <td>NaN</td>\n",
              "      <td>NaN</td>\n",
              "      <td>NaN</td>\n",
              "      <td>NaN</td>\n",
              "      <td>NaN</td>\n",
              "      <td>NaN</td>\n",
              "      <td>NaN</td>\n",
              "      <td>...</td>\n",
              "      <td>NaN</td>\n",
              "      <td>NaN</td>\n",
              "      <td>NaN</td>\n",
              "      <td>NaN</td>\n",
              "      <td>NaN</td>\n",
              "      <td>NaN</td>\n",
              "      <td>NaN</td>\n",
              "      <td>NaN</td>\n",
              "      <td>NaN</td>\n",
              "      <td>NaN</td>\n",
              "    </tr>\n",
              "  </tbody>\n",
              "</table>\n",
              "<p>3 rows × 361 columns</p>\n",
              "</div>\n",
              "    <div class=\"colab-df-buttons\">\n",
              "\n",
              "  <div class=\"colab-df-container\">\n",
              "    <button class=\"colab-df-convert\" onclick=\"convertToInteractive('df-0af71695-9720-41b4-84fa-47a57619ac2b')\"\n",
              "            title=\"Convert this dataframe to an interactive table.\"\n",
              "            style=\"display:none;\">\n",
              "\n",
              "  <svg xmlns=\"http://www.w3.org/2000/svg\" height=\"24px\" viewBox=\"0 -960 960 960\">\n",
              "    <path d=\"M120-120v-720h720v720H120Zm60-500h600v-160H180v160Zm220 220h160v-160H400v160Zm0 220h160v-160H400v160ZM180-400h160v-160H180v160Zm440 0h160v-160H620v160ZM180-180h160v-160H180v160Zm440 0h160v-160H620v160Z\"/>\n",
              "  </svg>\n",
              "    </button>\n",
              "\n",
              "  <style>\n",
              "    .colab-df-container {\n",
              "      display:flex;\n",
              "      gap: 12px;\n",
              "    }\n",
              "\n",
              "    .colab-df-convert {\n",
              "      background-color: #E8F0FE;\n",
              "      border: none;\n",
              "      border-radius: 50%;\n",
              "      cursor: pointer;\n",
              "      display: none;\n",
              "      fill: #1967D2;\n",
              "      height: 32px;\n",
              "      padding: 0 0 0 0;\n",
              "      width: 32px;\n",
              "    }\n",
              "\n",
              "    .colab-df-convert:hover {\n",
              "      background-color: #E2EBFA;\n",
              "      box-shadow: 0px 1px 2px rgba(60, 64, 67, 0.3), 0px 1px 3px 1px rgba(60, 64, 67, 0.15);\n",
              "      fill: #174EA6;\n",
              "    }\n",
              "\n",
              "    .colab-df-buttons div {\n",
              "      margin-bottom: 4px;\n",
              "    }\n",
              "\n",
              "    [theme=dark] .colab-df-convert {\n",
              "      background-color: #3B4455;\n",
              "      fill: #D2E3FC;\n",
              "    }\n",
              "\n",
              "    [theme=dark] .colab-df-convert:hover {\n",
              "      background-color: #434B5C;\n",
              "      box-shadow: 0px 1px 3px 1px rgba(0, 0, 0, 0.15);\n",
              "      filter: drop-shadow(0px 1px 2px rgba(0, 0, 0, 0.3));\n",
              "      fill: #FFFFFF;\n",
              "    }\n",
              "  </style>\n",
              "\n",
              "    <script>\n",
              "      const buttonEl =\n",
              "        document.querySelector('#df-0af71695-9720-41b4-84fa-47a57619ac2b button.colab-df-convert');\n",
              "      buttonEl.style.display =\n",
              "        google.colab.kernel.accessAllowed ? 'block' : 'none';\n",
              "\n",
              "      async function convertToInteractive(key) {\n",
              "        const element = document.querySelector('#df-0af71695-9720-41b4-84fa-47a57619ac2b');\n",
              "        const dataTable =\n",
              "          await google.colab.kernel.invokeFunction('convertToInteractive',\n",
              "                                                    [key], {});\n",
              "        if (!dataTable) return;\n",
              "\n",
              "        const docLinkHtml = 'Like what you see? Visit the ' +\n",
              "          '<a target=\"_blank\" href=https://colab.research.google.com/notebooks/data_table.ipynb>data table notebook</a>'\n",
              "          + ' to learn more about interactive tables.';\n",
              "        element.innerHTML = '';\n",
              "        dataTable['output_type'] = 'display_data';\n",
              "        await google.colab.output.renderOutput(dataTable, element);\n",
              "        const docLink = document.createElement('div');\n",
              "        docLink.innerHTML = docLinkHtml;\n",
              "        element.appendChild(docLink);\n",
              "      }\n",
              "    </script>\n",
              "  </div>\n",
              "\n",
              "\n",
              "<div id=\"df-ee3db2f8-71b1-411e-a188-d2c27992da77\">\n",
              "  <button class=\"colab-df-quickchart\" onclick=\"quickchart('df-ee3db2f8-71b1-411e-a188-d2c27992da77')\"\n",
              "            title=\"Suggest charts\"\n",
              "            style=\"display:none;\">\n",
              "\n",
              "<svg xmlns=\"http://www.w3.org/2000/svg\" height=\"24px\"viewBox=\"0 0 24 24\"\n",
              "     width=\"24px\">\n",
              "    <g>\n",
              "        <path d=\"M19 3H5c-1.1 0-2 .9-2 2v14c0 1.1.9 2 2 2h14c1.1 0 2-.9 2-2V5c0-1.1-.9-2-2-2zM9 17H7v-7h2v7zm4 0h-2V7h2v10zm4 0h-2v-4h2v4z\"/>\n",
              "    </g>\n",
              "</svg>\n",
              "  </button>\n",
              "\n",
              "<style>\n",
              "  .colab-df-quickchart {\n",
              "      --bg-color: #E8F0FE;\n",
              "      --fill-color: #1967D2;\n",
              "      --hover-bg-color: #E2EBFA;\n",
              "      --hover-fill-color: #174EA6;\n",
              "      --disabled-fill-color: #AAA;\n",
              "      --disabled-bg-color: #DDD;\n",
              "  }\n",
              "\n",
              "  [theme=dark] .colab-df-quickchart {\n",
              "      --bg-color: #3B4455;\n",
              "      --fill-color: #D2E3FC;\n",
              "      --hover-bg-color: #434B5C;\n",
              "      --hover-fill-color: #FFFFFF;\n",
              "      --disabled-bg-color: #3B4455;\n",
              "      --disabled-fill-color: #666;\n",
              "  }\n",
              "\n",
              "  .colab-df-quickchart {\n",
              "    background-color: var(--bg-color);\n",
              "    border: none;\n",
              "    border-radius: 50%;\n",
              "    cursor: pointer;\n",
              "    display: none;\n",
              "    fill: var(--fill-color);\n",
              "    height: 32px;\n",
              "    padding: 0;\n",
              "    width: 32px;\n",
              "  }\n",
              "\n",
              "  .colab-df-quickchart:hover {\n",
              "    background-color: var(--hover-bg-color);\n",
              "    box-shadow: 0 1px 2px rgba(60, 64, 67, 0.3), 0 1px 3px 1px rgba(60, 64, 67, 0.15);\n",
              "    fill: var(--button-hover-fill-color);\n",
              "  }\n",
              "\n",
              "  .colab-df-quickchart-complete:disabled,\n",
              "  .colab-df-quickchart-complete:disabled:hover {\n",
              "    background-color: var(--disabled-bg-color);\n",
              "    fill: var(--disabled-fill-color);\n",
              "    box-shadow: none;\n",
              "  }\n",
              "\n",
              "  .colab-df-spinner {\n",
              "    border: 2px solid var(--fill-color);\n",
              "    border-color: transparent;\n",
              "    border-bottom-color: var(--fill-color);\n",
              "    animation:\n",
              "      spin 1s steps(1) infinite;\n",
              "  }\n",
              "\n",
              "  @keyframes spin {\n",
              "    0% {\n",
              "      border-color: transparent;\n",
              "      border-bottom-color: var(--fill-color);\n",
              "      border-left-color: var(--fill-color);\n",
              "    }\n",
              "    20% {\n",
              "      border-color: transparent;\n",
              "      border-left-color: var(--fill-color);\n",
              "      border-top-color: var(--fill-color);\n",
              "    }\n",
              "    30% {\n",
              "      border-color: transparent;\n",
              "      border-left-color: var(--fill-color);\n",
              "      border-top-color: var(--fill-color);\n",
              "      border-right-color: var(--fill-color);\n",
              "    }\n",
              "    40% {\n",
              "      border-color: transparent;\n",
              "      border-right-color: var(--fill-color);\n",
              "      border-top-color: var(--fill-color);\n",
              "    }\n",
              "    60% {\n",
              "      border-color: transparent;\n",
              "      border-right-color: var(--fill-color);\n",
              "    }\n",
              "    80% {\n",
              "      border-color: transparent;\n",
              "      border-right-color: var(--fill-color);\n",
              "      border-bottom-color: var(--fill-color);\n",
              "    }\n",
              "    90% {\n",
              "      border-color: transparent;\n",
              "      border-bottom-color: var(--fill-color);\n",
              "    }\n",
              "  }\n",
              "</style>\n",
              "\n",
              "  <script>\n",
              "    async function quickchart(key) {\n",
              "      const quickchartButtonEl =\n",
              "        document.querySelector('#' + key + ' button');\n",
              "      quickchartButtonEl.disabled = true;  // To prevent multiple clicks.\n",
              "      quickchartButtonEl.classList.add('colab-df-spinner');\n",
              "      try {\n",
              "        const charts = await google.colab.kernel.invokeFunction(\n",
              "            'suggestCharts', [key], {});\n",
              "      } catch (error) {\n",
              "        console.error('Error during call to suggestCharts:', error);\n",
              "      }\n",
              "      quickchartButtonEl.classList.remove('colab-df-spinner');\n",
              "      quickchartButtonEl.classList.add('colab-df-quickchart-complete');\n",
              "    }\n",
              "    (() => {\n",
              "      let quickchartButtonEl =\n",
              "        document.querySelector('#df-ee3db2f8-71b1-411e-a188-d2c27992da77 button');\n",
              "      quickchartButtonEl.style.display =\n",
              "        google.colab.kernel.accessAllowed ? 'block' : 'none';\n",
              "    })();\n",
              "  </script>\n",
              "</div>\n",
              "\n",
              "    </div>\n",
              "  </div>\n"
            ]
          },
          "metadata": {},
          "execution_count": 119
        }
      ],
      "source": [
        "# testing user_item_interactions_matrix\n",
        "df_final.pivot_table(\n",
        "                                                index = 'user_id'\n",
        "                                              , columns = 'song_id' #metadata_info'\n",
        "                                              , values = 'play_count').sample(3)"
      ]
    },
    {
      "cell_type": "markdown",
      "source": [
        "#### M2 Final Recommendations (6958)"
      ],
      "metadata": {
        "id": "R-E4Pp_ahsmj"
      }
    },
    {
      "cell_type": "code",
      "execution_count": 212,
      "metadata": {
        "id": "qWbR85mI5Hrk",
        "colab": {
          "base_uri": "https://localhost:8080/"
        },
        "outputId": "6899abf2-f290-4cec-d013-ed76ba5e284d"
      },
      "outputs": [
        {
          "output_type": "execute_result",
          "data": {
            "text/plain": [
              "[{'song_id': 2048, 'song_title': 'Already Gone', 'predicted_play_count': 5},\n",
              " {'song_id': 2098, 'song_title': 'Down To Earth', 'predicted_play_count': 5},\n",
              " {'song_id': 2734, 'song_title': 'Love Me', 'predicted_play_count': 5},\n",
              " {'song_id': 4645,\n",
              "  'song_title': 'Live And Let Die',\n",
              "  'predicted_play_count': 5},\n",
              " {'song_id': 1994,\n",
              "  'song_title': 'Nothing Better (Album)',\n",
              "  'predicted_play_count': 4.085714285714286}]"
            ]
          },
          "metadata": {},
          "execution_count": 212
        }
      ],
      "source": [
        "# Make top 5 recommendations for any user_id with a similarity-based recommendation engine\n",
        "\n",
        "# randomized user_id\n",
        "# rand_index = np.random.randint(1, len(df_final))\n",
        "# testing randomized user_id\n",
        "# print(df_final['user_id'].iloc[rand_index])\n",
        "\n",
        "# get_recommendation function with ypdated values:\n",
        "recommendations = get_recommendations( df_final\n",
        "                                      , 6958 #df_final['user_id'].iloc[rand_index]    # random user\n",
        "                                      , 5\n",
        "                                      #, sim_user_user\n",
        "                                      , sim_user_user_optimized # adding the optimized model\n",
        "                                      )\n",
        "recommendations"
      ]
    },
    {
      "cell_type": "code",
      "execution_count": 213,
      "metadata": {
        "id": "b5WfIX0Z6_q2",
        "colab": {
          "base_uri": "https://localhost:8080/",
          "height": 206
        },
        "outputId": "66f2f17c-5dcb-42f5-e1d7-4225735a79b7"
      },
      "outputs": [
        {
          "output_type": "execute_result",
          "data": {
            "text/plain": [
              "   prod_id                   title  play_freq\n",
              "0     2048            Already Gone   5.000000\n",
              "1     2098           Down To Earth   5.000000\n",
              "2     2734                 Love Me   5.000000\n",
              "3     4645        Live And Let Die   5.000000\n",
              "4     1994  Nothing Better (Album)   4.085714"
            ],
            "text/html": [
              "\n",
              "  <div id=\"df-49e7a82d-e468-4b56-af4e-04075d4c1b97\" class=\"colab-df-container\">\n",
              "    <div>\n",
              "<style scoped>\n",
              "    .dataframe tbody tr th:only-of-type {\n",
              "        vertical-align: middle;\n",
              "    }\n",
              "\n",
              "    .dataframe tbody tr th {\n",
              "        vertical-align: top;\n",
              "    }\n",
              "\n",
              "    .dataframe thead th {\n",
              "        text-align: right;\n",
              "    }\n",
              "</style>\n",
              "<table border=\"1\" class=\"dataframe\">\n",
              "  <thead>\n",
              "    <tr style=\"text-align: right;\">\n",
              "      <th></th>\n",
              "      <th>prod_id</th>\n",
              "      <th>title</th>\n",
              "      <th>play_freq</th>\n",
              "    </tr>\n",
              "  </thead>\n",
              "  <tbody>\n",
              "    <tr>\n",
              "      <th>0</th>\n",
              "      <td>2048</td>\n",
              "      <td>Already Gone</td>\n",
              "      <td>5.000000</td>\n",
              "    </tr>\n",
              "    <tr>\n",
              "      <th>1</th>\n",
              "      <td>2098</td>\n",
              "      <td>Down To Earth</td>\n",
              "      <td>5.000000</td>\n",
              "    </tr>\n",
              "    <tr>\n",
              "      <th>2</th>\n",
              "      <td>2734</td>\n",
              "      <td>Love Me</td>\n",
              "      <td>5.000000</td>\n",
              "    </tr>\n",
              "    <tr>\n",
              "      <th>3</th>\n",
              "      <td>4645</td>\n",
              "      <td>Live And Let Die</td>\n",
              "      <td>5.000000</td>\n",
              "    </tr>\n",
              "    <tr>\n",
              "      <th>4</th>\n",
              "      <td>1994</td>\n",
              "      <td>Nothing Better (Album)</td>\n",
              "      <td>4.085714</td>\n",
              "    </tr>\n",
              "  </tbody>\n",
              "</table>\n",
              "</div>\n",
              "    <div class=\"colab-df-buttons\">\n",
              "\n",
              "  <div class=\"colab-df-container\">\n",
              "    <button class=\"colab-df-convert\" onclick=\"convertToInteractive('df-49e7a82d-e468-4b56-af4e-04075d4c1b97')\"\n",
              "            title=\"Convert this dataframe to an interactive table.\"\n",
              "            style=\"display:none;\">\n",
              "\n",
              "  <svg xmlns=\"http://www.w3.org/2000/svg\" height=\"24px\" viewBox=\"0 -960 960 960\">\n",
              "    <path d=\"M120-120v-720h720v720H120Zm60-500h600v-160H180v160Zm220 220h160v-160H400v160Zm0 220h160v-160H400v160ZM180-400h160v-160H180v160Zm440 0h160v-160H620v160ZM180-180h160v-160H180v160Zm440 0h160v-160H620v160Z\"/>\n",
              "  </svg>\n",
              "    </button>\n",
              "\n",
              "  <style>\n",
              "    .colab-df-container {\n",
              "      display:flex;\n",
              "      gap: 12px;\n",
              "    }\n",
              "\n",
              "    .colab-df-convert {\n",
              "      background-color: #E8F0FE;\n",
              "      border: none;\n",
              "      border-radius: 50%;\n",
              "      cursor: pointer;\n",
              "      display: none;\n",
              "      fill: #1967D2;\n",
              "      height: 32px;\n",
              "      padding: 0 0 0 0;\n",
              "      width: 32px;\n",
              "    }\n",
              "\n",
              "    .colab-df-convert:hover {\n",
              "      background-color: #E2EBFA;\n",
              "      box-shadow: 0px 1px 2px rgba(60, 64, 67, 0.3), 0px 1px 3px 1px rgba(60, 64, 67, 0.15);\n",
              "      fill: #174EA6;\n",
              "    }\n",
              "\n",
              "    .colab-df-buttons div {\n",
              "      margin-bottom: 4px;\n",
              "    }\n",
              "\n",
              "    [theme=dark] .colab-df-convert {\n",
              "      background-color: #3B4455;\n",
              "      fill: #D2E3FC;\n",
              "    }\n",
              "\n",
              "    [theme=dark] .colab-df-convert:hover {\n",
              "      background-color: #434B5C;\n",
              "      box-shadow: 0px 1px 3px 1px rgba(0, 0, 0, 0.15);\n",
              "      filter: drop-shadow(0px 1px 2px rgba(0, 0, 0, 0.3));\n",
              "      fill: #FFFFFF;\n",
              "    }\n",
              "  </style>\n",
              "\n",
              "    <script>\n",
              "      const buttonEl =\n",
              "        document.querySelector('#df-49e7a82d-e468-4b56-af4e-04075d4c1b97 button.colab-df-convert');\n",
              "      buttonEl.style.display =\n",
              "        google.colab.kernel.accessAllowed ? 'block' : 'none';\n",
              "\n",
              "      async function convertToInteractive(key) {\n",
              "        const element = document.querySelector('#df-49e7a82d-e468-4b56-af4e-04075d4c1b97');\n",
              "        const dataTable =\n",
              "          await google.colab.kernel.invokeFunction('convertToInteractive',\n",
              "                                                    [key], {});\n",
              "        if (!dataTable) return;\n",
              "\n",
              "        const docLinkHtml = 'Like what you see? Visit the ' +\n",
              "          '<a target=\"_blank\" href=https://colab.research.google.com/notebooks/data_table.ipynb>data table notebook</a>'\n",
              "          + ' to learn more about interactive tables.';\n",
              "        element.innerHTML = '';\n",
              "        dataTable['output_type'] = 'display_data';\n",
              "        await google.colab.output.renderOutput(dataTable, element);\n",
              "        const docLink = document.createElement('div');\n",
              "        docLink.innerHTML = docLinkHtml;\n",
              "        element.appendChild(docLink);\n",
              "      }\n",
              "    </script>\n",
              "  </div>\n",
              "\n",
              "\n",
              "<div id=\"df-ec526cc6-77c0-4181-97e8-82680425abd6\">\n",
              "  <button class=\"colab-df-quickchart\" onclick=\"quickchart('df-ec526cc6-77c0-4181-97e8-82680425abd6')\"\n",
              "            title=\"Suggest charts\"\n",
              "            style=\"display:none;\">\n",
              "\n",
              "<svg xmlns=\"http://www.w3.org/2000/svg\" height=\"24px\"viewBox=\"0 0 24 24\"\n",
              "     width=\"24px\">\n",
              "    <g>\n",
              "        <path d=\"M19 3H5c-1.1 0-2 .9-2 2v14c0 1.1.9 2 2 2h14c1.1 0 2-.9 2-2V5c0-1.1-.9-2-2-2zM9 17H7v-7h2v7zm4 0h-2V7h2v10zm4 0h-2v-4h2v4z\"/>\n",
              "    </g>\n",
              "</svg>\n",
              "  </button>\n",
              "\n",
              "<style>\n",
              "  .colab-df-quickchart {\n",
              "      --bg-color: #E8F0FE;\n",
              "      --fill-color: #1967D2;\n",
              "      --hover-bg-color: #E2EBFA;\n",
              "      --hover-fill-color: #174EA6;\n",
              "      --disabled-fill-color: #AAA;\n",
              "      --disabled-bg-color: #DDD;\n",
              "  }\n",
              "\n",
              "  [theme=dark] .colab-df-quickchart {\n",
              "      --bg-color: #3B4455;\n",
              "      --fill-color: #D2E3FC;\n",
              "      --hover-bg-color: #434B5C;\n",
              "      --hover-fill-color: #FFFFFF;\n",
              "      --disabled-bg-color: #3B4455;\n",
              "      --disabled-fill-color: #666;\n",
              "  }\n",
              "\n",
              "  .colab-df-quickchart {\n",
              "    background-color: var(--bg-color);\n",
              "    border: none;\n",
              "    border-radius: 50%;\n",
              "    cursor: pointer;\n",
              "    display: none;\n",
              "    fill: var(--fill-color);\n",
              "    height: 32px;\n",
              "    padding: 0;\n",
              "    width: 32px;\n",
              "  }\n",
              "\n",
              "  .colab-df-quickchart:hover {\n",
              "    background-color: var(--hover-bg-color);\n",
              "    box-shadow: 0 1px 2px rgba(60, 64, 67, 0.3), 0 1px 3px 1px rgba(60, 64, 67, 0.15);\n",
              "    fill: var(--button-hover-fill-color);\n",
              "  }\n",
              "\n",
              "  .colab-df-quickchart-complete:disabled,\n",
              "  .colab-df-quickchart-complete:disabled:hover {\n",
              "    background-color: var(--disabled-bg-color);\n",
              "    fill: var(--disabled-fill-color);\n",
              "    box-shadow: none;\n",
              "  }\n",
              "\n",
              "  .colab-df-spinner {\n",
              "    border: 2px solid var(--fill-color);\n",
              "    border-color: transparent;\n",
              "    border-bottom-color: var(--fill-color);\n",
              "    animation:\n",
              "      spin 1s steps(1) infinite;\n",
              "  }\n",
              "\n",
              "  @keyframes spin {\n",
              "    0% {\n",
              "      border-color: transparent;\n",
              "      border-bottom-color: var(--fill-color);\n",
              "      border-left-color: var(--fill-color);\n",
              "    }\n",
              "    20% {\n",
              "      border-color: transparent;\n",
              "      border-left-color: var(--fill-color);\n",
              "      border-top-color: var(--fill-color);\n",
              "    }\n",
              "    30% {\n",
              "      border-color: transparent;\n",
              "      border-left-color: var(--fill-color);\n",
              "      border-top-color: var(--fill-color);\n",
              "      border-right-color: var(--fill-color);\n",
              "    }\n",
              "    40% {\n",
              "      border-color: transparent;\n",
              "      border-right-color: var(--fill-color);\n",
              "      border-top-color: var(--fill-color);\n",
              "    }\n",
              "    60% {\n",
              "      border-color: transparent;\n",
              "      border-right-color: var(--fill-color);\n",
              "    }\n",
              "    80% {\n",
              "      border-color: transparent;\n",
              "      border-right-color: var(--fill-color);\n",
              "      border-bottom-color: var(--fill-color);\n",
              "    }\n",
              "    90% {\n",
              "      border-color: transparent;\n",
              "      border-bottom-color: var(--fill-color);\n",
              "    }\n",
              "  }\n",
              "</style>\n",
              "\n",
              "  <script>\n",
              "    async function quickchart(key) {\n",
              "      const quickchartButtonEl =\n",
              "        document.querySelector('#' + key + ' button');\n",
              "      quickchartButtonEl.disabled = true;  // To prevent multiple clicks.\n",
              "      quickchartButtonEl.classList.add('colab-df-spinner');\n",
              "      try {\n",
              "        const charts = await google.colab.kernel.invokeFunction(\n",
              "            'suggestCharts', [key], {});\n",
              "      } catch (error) {\n",
              "        console.error('Error during call to suggestCharts:', error);\n",
              "      }\n",
              "      quickchartButtonEl.classList.remove('colab-df-spinner');\n",
              "      quickchartButtonEl.classList.add('colab-df-quickchart-complete');\n",
              "    }\n",
              "    (() => {\n",
              "      let quickchartButtonEl =\n",
              "        document.querySelector('#df-ec526cc6-77c0-4181-97e8-82680425abd6 button');\n",
              "      quickchartButtonEl.style.display =\n",
              "        google.colab.kernel.accessAllowed ? 'block' : 'none';\n",
              "    })();\n",
              "  </script>\n",
              "</div>\n",
              "\n",
              "  <div id=\"id_4c5e5b66-ee02-4322-937e-2cac2ada7beb\">\n",
              "    <style>\n",
              "      .colab-df-generate {\n",
              "        background-color: #E8F0FE;\n",
              "        border: none;\n",
              "        border-radius: 50%;\n",
              "        cursor: pointer;\n",
              "        display: none;\n",
              "        fill: #1967D2;\n",
              "        height: 32px;\n",
              "        padding: 0 0 0 0;\n",
              "        width: 32px;\n",
              "      }\n",
              "\n",
              "      .colab-df-generate:hover {\n",
              "        background-color: #E2EBFA;\n",
              "        box-shadow: 0px 1px 2px rgba(60, 64, 67, 0.3), 0px 1px 3px 1px rgba(60, 64, 67, 0.15);\n",
              "        fill: #174EA6;\n",
              "      }\n",
              "\n",
              "      [theme=dark] .colab-df-generate {\n",
              "        background-color: #3B4455;\n",
              "        fill: #D2E3FC;\n",
              "      }\n",
              "\n",
              "      [theme=dark] .colab-df-generate:hover {\n",
              "        background-color: #434B5C;\n",
              "        box-shadow: 0px 1px 3px 1px rgba(0, 0, 0, 0.15);\n",
              "        filter: drop-shadow(0px 1px 2px rgba(0, 0, 0, 0.3));\n",
              "        fill: #FFFFFF;\n",
              "      }\n",
              "    </style>\n",
              "    <button class=\"colab-df-generate\" onclick=\"generateWithVariable('df_output')\"\n",
              "            title=\"Generate code using this dataframe.\"\n",
              "            style=\"display:none;\">\n",
              "\n",
              "  <svg xmlns=\"http://www.w3.org/2000/svg\" height=\"24px\"viewBox=\"0 0 24 24\"\n",
              "       width=\"24px\">\n",
              "    <path d=\"M7,19H8.4L18.45,9,17,7.55,7,17.6ZM5,21V16.75L18.45,3.32a2,2,0,0,1,2.83,0l1.4,1.43a1.91,1.91,0,0,1,.58,1.4,1.91,1.91,0,0,1-.58,1.4L9.25,21ZM18.45,9,17,7.55Zm-12,3A5.31,5.31,0,0,0,4.9,8.1,5.31,5.31,0,0,0,1,6.5,5.31,5.31,0,0,0,4.9,4.9,5.31,5.31,0,0,0,6.5,1,5.31,5.31,0,0,0,8.1,4.9,5.31,5.31,0,0,0,12,6.5,5.46,5.46,0,0,0,6.5,12Z\"/>\n",
              "  </svg>\n",
              "    </button>\n",
              "    <script>\n",
              "      (() => {\n",
              "      const buttonEl =\n",
              "        document.querySelector('#id_4c5e5b66-ee02-4322-937e-2cac2ada7beb button.colab-df-generate');\n",
              "      buttonEl.style.display =\n",
              "        google.colab.kernel.accessAllowed ? 'block' : 'none';\n",
              "\n",
              "      buttonEl.onclick = () => {\n",
              "        google.colab.notebook.generateWithVariable('df_output');\n",
              "      }\n",
              "      })();\n",
              "    </script>\n",
              "  </div>\n",
              "\n",
              "    </div>\n",
              "  </div>\n"
            ]
          },
          "metadata": {},
          "execution_count": 213
        }
      ],
      "source": [
        "# Building the dataframe for above recommendations with columns \"song_id\" and \"play_freq\"\n",
        "df_output = pd.DataFrame(recommendations)\n",
        "df_output = df_output.rename(columns={'song_id': 'prod_id'\n",
        ", 'song_title': 'title'\n",
        ", 'predicted_play_count': 'play_freq'})\n",
        "df_output"
      ]
    },
    {
      "cell_type": "markdown",
      "metadata": {
        "id": "ghwEJY2e7INB"
      },
      "source": [
        "### Correcting the play_counts and Ranking the above songs"
      ]
    },
    {
      "cell_type": "code",
      "execution_count": 133,
      "metadata": {
        "id": "39Hs7ZbO9v3O"
      },
      "outputs": [],
      "source": [
        "def ranking_songs(recommendations, final_rating):\n",
        "\n",
        "    # Sort the songs based on play counts\n",
        "    ranked_songs = final_rating.loc[[item[0] for item in recommendations]].sort_values('play_freq', ascending=False)[['play_freq']].reset_index()\n",
        "\n",
        "    # Merge with the recommended songs to get predicted play_count\n",
        "    ranked_songs = ranked_songs.merge(pd.DataFrame(recommendations, columns=['prod_id', 'play_freq']), on='prod_id', how='inner')\n",
        "\n",
        "    # Rank the songs based on corrected play_counts\n",
        "    ranked_songs['corrected_ratings'] = ranked_songs['predicted_ratings'] - 1 / np.sqrt(ranked_songs['play_freq'])\n",
        "\n",
        "    # Sort the songs based on corrected play_counts\n",
        "    ranked_songs = ranked_songs.sort_values('corrected_ratings', ascending=False)\n",
        "\n",
        "    return ranked_songs"
      ]
    },
    {
      "cell_type": "markdown",
      "metadata": {
        "id": "QgbzJKk7Tsnr"
      },
      "source": [
        "### M3) Item Item Similarity-based collaborative filtering recommendation systems"
      ]
    },
    {
      "cell_type": "code",
      "execution_count": 135,
      "metadata": {
        "id": "W5RMcdzjTsns",
        "scrolled": false,
        "colab": {
          "base_uri": "https://localhost:8080/"
        },
        "outputId": "3cb6a478-c55c-45b3-bf39-37a286dc6129"
      },
      "outputs": [
        {
          "output_type": "stream",
          "name": "stdout",
          "text": [
            "RMSE: 0.9300\n",
            "Precision:  0.325\n",
            "Recall:  0.588\n",
            "F_1 score:  0.419\n"
          ]
        }
      ],
      "source": [
        "# Apply the item-item similarity collaborative filtering model with random_state = 1 and evaluate the model performance\n",
        "\n",
        "# Declaring the similarity options\n",
        "sim_options = {'name': 'cosine',\n",
        "               'user_based': False}\n",
        "\n",
        "# KNN algorithm is used to find desired similar items\n",
        "sim_item_item = KNNBasic(sim_options = sim_options\n",
        "                         , random_state = 1\n",
        "                         , verbose = False)\n",
        "\n",
        "# Train the algorithm on the train set, and predict ratings for the test set\n",
        "sim_item_item.fit(trainset)\n",
        "\n",
        "# Let us compute precision@k, recall@k, and f_1 score with k = 10\n",
        "precision_recall_at_k(sim_item_item)"
      ]
    },
    {
      "cell_type": "code",
      "execution_count": 136,
      "metadata": {
        "id": "5yILOxXRTsns",
        "colab": {
          "base_uri": "https://localhost:8080/"
        },
        "outputId": "2afb1018-6885-4757-a188-003970564bcd"
      },
      "outputs": [
        {
          "output_type": "stream",
          "name": "stdout",
          "text": [
            "user: 6958       item: 1671       r_ui = None   est = 1.40   {'actual_k': 20, 'was_impossible': False}\n"
          ]
        },
        {
          "output_type": "execute_result",
          "data": {
            "text/plain": [
              "Prediction(uid=6958, iid=1671, r_ui=None, est=1.3978497683691953, details={'actual_k': 20, 'was_impossible': False})"
            ]
          },
          "metadata": {},
          "execution_count": 136
        }
      ],
      "source": [
        "# Predicting play count for a sample user_id 6958 and song (with song_id 1671) heard by the user\n",
        "sim_item_item.predict(6958\n",
        "                      , 1671\n",
        "                      , verbose = True)"
      ]
    },
    {
      "cell_type": "code",
      "execution_count": 137,
      "metadata": {
        "id": "jSn8oK3JZsTc",
        "colab": {
          "base_uri": "https://localhost:8080/"
        },
        "outputId": "46ae5d61-6510-47e3-9b1a-602f70fa4908"
      },
      "outputs": [
        {
          "output_type": "stream",
          "name": "stdout",
          "text": [
            "user: 56576      item: 1671       r_ui = None   est = 2.08   {'actual_k': 13, 'was_impossible': False}\n"
          ]
        },
        {
          "output_type": "execute_result",
          "data": {
            "text/plain": [
              "Prediction(uid=56576, iid=1671, r_ui=None, est=2.08119101207053, details={'actual_k': 13, 'was_impossible': False})"
            ]
          },
          "metadata": {},
          "execution_count": 137
        }
      ],
      "source": [
        "# Predict the play count for a user that has not listened to the song (with song_id 1671)\n",
        "user = n_users_not_interacted_with(1, df_final, 1671)\n",
        "\n",
        "sim_item_item.predict(user[0]\n",
        "                      , 1671\n",
        "                      , verbose = True)"
      ]
    },
    {
      "cell_type": "code",
      "execution_count": 138,
      "metadata": {
        "id": "f5bcZ3HgTsnt",
        "colab": {
          "base_uri": "https://localhost:8080/"
        },
        "outputId": "e9aad57b-cdc9-4111-c503-bb095b5efc96"
      },
      "outputs": [
        {
          "output_type": "stream",
          "name": "stdout",
          "text": [
            " Best RMSE score 1.0367587232303441 \n",
            "\n",
            "\n",
            "Combination of parameters for best RMSE score {'k': 10, 'min_k': 6, 'sim_options': {'name': 'msd', 'user_based': True}, 'user_based': False} \n",
            "\n"
          ]
        }
      ],
      "source": [
        "# Setting up parameter grid to tune the hyperparameters\n",
        "param_grid = {\n",
        "        'k': [10, 20, 30]                      # number of neighbors to consider\n",
        "        , 'min_k': [3, 6, 9]                   # minimum number of neighbors to take into account for aggregation\n",
        "        , 'sim_options': {\n",
        "        'name': ['cosine'\n",
        "                , 'msd']  # similarity metric (cosine or msd)\n",
        "                }\n",
        "        , 'user_based': [False]\n",
        "        }\n",
        "\n",
        "# Performing 3-fold cross validation to tune the hyperparameters\n",
        "gs = GridSearchCV( KNNBasic\n",
        "                  , param_grid\n",
        "                  , measures = ['rmse']\n",
        "                  , cv = 3\n",
        "                  , n_jobs = -1)\n",
        "\n",
        "# Fitting the data\n",
        "gs.fit(data)\n",
        "\n",
        "# Check data\n",
        "#print(\"data check:\", data.head(5), \"\\n\\n\")\n",
        "\n",
        "# Best RMSE score\n",
        "print(\" Best RMSE score\", gs.best_score['rmse'], \"\\n\\n\")\n",
        "\n",
        "# Combination of parameters that gave the best RMSE score\n",
        "print(\"Combination of parameters for best RMSE score\", gs.best_params['rmse'], \"\\n\")"
      ]
    },
    {
      "cell_type": "markdown",
      "metadata": {
        "id": "SXLxjLEQYvWk"
      },
      "source": [
        "**Think About It:** How do the parameters affect the performance of the model? Can we improve the performance of the model further? Check the list of hyperparameters [here](https://surprise.readthedocs.io/en/stable/knn_inspired.html)."
      ]
    },
    {
      "cell_type": "code",
      "execution_count": 139,
      "metadata": {
        "id": "dSeiM1qeTsnt",
        "colab": {
          "base_uri": "https://localhost:8080/"
        },
        "outputId": "d67f5858-3ef8-49d0-c765-f674ac820901"
      },
      "outputs": [
        {
          "output_type": "stream",
          "name": "stdout",
          "text": [
            "RMSE: 0.9491\n",
            "Precision:  0.332\n",
            "Recall:  0.846\n",
            "F_1 score:  0.477\n"
          ]
        }
      ],
      "source": [
        "# Apply the best modle found in the grid search\n",
        "# Declaring the similarity options\n",
        "sim_options = {'name': 'msd',\n",
        "               'user_based': True}\n",
        "\n",
        "# KNN optimized algorithm is used to find desired similar items\n",
        "sim_item_item_optimized = KNNBasic(sim_options=sim_options\n",
        "                                   , k=gs.best_params['rmse']['k']\n",
        "                                   , min_k=9\n",
        "                                   , random_state=1\n",
        "                                   , verbose=False)\n",
        "\n",
        "# Train the algorithm on the train set, and predict ratings for the test set\n",
        "sim_item_item_optimized.fit(trainset)\n",
        "\n",
        "# Let us compute precision@k, recall@k, and f_1 score with k = 10\n",
        "precision_recall_at_k(sim_item_item_optimized)"
      ]
    },
    {
      "cell_type": "code",
      "execution_count": 140,
      "metadata": {
        "id": "gIBRRvdoTsnt",
        "colab": {
          "base_uri": "https://localhost:8080/"
        },
        "outputId": "bb2e66e8-0f4e-4a97-d2f6-f3ecb02afae9"
      },
      "outputs": [
        {
          "output_type": "stream",
          "name": "stdout",
          "text": [
            "user: 6958       item: 1671       r_ui = None   est = 1.75   {'was_impossible': True, 'reason': 'Not enough neighbors.'}\n"
          ]
        },
        {
          "output_type": "execute_result",
          "data": {
            "text/plain": [
              "Prediction(uid=6958, iid=1671, r_ui=None, est=1.7486338797814207, details={'was_impossible': True, 'reason': 'Not enough neighbors.'})"
            ]
          },
          "metadata": {},
          "execution_count": 140
        }
      ],
      "source": [
        "# Predict the play_count by a user(user_id 6958) for the song (song_id 1671)\n",
        "sim_item_item_optimized.predict(6958\n",
        "                      , 1671\n",
        "                      , verbose = True)"
      ]
    },
    {
      "cell_type": "code",
      "execution_count": 141,
      "metadata": {
        "id": "LNEgcI9PTsnu",
        "colab": {
          "base_uri": "https://localhost:8080/"
        },
        "outputId": "8ccb5171-5092-48ea-d202-bab0c5ea715f"
      },
      "outputs": [
        {
          "output_type": "stream",
          "name": "stdout",
          "text": [
            "user: 6958       item: 3232       r_ui = None   est = 1.75   {'was_impossible': True, 'reason': 'Not enough neighbors.'}\n"
          ]
        },
        {
          "output_type": "execute_result",
          "data": {
            "text/plain": [
              "Prediction(uid=6958, iid=3232, r_ui=None, est=1.7486338797814207, details={'was_impossible': True, 'reason': 'Not enough neighbors.'})"
            ]
          },
          "metadata": {},
          "execution_count": 141
        }
      ],
      "source": [
        "# Predicting play count for a sample user_id 6958 with song_id 3232 which is not heard by the user\n",
        "sim_item_item_optimized.predict(6958\n",
        "                      , 3232\n",
        "                      , verbose = True)"
      ]
    },
    {
      "cell_type": "code",
      "execution_count": 142,
      "metadata": {
        "id": "ZRJS4oDFTsnu",
        "colab": {
          "base_uri": "https://localhost:8080/"
        },
        "outputId": "9607d4f1-04a8-46d9-b3c8-0c940539f3af"
      },
      "outputs": [
        {
          "output_type": "execute_result",
          "data": {
            "text/plain": [
              "[4, 12, 7, 10, 20]"
            ]
          },
          "metadata": {},
          "execution_count": 142
        }
      ],
      "source": [
        "# Find five most similar items to the item with inner id 0\n",
        "internal_id = 0\n",
        "sim_item_item_optimized.get_neighbors(internal_id\n",
        "                                      , k=5\n",
        "                                      #, sim_options={'name': 'msd'}\n",
        "                                      )"
      ]
    },
    {
      "cell_type": "markdown",
      "source": [
        "#### M3 Final Recommendations (6958)"
      ],
      "metadata": {
        "id": "munnZwlohU7x"
      }
    },
    {
      "cell_type": "code",
      "execution_count": 210,
      "metadata": {
        "id": "rzoEbuZFTsnu",
        "colab": {
          "base_uri": "https://localhost:8080/"
        },
        "outputId": "9a7ce9cd-7684-4623-a1e2-74d66aa8d0f5"
      },
      "outputs": [
        {
          "output_type": "execute_result",
          "data": {
            "text/plain": [
              "[{'song_id': 21,\n",
              "  'song_title': 'Back Against The Wall',\n",
              "  'predicted_play_count': 1.7486338797814207},\n",
              " {'song_id': 22,\n",
              "  'song_title': 'Halo',\n",
              "  'predicted_play_count': 1.7486338797814207},\n",
              " {'song_id': 52,\n",
              "  'song_title': 'Halo',\n",
              "  'predicted_play_count': 1.7486338797814207},\n",
              " {'song_id': 97,\n",
              "  'song_title': 'Harder Better Faster Stronger',\n",
              "  'predicted_play_count': 1.7486338797814207},\n",
              " {'song_id': 114,\n",
              "  'song_title': \"Adam's Song\",\n",
              "  'predicted_play_count': 1.7486338797814207}]"
            ]
          },
          "metadata": {},
          "execution_count": 210
        }
      ],
      "source": [
        "# Making top 5 recommendations for any user_id  with item_item_similarity-based recommendation engine\n",
        "recommendations = get_recommendations( df_final\n",
        "                                      , 6958 #df_final['user_id'].iloc[rand_index]\n",
        "                                      , 5\n",
        "                                      , sim_item_item_optimized\n",
        "                                      )\n",
        "recommendations"
      ]
    },
    {
      "cell_type": "code",
      "execution_count": 211,
      "metadata": {
        "id": "_kXVTiysTsnv",
        "colab": {
          "base_uri": "https://localhost:8080/",
          "height": 206
        },
        "outputId": "56fad3c5-2260-42c3-94f0-c86b5e86802c"
      },
      "outputs": [
        {
          "output_type": "execute_result",
          "data": {
            "text/plain": [
              "   prod_id                          title  play_freq\n",
              "0       21          Back Against The Wall   1.748634\n",
              "1       22                           Halo   1.748634\n",
              "2       52                           Halo   1.748634\n",
              "3       97  Harder Better Faster Stronger   1.748634\n",
              "4      114                    Adam's Song   1.748634"
            ],
            "text/html": [
              "\n",
              "  <div id=\"df-22f43aad-5fbb-4c81-8d79-1e0b281c659e\" class=\"colab-df-container\">\n",
              "    <div>\n",
              "<style scoped>\n",
              "    .dataframe tbody tr th:only-of-type {\n",
              "        vertical-align: middle;\n",
              "    }\n",
              "\n",
              "    .dataframe tbody tr th {\n",
              "        vertical-align: top;\n",
              "    }\n",
              "\n",
              "    .dataframe thead th {\n",
              "        text-align: right;\n",
              "    }\n",
              "</style>\n",
              "<table border=\"1\" class=\"dataframe\">\n",
              "  <thead>\n",
              "    <tr style=\"text-align: right;\">\n",
              "      <th></th>\n",
              "      <th>prod_id</th>\n",
              "      <th>title</th>\n",
              "      <th>play_freq</th>\n",
              "    </tr>\n",
              "  </thead>\n",
              "  <tbody>\n",
              "    <tr>\n",
              "      <th>0</th>\n",
              "      <td>21</td>\n",
              "      <td>Back Against The Wall</td>\n",
              "      <td>1.748634</td>\n",
              "    </tr>\n",
              "    <tr>\n",
              "      <th>1</th>\n",
              "      <td>22</td>\n",
              "      <td>Halo</td>\n",
              "      <td>1.748634</td>\n",
              "    </tr>\n",
              "    <tr>\n",
              "      <th>2</th>\n",
              "      <td>52</td>\n",
              "      <td>Halo</td>\n",
              "      <td>1.748634</td>\n",
              "    </tr>\n",
              "    <tr>\n",
              "      <th>3</th>\n",
              "      <td>97</td>\n",
              "      <td>Harder Better Faster Stronger</td>\n",
              "      <td>1.748634</td>\n",
              "    </tr>\n",
              "    <tr>\n",
              "      <th>4</th>\n",
              "      <td>114</td>\n",
              "      <td>Adam's Song</td>\n",
              "      <td>1.748634</td>\n",
              "    </tr>\n",
              "  </tbody>\n",
              "</table>\n",
              "</div>\n",
              "    <div class=\"colab-df-buttons\">\n",
              "\n",
              "  <div class=\"colab-df-container\">\n",
              "    <button class=\"colab-df-convert\" onclick=\"convertToInteractive('df-22f43aad-5fbb-4c81-8d79-1e0b281c659e')\"\n",
              "            title=\"Convert this dataframe to an interactive table.\"\n",
              "            style=\"display:none;\">\n",
              "\n",
              "  <svg xmlns=\"http://www.w3.org/2000/svg\" height=\"24px\" viewBox=\"0 -960 960 960\">\n",
              "    <path d=\"M120-120v-720h720v720H120Zm60-500h600v-160H180v160Zm220 220h160v-160H400v160Zm0 220h160v-160H400v160ZM180-400h160v-160H180v160Zm440 0h160v-160H620v160ZM180-180h160v-160H180v160Zm440 0h160v-160H620v160Z\"/>\n",
              "  </svg>\n",
              "    </button>\n",
              "\n",
              "  <style>\n",
              "    .colab-df-container {\n",
              "      display:flex;\n",
              "      gap: 12px;\n",
              "    }\n",
              "\n",
              "    .colab-df-convert {\n",
              "      background-color: #E8F0FE;\n",
              "      border: none;\n",
              "      border-radius: 50%;\n",
              "      cursor: pointer;\n",
              "      display: none;\n",
              "      fill: #1967D2;\n",
              "      height: 32px;\n",
              "      padding: 0 0 0 0;\n",
              "      width: 32px;\n",
              "    }\n",
              "\n",
              "    .colab-df-convert:hover {\n",
              "      background-color: #E2EBFA;\n",
              "      box-shadow: 0px 1px 2px rgba(60, 64, 67, 0.3), 0px 1px 3px 1px rgba(60, 64, 67, 0.15);\n",
              "      fill: #174EA6;\n",
              "    }\n",
              "\n",
              "    .colab-df-buttons div {\n",
              "      margin-bottom: 4px;\n",
              "    }\n",
              "\n",
              "    [theme=dark] .colab-df-convert {\n",
              "      background-color: #3B4455;\n",
              "      fill: #D2E3FC;\n",
              "    }\n",
              "\n",
              "    [theme=dark] .colab-df-convert:hover {\n",
              "      background-color: #434B5C;\n",
              "      box-shadow: 0px 1px 3px 1px rgba(0, 0, 0, 0.15);\n",
              "      filter: drop-shadow(0px 1px 2px rgba(0, 0, 0, 0.3));\n",
              "      fill: #FFFFFF;\n",
              "    }\n",
              "  </style>\n",
              "\n",
              "    <script>\n",
              "      const buttonEl =\n",
              "        document.querySelector('#df-22f43aad-5fbb-4c81-8d79-1e0b281c659e button.colab-df-convert');\n",
              "      buttonEl.style.display =\n",
              "        google.colab.kernel.accessAllowed ? 'block' : 'none';\n",
              "\n",
              "      async function convertToInteractive(key) {\n",
              "        const element = document.querySelector('#df-22f43aad-5fbb-4c81-8d79-1e0b281c659e');\n",
              "        const dataTable =\n",
              "          await google.colab.kernel.invokeFunction('convertToInteractive',\n",
              "                                                    [key], {});\n",
              "        if (!dataTable) return;\n",
              "\n",
              "        const docLinkHtml = 'Like what you see? Visit the ' +\n",
              "          '<a target=\"_blank\" href=https://colab.research.google.com/notebooks/data_table.ipynb>data table notebook</a>'\n",
              "          + ' to learn more about interactive tables.';\n",
              "        element.innerHTML = '';\n",
              "        dataTable['output_type'] = 'display_data';\n",
              "        await google.colab.output.renderOutput(dataTable, element);\n",
              "        const docLink = document.createElement('div');\n",
              "        docLink.innerHTML = docLinkHtml;\n",
              "        element.appendChild(docLink);\n",
              "      }\n",
              "    </script>\n",
              "  </div>\n",
              "\n",
              "\n",
              "<div id=\"df-4c89ecb7-7ca6-48f3-b616-e4246552e7aa\">\n",
              "  <button class=\"colab-df-quickchart\" onclick=\"quickchart('df-4c89ecb7-7ca6-48f3-b616-e4246552e7aa')\"\n",
              "            title=\"Suggest charts\"\n",
              "            style=\"display:none;\">\n",
              "\n",
              "<svg xmlns=\"http://www.w3.org/2000/svg\" height=\"24px\"viewBox=\"0 0 24 24\"\n",
              "     width=\"24px\">\n",
              "    <g>\n",
              "        <path d=\"M19 3H5c-1.1 0-2 .9-2 2v14c0 1.1.9 2 2 2h14c1.1 0 2-.9 2-2V5c0-1.1-.9-2-2-2zM9 17H7v-7h2v7zm4 0h-2V7h2v10zm4 0h-2v-4h2v4z\"/>\n",
              "    </g>\n",
              "</svg>\n",
              "  </button>\n",
              "\n",
              "<style>\n",
              "  .colab-df-quickchart {\n",
              "      --bg-color: #E8F0FE;\n",
              "      --fill-color: #1967D2;\n",
              "      --hover-bg-color: #E2EBFA;\n",
              "      --hover-fill-color: #174EA6;\n",
              "      --disabled-fill-color: #AAA;\n",
              "      --disabled-bg-color: #DDD;\n",
              "  }\n",
              "\n",
              "  [theme=dark] .colab-df-quickchart {\n",
              "      --bg-color: #3B4455;\n",
              "      --fill-color: #D2E3FC;\n",
              "      --hover-bg-color: #434B5C;\n",
              "      --hover-fill-color: #FFFFFF;\n",
              "      --disabled-bg-color: #3B4455;\n",
              "      --disabled-fill-color: #666;\n",
              "  }\n",
              "\n",
              "  .colab-df-quickchart {\n",
              "    background-color: var(--bg-color);\n",
              "    border: none;\n",
              "    border-radius: 50%;\n",
              "    cursor: pointer;\n",
              "    display: none;\n",
              "    fill: var(--fill-color);\n",
              "    height: 32px;\n",
              "    padding: 0;\n",
              "    width: 32px;\n",
              "  }\n",
              "\n",
              "  .colab-df-quickchart:hover {\n",
              "    background-color: var(--hover-bg-color);\n",
              "    box-shadow: 0 1px 2px rgba(60, 64, 67, 0.3), 0 1px 3px 1px rgba(60, 64, 67, 0.15);\n",
              "    fill: var(--button-hover-fill-color);\n",
              "  }\n",
              "\n",
              "  .colab-df-quickchart-complete:disabled,\n",
              "  .colab-df-quickchart-complete:disabled:hover {\n",
              "    background-color: var(--disabled-bg-color);\n",
              "    fill: var(--disabled-fill-color);\n",
              "    box-shadow: none;\n",
              "  }\n",
              "\n",
              "  .colab-df-spinner {\n",
              "    border: 2px solid var(--fill-color);\n",
              "    border-color: transparent;\n",
              "    border-bottom-color: var(--fill-color);\n",
              "    animation:\n",
              "      spin 1s steps(1) infinite;\n",
              "  }\n",
              "\n",
              "  @keyframes spin {\n",
              "    0% {\n",
              "      border-color: transparent;\n",
              "      border-bottom-color: var(--fill-color);\n",
              "      border-left-color: var(--fill-color);\n",
              "    }\n",
              "    20% {\n",
              "      border-color: transparent;\n",
              "      border-left-color: var(--fill-color);\n",
              "      border-top-color: var(--fill-color);\n",
              "    }\n",
              "    30% {\n",
              "      border-color: transparent;\n",
              "      border-left-color: var(--fill-color);\n",
              "      border-top-color: var(--fill-color);\n",
              "      border-right-color: var(--fill-color);\n",
              "    }\n",
              "    40% {\n",
              "      border-color: transparent;\n",
              "      border-right-color: var(--fill-color);\n",
              "      border-top-color: var(--fill-color);\n",
              "    }\n",
              "    60% {\n",
              "      border-color: transparent;\n",
              "      border-right-color: var(--fill-color);\n",
              "    }\n",
              "    80% {\n",
              "      border-color: transparent;\n",
              "      border-right-color: var(--fill-color);\n",
              "      border-bottom-color: var(--fill-color);\n",
              "    }\n",
              "    90% {\n",
              "      border-color: transparent;\n",
              "      border-bottom-color: var(--fill-color);\n",
              "    }\n",
              "  }\n",
              "</style>\n",
              "\n",
              "  <script>\n",
              "    async function quickchart(key) {\n",
              "      const quickchartButtonEl =\n",
              "        document.querySelector('#' + key + ' button');\n",
              "      quickchartButtonEl.disabled = true;  // To prevent multiple clicks.\n",
              "      quickchartButtonEl.classList.add('colab-df-spinner');\n",
              "      try {\n",
              "        const charts = await google.colab.kernel.invokeFunction(\n",
              "            'suggestCharts', [key], {});\n",
              "      } catch (error) {\n",
              "        console.error('Error during call to suggestCharts:', error);\n",
              "      }\n",
              "      quickchartButtonEl.classList.remove('colab-df-spinner');\n",
              "      quickchartButtonEl.classList.add('colab-df-quickchart-complete');\n",
              "    }\n",
              "    (() => {\n",
              "      let quickchartButtonEl =\n",
              "        document.querySelector('#df-4c89ecb7-7ca6-48f3-b616-e4246552e7aa button');\n",
              "      quickchartButtonEl.style.display =\n",
              "        google.colab.kernel.accessAllowed ? 'block' : 'none';\n",
              "    })();\n",
              "  </script>\n",
              "</div>\n",
              "\n",
              "  <div id=\"id_155c0d88-8315-459a-827c-5b953e19e046\">\n",
              "    <style>\n",
              "      .colab-df-generate {\n",
              "        background-color: #E8F0FE;\n",
              "        border: none;\n",
              "        border-radius: 50%;\n",
              "        cursor: pointer;\n",
              "        display: none;\n",
              "        fill: #1967D2;\n",
              "        height: 32px;\n",
              "        padding: 0 0 0 0;\n",
              "        width: 32px;\n",
              "      }\n",
              "\n",
              "      .colab-df-generate:hover {\n",
              "        background-color: #E2EBFA;\n",
              "        box-shadow: 0px 1px 2px rgba(60, 64, 67, 0.3), 0px 1px 3px 1px rgba(60, 64, 67, 0.15);\n",
              "        fill: #174EA6;\n",
              "      }\n",
              "\n",
              "      [theme=dark] .colab-df-generate {\n",
              "        background-color: #3B4455;\n",
              "        fill: #D2E3FC;\n",
              "      }\n",
              "\n",
              "      [theme=dark] .colab-df-generate:hover {\n",
              "        background-color: #434B5C;\n",
              "        box-shadow: 0px 1px 3px 1px rgba(0, 0, 0, 0.15);\n",
              "        filter: drop-shadow(0px 1px 2px rgba(0, 0, 0, 0.3));\n",
              "        fill: #FFFFFF;\n",
              "      }\n",
              "    </style>\n",
              "    <button class=\"colab-df-generate\" onclick=\"generateWithVariable('df_output')\"\n",
              "            title=\"Generate code using this dataframe.\"\n",
              "            style=\"display:none;\">\n",
              "\n",
              "  <svg xmlns=\"http://www.w3.org/2000/svg\" height=\"24px\"viewBox=\"0 0 24 24\"\n",
              "       width=\"24px\">\n",
              "    <path d=\"M7,19H8.4L18.45,9,17,7.55,7,17.6ZM5,21V16.75L18.45,3.32a2,2,0,0,1,2.83,0l1.4,1.43a1.91,1.91,0,0,1,.58,1.4,1.91,1.91,0,0,1-.58,1.4L9.25,21ZM18.45,9,17,7.55Zm-12,3A5.31,5.31,0,0,0,4.9,8.1,5.31,5.31,0,0,0,1,6.5,5.31,5.31,0,0,0,4.9,4.9,5.31,5.31,0,0,0,6.5,1,5.31,5.31,0,0,0,8.1,4.9,5.31,5.31,0,0,0,12,6.5,5.46,5.46,0,0,0,6.5,12Z\"/>\n",
              "  </svg>\n",
              "    </button>\n",
              "    <script>\n",
              "      (() => {\n",
              "      const buttonEl =\n",
              "        document.querySelector('#id_155c0d88-8315-459a-827c-5b953e19e046 button.colab-df-generate');\n",
              "      buttonEl.style.display =\n",
              "        google.colab.kernel.accessAllowed ? 'block' : 'none';\n",
              "\n",
              "      buttonEl.onclick = () => {\n",
              "        google.colab.notebook.generateWithVariable('df_output');\n",
              "      }\n",
              "      })();\n",
              "    </script>\n",
              "  </div>\n",
              "\n",
              "    </div>\n",
              "  </div>\n"
            ]
          },
          "metadata": {},
          "execution_count": 211
        }
      ],
      "source": [
        "# Building the dataframe for above recommendations with columns \"song_id\" and \"predicted_play_count\"\n",
        "df_output = pd.DataFrame(recommendations)\n",
        "df_output = df_output.rename(columns={'song_id': 'prod_id'\n",
        ", 'song_title': 'title'\n",
        ", 'predicted_play_count': 'play_freq'})\n",
        "df_output"
      ]
    },
    {
      "cell_type": "code",
      "execution_count": null,
      "metadata": {
        "id": "7gewfmTATsnv"
      },
      "outputs": [],
      "source": [
        "# Applying the ranking_songs function\n",
        "ranked_songs = ranking_songs(recommendations\n",
        "                             , df_final)\n",
        "print(ranked_songs.head())"
      ]
    },
    {
      "cell_type": "markdown",
      "metadata": {
        "id": "rKgJpSA9vOOL"
      },
      "source": [
        "### M4) Model Based Collaborative Filtering - Matrix Factorization"
      ]
    },
    {
      "cell_type": "markdown",
      "metadata": {
        "id": "hJynidJCw-ti"
      },
      "source": [
        "Model-based Collaborative Filtering is a **personalized recommendation system**, the recommendations are based on the past behavior of the user and it is not dependent on any additional information. We use **latent features** to find recommendations for each user."
      ]
    },
    {
      "cell_type": "code",
      "execution_count": 149,
      "metadata": {
        "id": "07-2PT5Ssjqm",
        "colab": {
          "base_uri": "https://localhost:8080/"
        },
        "outputId": "baa32f0c-0f90-4f25-c06c-0d5e8900063b"
      },
      "outputs": [
        {
          "output_type": "stream",
          "name": "stdout",
          "text": [
            "RMSE: 0.8544\n",
            "Precision:  0.337\n",
            "Recall:  0.641\n",
            "F_1 score:  0.442\n"
          ]
        }
      ],
      "source": [
        "# Build baseline model using svd\n",
        "\n",
        "# Using SVD matrix factorization. Use random_state = 1\n",
        "svd = SVD(random_state=1)\n",
        "\n",
        "# Training the algorithm on the train set\n",
        "svd.fit(trainset) #trainset has no missing values\n",
        "\n",
        "# Use the function precision_recall_at_k to compute precision@k, recall@k, F1-Score, and RMSE\n",
        "precision_recall_at_k(svd)"
      ]
    },
    {
      "cell_type": "code",
      "source": [
        "from surprise.model_selection import cross_validate\n",
        "\n",
        "svd = SVD(n_epochs=10)\n",
        "results = cross_validate(svd, data, measures=['RMSE', 'MAE'], cv=10, verbose=True)"
      ],
      "metadata": {
        "colab": {
          "base_uri": "https://localhost:8080/"
        },
        "id": "vzZ7zn01VUKD",
        "outputId": "1410a379-21b4-475b-a70e-49c5a0d88b29"
      },
      "execution_count": 152,
      "outputs": [
        {
          "output_type": "stream",
          "name": "stdout",
          "text": [
            "Evaluating RMSE, MAE of algorithm SVD on 10 split(s).\n",
            "\n",
            "                  Fold 1  Fold 2  Fold 3  Fold 4  Fold 5  Fold 6  Fold 7  Fold 8  Fold 9  Fold 10 Mean    Std     \n",
            "RMSE (testset)    0.9914  1.0689  0.9802  0.8848  0.9196  0.9034  1.0589  0.7783  0.8839  0.9419  0.9411  0.0831  \n",
            "MAE (testset)     0.7801  0.7824  0.7197  0.6922  0.6936  0.6773  0.7821  0.6085  0.6970  0.7278  0.7161  0.0525  \n",
            "Fit time          0.03    0.02    0.04    0.03    0.03    0.02    0.03    0.02    0.03    0.02    0.03    0.01    \n",
            "Test time         0.00    0.00    0.00    0.00    0.00    0.00    0.00    0.00    0.00    0.00    0.00    0.00    \n"
          ]
        }
      ]
    },
    {
      "cell_type": "code",
      "execution_count": 153,
      "metadata": {
        "id": "yWIhfdxXsjqm",
        "colab": {
          "base_uri": "https://localhost:8080/"
        },
        "outputId": "6fbcf9a0-8d12-48b1-b27c-946d174ea058"
      },
      "outputs": [
        {
          "output_type": "stream",
          "name": "stdout",
          "text": [
            "user: 6958       item: 1671       r_ui = 2.00   est = 1.64   {'was_impossible': False}\n"
          ]
        },
        {
          "output_type": "execute_result",
          "data": {
            "text/plain": [
              "Prediction(uid=6958, iid=1671, r_ui=2, est=1.637676247469631, details={'was_impossible': False})"
            ]
          },
          "metadata": {},
          "execution_count": 153
        }
      ],
      "source": [
        "# Making prediction for user (with user_id 6958) to song (with song_id 1671), take r_ui = 2\n",
        "svd.predict(6958\n",
        "            , 1671\n",
        "            , r_ui = 2\n",
        "            , verbose = True)"
      ]
    },
    {
      "cell_type": "code",
      "execution_count": 154,
      "metadata": {
        "id": "APm-uMSvcAMf",
        "colab": {
          "base_uri": "https://localhost:8080/"
        },
        "outputId": "08074f69-6a30-4446-96bb-0ab9f6aee0bf"
      },
      "outputs": [
        {
          "output_type": "stream",
          "name": "stdout",
          "text": [
            "user: 56576      item: 3232       r_ui = 2.00   est = 1.75   {'was_impossible': True, 'reason': 'Not enough neighbors.'}\n"
          ]
        },
        {
          "output_type": "execute_result",
          "data": {
            "text/plain": [
              "Prediction(uid=56576, iid=3232, r_ui=2, est=1.7486338797814207, details={'was_impossible': True, 'reason': 'Not enough neighbors.'})"
            ]
          },
          "metadata": {},
          "execution_count": 154
        }
      ],
      "source": [
        "# Making a prediction for the user who has not listened to the song (song_id 3232)\n",
        "user = n_users_not_interacted_with(1, df_final, 3232)\n",
        "sim_item_item_optimized.predict(user[0]\n",
        "                      , 3232\n",
        "                      , r_ui = 2\n",
        "                      , verbose = True)"
      ]
    },
    {
      "cell_type": "markdown",
      "metadata": {
        "id": "23tnRUJJxWTR"
      },
      "source": [
        "#### Improving matrix factorization based recommendation system by tuning its hyperparameters"
      ]
    },
    {
      "cell_type": "code",
      "execution_count": 155,
      "metadata": {
        "id": "4bM81V_hvtwv",
        "colab": {
          "base_uri": "https://localhost:8080/"
        },
        "outputId": "b0eb0ae3-2170-42c3-a52b-4e096b9322e3"
      },
      "outputs": [
        {
          "output_type": "stream",
          "name": "stdout",
          "text": [
            " Best RMSE score 0.9396246293310441 \n",
            "\n",
            "\n",
            "Combination of parameters for best RMSE score {'n_epochs': 30, 'lr_all': 0.01, 'reg_all': 0.2} \n",
            "\n"
          ]
        }
      ],
      "source": [
        "# Set the parameter space to tune\n",
        "param_grid = {'n_epochs': [10, 20, 30]\n",
        "              ,'lr_all': [0.001, 0.005, 0.01]\n",
        "              ,'reg_all': [0.2, 0.4, 0.6]}\n",
        "\n",
        "# Performing 3-fold gridsearch cross-validation\n",
        "gs_svd = GridSearchCV(SVD\n",
        "                   , param_grid\n",
        "                   , measures = ['rmse']\n",
        "                   , cv = 3\n",
        "                   , n_jobs = -1)\n",
        "\n",
        "# Fitting data\n",
        "gs_svd.fit(data)\n",
        "\n",
        "# Best RMSE score\n",
        "print(\" Best RMSE score\", gs_svd.best_score['rmse'], \"\\n\\n\")\n",
        "\n",
        "# Combination of parameters that gave the best RMSE score\n",
        "print(\"Combination of parameters for best RMSE score\", gs_svd.best_params['rmse'], \"\\n\")"
      ]
    },
    {
      "cell_type": "markdown",
      "metadata": {
        "id": "aSgBRcL1xnVC"
      },
      "source": [
        "**Think About It**: How do the parameters affect the performance of the model? Can we improve the performance of the model further? Check the available hyperparameters [here](https://surprise.readthedocs.io/en/stable/matrix_factorization.html)."
      ]
    },
    {
      "cell_type": "code",
      "execution_count": 156,
      "metadata": {
        "id": "TA_7xe-nnhuu",
        "colab": {
          "base_uri": "https://localhost:8080/"
        },
        "outputId": "a0c5c397-4630-4cec-f3a3-a3dacbf759a7"
      },
      "outputs": [
        {
          "output_type": "stream",
          "name": "stdout",
          "text": [
            "RMSE: 0.8569\n",
            "Precision:  0.358\n",
            "Recall:  0.604\n",
            "F_1 score:  0.45\n"
          ]
        }
      ],
      "source": [
        "# Building the optimized SVD model using optimal hyperparameters\n",
        "svd_optimized = SVD(n_epochs=30\n",
        "                    , lr_all=0.01\n",
        "                    , reg_all=0.2\n",
        "                    , random_state=1\n",
        "                    , verbose=False)\n",
        "\n",
        "# Train the algorithm on the train set\n",
        "svd_optimized.fit(trainset)\n",
        "\n",
        "# Use the function precision_recall_at_k to compute precision@k, recall@k, F1-Score, and RMSE\n",
        "precision_recall_at_k(svd_optimized)"
      ]
    },
    {
      "cell_type": "code",
      "source": [
        "results = cross_validate(svd_optimized, data, measures=['RMSE', 'MAE'], cv=10, verbose=True)"
      ],
      "metadata": {
        "colab": {
          "base_uri": "https://localhost:8080/"
        },
        "id": "OO8vL-R4gE_N",
        "outputId": "0a10e476-8f73-4698-96e6-f8b65071db99"
      },
      "execution_count": 192,
      "outputs": [
        {
          "output_type": "stream",
          "name": "stdout",
          "text": [
            "Evaluating RMSE, MAE of algorithm SVD on 10 split(s).\n",
            "\n",
            "                  Fold 1  Fold 2  Fold 3  Fold 4  Fold 5  Fold 6  Fold 7  Fold 8  Fold 9  Fold 10 Mean    Std     \n",
            "RMSE (testset)    0.7973  0.8983  0.9707  0.9215  0.9830  0.9283  1.0289  0.8620  0.9495  1.0714  0.9411  0.0753  \n",
            "MAE (testset)     0.6122  0.6752  0.7300  0.7029  0.7085  0.7495  0.7898  0.6312  0.6904  0.7463  0.7036  0.0516  \n",
            "Fit time          0.02    0.02    0.02    0.02    0.02    0.02    0.02    0.02    0.02    0.02    0.02    0.00    \n",
            "Test time         0.00    0.00    0.00    0.00    0.00    0.00    0.00    0.00    0.00    0.00    0.00    0.00    \n"
          ]
        }
      ]
    },
    {
      "cell_type": "code",
      "execution_count": 157,
      "metadata": {
        "id": "s6C1PAfboM8_",
        "colab": {
          "base_uri": "https://localhost:8080/"
        },
        "outputId": "ba9c675e-0a44-4792-c6cb-12d5227728eb"
      },
      "outputs": [
        {
          "output_type": "stream",
          "name": "stdout",
          "text": [
            "user: 6958       item: 1671       r_ui = None   est = 1.57   {'was_impossible': False}\n"
          ]
        },
        {
          "output_type": "execute_result",
          "data": {
            "text/plain": [
              "Prediction(uid=6958, iid=1671, r_ui=None, est=1.5704829934837385, details={'was_impossible': False})"
            ]
          },
          "metadata": {},
          "execution_count": 157
        }
      ],
      "source": [
        "# Using svd_algo_optimized model to recommend for userId 6958 and song_id 1671\n",
        "svd_optimized.predict(6958\n",
        "                      , 1671\n",
        "                      , verbose = True)"
      ]
    },
    {
      "cell_type": "code",
      "execution_count": 158,
      "metadata": {
        "id": "k1xjn3kOoQyg",
        "colab": {
          "base_uri": "https://localhost:8080/"
        },
        "outputId": "0f6874f0-c3cc-4c30-bf5d-6ff3212fac87"
      },
      "outputs": [
        {
          "output_type": "stream",
          "name": "stdout",
          "text": [
            "user: 6958       item: 3232       r_ui = None   est = 1.33   {'was_impossible': False}\n"
          ]
        },
        {
          "output_type": "execute_result",
          "data": {
            "text/plain": [
              "Prediction(uid=6958, iid=3232, r_ui=None, est=1.3306300291136808, details={'was_impossible': False})"
            ]
          },
          "metadata": {},
          "execution_count": 158
        }
      ],
      "source": [
        "# Using svd_algo_optimized model to recommend for userId 6958 and song_id 3232 with unknown baseline rating\n",
        "user = n_users_not_interacted_with(1, df_final, 3232)\n",
        "svd_optimized.predict(6958#user[0]\n",
        "                      , 3232\n",
        "                      , verbose = True)"
      ]
    },
    {
      "cell_type": "markdown",
      "source": [
        "#### M4 Final Recommendations (6958)"
      ],
      "metadata": {
        "id": "cUPtPo90h5pL"
      }
    },
    {
      "cell_type": "code",
      "execution_count": 206,
      "metadata": {
        "id": "1LGeE2EB_n90",
        "colab": {
          "base_uri": "https://localhost:8080/"
        },
        "outputId": "b36363d7-7bd4-481e-b0ef-eaa89b799482"
      },
      "outputs": [
        {
          "output_type": "execute_result",
          "data": {
            "text/plain": [
              "[{'song_id': 7210,\n",
              "  'song_title': 'Fancy Footwork',\n",
              "  'predicted_play_count': 2.400272313385472},\n",
              " {'song_id': 7889,\n",
              "  'song_title': 'Make Love To Your Mind',\n",
              "  'predicted_play_count': 2.3851905793918995},\n",
              " {'song_id': 4645,\n",
              "  'song_title': 'Live And Let Die',\n",
              "  'predicted_play_count': 2.351118636790082},\n",
              " {'song_id': 1286,\n",
              "  'song_title': 'Somebody To Love',\n",
              "  'predicted_play_count': 2.280398511208697},\n",
              " {'song_id': 3548,\n",
              "  'song_title': 'Easy Love',\n",
              "  'predicted_play_count': 2.208140083753294}]"
            ]
          },
          "metadata": {},
          "execution_count": 206
        }
      ],
      "source": [
        "# Getting top 5 recommendations for user_id 6958 using \"svd_optimized\" algorithm\n",
        "recommendations = get_recommendations( df_final\n",
        "                                      , 6958 #df_final['user_id'].iloc[rand_index]\n",
        "                                      , 5\n",
        "                                      , svd_optimized\n",
        "                                      )\n",
        "recommendations"
      ]
    },
    {
      "cell_type": "code",
      "source": [
        "# Building the dataframe for above recommendations with columns \"song_id\" and \"predicted_play_count\"\n",
        "df_output = pd.DataFrame(recommendations)\n",
        "df_output = df_output.rename(columns={'song_id': 'prod_id'\n",
        ", 'song_title': 'title'\n",
        ", 'predicted_play_count': 'play_freq'})\n",
        "df_output"
      ],
      "metadata": {
        "colab": {
          "base_uri": "https://localhost:8080/",
          "height": 206
        },
        "id": "1mt4BEwreViY",
        "outputId": "07e58a46-630b-40b4-d521-b761894b1cfe"
      },
      "execution_count": 207,
      "outputs": [
        {
          "output_type": "execute_result",
          "data": {
            "text/plain": [
              "   prod_id                   title  play_freq\n",
              "0     7210          Fancy Footwork   2.400272\n",
              "1     7889  Make Love To Your Mind   2.385191\n",
              "2     4645        Live And Let Die   2.351119\n",
              "3     1286        Somebody To Love   2.280399\n",
              "4     3548               Easy Love   2.208140"
            ],
            "text/html": [
              "\n",
              "  <div id=\"df-bd3e1afb-0b3a-40df-ab99-451a8100416b\" class=\"colab-df-container\">\n",
              "    <div>\n",
              "<style scoped>\n",
              "    .dataframe tbody tr th:only-of-type {\n",
              "        vertical-align: middle;\n",
              "    }\n",
              "\n",
              "    .dataframe tbody tr th {\n",
              "        vertical-align: top;\n",
              "    }\n",
              "\n",
              "    .dataframe thead th {\n",
              "        text-align: right;\n",
              "    }\n",
              "</style>\n",
              "<table border=\"1\" class=\"dataframe\">\n",
              "  <thead>\n",
              "    <tr style=\"text-align: right;\">\n",
              "      <th></th>\n",
              "      <th>prod_id</th>\n",
              "      <th>title</th>\n",
              "      <th>play_freq</th>\n",
              "    </tr>\n",
              "  </thead>\n",
              "  <tbody>\n",
              "    <tr>\n",
              "      <th>0</th>\n",
              "      <td>7210</td>\n",
              "      <td>Fancy Footwork</td>\n",
              "      <td>2.400272</td>\n",
              "    </tr>\n",
              "    <tr>\n",
              "      <th>1</th>\n",
              "      <td>7889</td>\n",
              "      <td>Make Love To Your Mind</td>\n",
              "      <td>2.385191</td>\n",
              "    </tr>\n",
              "    <tr>\n",
              "      <th>2</th>\n",
              "      <td>4645</td>\n",
              "      <td>Live And Let Die</td>\n",
              "      <td>2.351119</td>\n",
              "    </tr>\n",
              "    <tr>\n",
              "      <th>3</th>\n",
              "      <td>1286</td>\n",
              "      <td>Somebody To Love</td>\n",
              "      <td>2.280399</td>\n",
              "    </tr>\n",
              "    <tr>\n",
              "      <th>4</th>\n",
              "      <td>3548</td>\n",
              "      <td>Easy Love</td>\n",
              "      <td>2.208140</td>\n",
              "    </tr>\n",
              "  </tbody>\n",
              "</table>\n",
              "</div>\n",
              "    <div class=\"colab-df-buttons\">\n",
              "\n",
              "  <div class=\"colab-df-container\">\n",
              "    <button class=\"colab-df-convert\" onclick=\"convertToInteractive('df-bd3e1afb-0b3a-40df-ab99-451a8100416b')\"\n",
              "            title=\"Convert this dataframe to an interactive table.\"\n",
              "            style=\"display:none;\">\n",
              "\n",
              "  <svg xmlns=\"http://www.w3.org/2000/svg\" height=\"24px\" viewBox=\"0 -960 960 960\">\n",
              "    <path d=\"M120-120v-720h720v720H120Zm60-500h600v-160H180v160Zm220 220h160v-160H400v160Zm0 220h160v-160H400v160ZM180-400h160v-160H180v160Zm440 0h160v-160H620v160ZM180-180h160v-160H180v160Zm440 0h160v-160H620v160Z\"/>\n",
              "  </svg>\n",
              "    </button>\n",
              "\n",
              "  <style>\n",
              "    .colab-df-container {\n",
              "      display:flex;\n",
              "      gap: 12px;\n",
              "    }\n",
              "\n",
              "    .colab-df-convert {\n",
              "      background-color: #E8F0FE;\n",
              "      border: none;\n",
              "      border-radius: 50%;\n",
              "      cursor: pointer;\n",
              "      display: none;\n",
              "      fill: #1967D2;\n",
              "      height: 32px;\n",
              "      padding: 0 0 0 0;\n",
              "      width: 32px;\n",
              "    }\n",
              "\n",
              "    .colab-df-convert:hover {\n",
              "      background-color: #E2EBFA;\n",
              "      box-shadow: 0px 1px 2px rgba(60, 64, 67, 0.3), 0px 1px 3px 1px rgba(60, 64, 67, 0.15);\n",
              "      fill: #174EA6;\n",
              "    }\n",
              "\n",
              "    .colab-df-buttons div {\n",
              "      margin-bottom: 4px;\n",
              "    }\n",
              "\n",
              "    [theme=dark] .colab-df-convert {\n",
              "      background-color: #3B4455;\n",
              "      fill: #D2E3FC;\n",
              "    }\n",
              "\n",
              "    [theme=dark] .colab-df-convert:hover {\n",
              "      background-color: #434B5C;\n",
              "      box-shadow: 0px 1px 3px 1px rgba(0, 0, 0, 0.15);\n",
              "      filter: drop-shadow(0px 1px 2px rgba(0, 0, 0, 0.3));\n",
              "      fill: #FFFFFF;\n",
              "    }\n",
              "  </style>\n",
              "\n",
              "    <script>\n",
              "      const buttonEl =\n",
              "        document.querySelector('#df-bd3e1afb-0b3a-40df-ab99-451a8100416b button.colab-df-convert');\n",
              "      buttonEl.style.display =\n",
              "        google.colab.kernel.accessAllowed ? 'block' : 'none';\n",
              "\n",
              "      async function convertToInteractive(key) {\n",
              "        const element = document.querySelector('#df-bd3e1afb-0b3a-40df-ab99-451a8100416b');\n",
              "        const dataTable =\n",
              "          await google.colab.kernel.invokeFunction('convertToInteractive',\n",
              "                                                    [key], {});\n",
              "        if (!dataTable) return;\n",
              "\n",
              "        const docLinkHtml = 'Like what you see? Visit the ' +\n",
              "          '<a target=\"_blank\" href=https://colab.research.google.com/notebooks/data_table.ipynb>data table notebook</a>'\n",
              "          + ' to learn more about interactive tables.';\n",
              "        element.innerHTML = '';\n",
              "        dataTable['output_type'] = 'display_data';\n",
              "        await google.colab.output.renderOutput(dataTable, element);\n",
              "        const docLink = document.createElement('div');\n",
              "        docLink.innerHTML = docLinkHtml;\n",
              "        element.appendChild(docLink);\n",
              "      }\n",
              "    </script>\n",
              "  </div>\n",
              "\n",
              "\n",
              "<div id=\"df-68be395d-fa2c-4b4e-8b94-41d87b349e56\">\n",
              "  <button class=\"colab-df-quickchart\" onclick=\"quickchart('df-68be395d-fa2c-4b4e-8b94-41d87b349e56')\"\n",
              "            title=\"Suggest charts\"\n",
              "            style=\"display:none;\">\n",
              "\n",
              "<svg xmlns=\"http://www.w3.org/2000/svg\" height=\"24px\"viewBox=\"0 0 24 24\"\n",
              "     width=\"24px\">\n",
              "    <g>\n",
              "        <path d=\"M19 3H5c-1.1 0-2 .9-2 2v14c0 1.1.9 2 2 2h14c1.1 0 2-.9 2-2V5c0-1.1-.9-2-2-2zM9 17H7v-7h2v7zm4 0h-2V7h2v10zm4 0h-2v-4h2v4z\"/>\n",
              "    </g>\n",
              "</svg>\n",
              "  </button>\n",
              "\n",
              "<style>\n",
              "  .colab-df-quickchart {\n",
              "      --bg-color: #E8F0FE;\n",
              "      --fill-color: #1967D2;\n",
              "      --hover-bg-color: #E2EBFA;\n",
              "      --hover-fill-color: #174EA6;\n",
              "      --disabled-fill-color: #AAA;\n",
              "      --disabled-bg-color: #DDD;\n",
              "  }\n",
              "\n",
              "  [theme=dark] .colab-df-quickchart {\n",
              "      --bg-color: #3B4455;\n",
              "      --fill-color: #D2E3FC;\n",
              "      --hover-bg-color: #434B5C;\n",
              "      --hover-fill-color: #FFFFFF;\n",
              "      --disabled-bg-color: #3B4455;\n",
              "      --disabled-fill-color: #666;\n",
              "  }\n",
              "\n",
              "  .colab-df-quickchart {\n",
              "    background-color: var(--bg-color);\n",
              "    border: none;\n",
              "    border-radius: 50%;\n",
              "    cursor: pointer;\n",
              "    display: none;\n",
              "    fill: var(--fill-color);\n",
              "    height: 32px;\n",
              "    padding: 0;\n",
              "    width: 32px;\n",
              "  }\n",
              "\n",
              "  .colab-df-quickchart:hover {\n",
              "    background-color: var(--hover-bg-color);\n",
              "    box-shadow: 0 1px 2px rgba(60, 64, 67, 0.3), 0 1px 3px 1px rgba(60, 64, 67, 0.15);\n",
              "    fill: var(--button-hover-fill-color);\n",
              "  }\n",
              "\n",
              "  .colab-df-quickchart-complete:disabled,\n",
              "  .colab-df-quickchart-complete:disabled:hover {\n",
              "    background-color: var(--disabled-bg-color);\n",
              "    fill: var(--disabled-fill-color);\n",
              "    box-shadow: none;\n",
              "  }\n",
              "\n",
              "  .colab-df-spinner {\n",
              "    border: 2px solid var(--fill-color);\n",
              "    border-color: transparent;\n",
              "    border-bottom-color: var(--fill-color);\n",
              "    animation:\n",
              "      spin 1s steps(1) infinite;\n",
              "  }\n",
              "\n",
              "  @keyframes spin {\n",
              "    0% {\n",
              "      border-color: transparent;\n",
              "      border-bottom-color: var(--fill-color);\n",
              "      border-left-color: var(--fill-color);\n",
              "    }\n",
              "    20% {\n",
              "      border-color: transparent;\n",
              "      border-left-color: var(--fill-color);\n",
              "      border-top-color: var(--fill-color);\n",
              "    }\n",
              "    30% {\n",
              "      border-color: transparent;\n",
              "      border-left-color: var(--fill-color);\n",
              "      border-top-color: var(--fill-color);\n",
              "      border-right-color: var(--fill-color);\n",
              "    }\n",
              "    40% {\n",
              "      border-color: transparent;\n",
              "      border-right-color: var(--fill-color);\n",
              "      border-top-color: var(--fill-color);\n",
              "    }\n",
              "    60% {\n",
              "      border-color: transparent;\n",
              "      border-right-color: var(--fill-color);\n",
              "    }\n",
              "    80% {\n",
              "      border-color: transparent;\n",
              "      border-right-color: var(--fill-color);\n",
              "      border-bottom-color: var(--fill-color);\n",
              "    }\n",
              "    90% {\n",
              "      border-color: transparent;\n",
              "      border-bottom-color: var(--fill-color);\n",
              "    }\n",
              "  }\n",
              "</style>\n",
              "\n",
              "  <script>\n",
              "    async function quickchart(key) {\n",
              "      const quickchartButtonEl =\n",
              "        document.querySelector('#' + key + ' button');\n",
              "      quickchartButtonEl.disabled = true;  // To prevent multiple clicks.\n",
              "      quickchartButtonEl.classList.add('colab-df-spinner');\n",
              "      try {\n",
              "        const charts = await google.colab.kernel.invokeFunction(\n",
              "            'suggestCharts', [key], {});\n",
              "      } catch (error) {\n",
              "        console.error('Error during call to suggestCharts:', error);\n",
              "      }\n",
              "      quickchartButtonEl.classList.remove('colab-df-spinner');\n",
              "      quickchartButtonEl.classList.add('colab-df-quickchart-complete');\n",
              "    }\n",
              "    (() => {\n",
              "      let quickchartButtonEl =\n",
              "        document.querySelector('#df-68be395d-fa2c-4b4e-8b94-41d87b349e56 button');\n",
              "      quickchartButtonEl.style.display =\n",
              "        google.colab.kernel.accessAllowed ? 'block' : 'none';\n",
              "    })();\n",
              "  </script>\n",
              "</div>\n",
              "\n",
              "  <div id=\"id_7ababae5-21f5-4f97-9d2b-50554e5f19f8\">\n",
              "    <style>\n",
              "      .colab-df-generate {\n",
              "        background-color: #E8F0FE;\n",
              "        border: none;\n",
              "        border-radius: 50%;\n",
              "        cursor: pointer;\n",
              "        display: none;\n",
              "        fill: #1967D2;\n",
              "        height: 32px;\n",
              "        padding: 0 0 0 0;\n",
              "        width: 32px;\n",
              "      }\n",
              "\n",
              "      .colab-df-generate:hover {\n",
              "        background-color: #E2EBFA;\n",
              "        box-shadow: 0px 1px 2px rgba(60, 64, 67, 0.3), 0px 1px 3px 1px rgba(60, 64, 67, 0.15);\n",
              "        fill: #174EA6;\n",
              "      }\n",
              "\n",
              "      [theme=dark] .colab-df-generate {\n",
              "        background-color: #3B4455;\n",
              "        fill: #D2E3FC;\n",
              "      }\n",
              "\n",
              "      [theme=dark] .colab-df-generate:hover {\n",
              "        background-color: #434B5C;\n",
              "        box-shadow: 0px 1px 3px 1px rgba(0, 0, 0, 0.15);\n",
              "        filter: drop-shadow(0px 1px 2px rgba(0, 0, 0, 0.3));\n",
              "        fill: #FFFFFF;\n",
              "      }\n",
              "    </style>\n",
              "    <button class=\"colab-df-generate\" onclick=\"generateWithVariable('df_output')\"\n",
              "            title=\"Generate code using this dataframe.\"\n",
              "            style=\"display:none;\">\n",
              "\n",
              "  <svg xmlns=\"http://www.w3.org/2000/svg\" height=\"24px\"viewBox=\"0 0 24 24\"\n",
              "       width=\"24px\">\n",
              "    <path d=\"M7,19H8.4L18.45,9,17,7.55,7,17.6ZM5,21V16.75L18.45,3.32a2,2,0,0,1,2.83,0l1.4,1.43a1.91,1.91,0,0,1,.58,1.4,1.91,1.91,0,0,1-.58,1.4L9.25,21ZM18.45,9,17,7.55Zm-12,3A5.31,5.31,0,0,0,4.9,8.1,5.31,5.31,0,0,0,1,6.5,5.31,5.31,0,0,0,4.9,4.9,5.31,5.31,0,0,0,6.5,1,5.31,5.31,0,0,0,8.1,4.9,5.31,5.31,0,0,0,12,6.5,5.46,5.46,0,0,0,6.5,12Z\"/>\n",
              "  </svg>\n",
              "    </button>\n",
              "    <script>\n",
              "      (() => {\n",
              "      const buttonEl =\n",
              "        document.querySelector('#id_7ababae5-21f5-4f97-9d2b-50554e5f19f8 button.colab-df-generate');\n",
              "      buttonEl.style.display =\n",
              "        google.colab.kernel.accessAllowed ? 'block' : 'none';\n",
              "\n",
              "      buttonEl.onclick = () => {\n",
              "        google.colab.notebook.generateWithVariable('df_output');\n",
              "      }\n",
              "      })();\n",
              "    </script>\n",
              "  </div>\n",
              "\n",
              "    </div>\n",
              "  </div>\n"
            ]
          },
          "metadata": {},
          "execution_count": 207
        }
      ]
    },
    {
      "cell_type": "code",
      "execution_count": null,
      "metadata": {
        "id": "6ngiGSJU818M"
      },
      "outputs": [],
      "source": [
        "# Ranking songs based on above recommendations\n",
        "# Applying the ranking_songs function\n",
        "ranked_songs = ranking_songs(recommendations\n",
        "                             , df_final)\n",
        "print(ranked_songs.head())"
      ]
    },
    {
      "cell_type": "markdown",
      "source": [
        "### Embedding Metadata to SVD"
      ],
      "metadata": {
        "id": "mghrXabPVG8m"
      }
    },
    {
      "cell_type": "code",
      "source": [
        "trainset.metadata = df_final['metadata_info'].tolist()\n",
        "\n",
        "class SVDWithMetadata(SVD):\n",
        "    def __init__(self, n_factors=100, n_epochs=20, lr_all=0.005, reg_all=0.02, metadata_weight=0.1):\n",
        "        super().__init__(n_factors=n_factors, n_epochs=n_epochs, lr_all=lr_all, reg_all=reg_all)\n",
        "        self.metadata_weight = metadata_weight\n",
        "\n",
        "    def fit(self, trainset):\n",
        "        # Call the fit method of the parent class\n",
        "        super().fit(trainset)\n",
        "        return self\n",
        "\n",
        "    def estimate(self, u, i):\n",
        "        # Use the parent class's estimate method\n",
        "        baseline = super().estimate(u, i)\n",
        "\n",
        "        # Extract metadata information & Implement your custom logic to incorporate metadata\n",
        "        metadata = self.trainset.metadata[u]\n",
        "        metadata_score = self.calculate_metadata_score(metadata)\n",
        "        # Combine the baseline score and metadata score\n",
        "        estimated_score = baseline + self.metadata_weight * metadata_score\n",
        "\n",
        "        return estimated_score\n",
        "\n",
        "    def calculate_metadata_score(self, metadata):\n",
        "        # Implement your custom logic to calculate the metadata score\n",
        "        # This could involve processing the metadata and producing a score\n",
        "        return 0  # Replace this with your actual calculation"
      ],
      "metadata": {
        "id": "Vc8q4d3fVB0m"
      },
      "execution_count": 202,
      "outputs": []
    },
    {
      "cell_type": "code",
      "source": [
        "# Building the optimized SVD model using optimal hyperparameters\n",
        "svd_metadata = SVDWithMetadata(\n",
        "                    #  n_epochs=30\n",
        "                    #, lr_all=0.01\n",
        "                    #, reg_all=0.2\n",
        "                    #, random_state=1\n",
        "                    #, verbose=False\n",
        "                      )\n",
        "\n",
        "# Train the algorithm on the train set\n",
        "svg_metadata.fit(trainset)\n",
        "\n",
        "# Use the function precision_recall_at_k to compute precision@k, recall@k, F1-Score, and RMSE\n",
        "precision_recall_at_k(svg_metadata)"
      ],
      "metadata": {
        "colab": {
          "base_uri": "https://localhost:8080/"
        },
        "id": "iGioQuRRdSEU",
        "outputId": "92a71b2e-59da-4fb6-e5ef-7c2ca5e8ce02"
      },
      "execution_count": 203,
      "outputs": [
        {
          "output_type": "stream",
          "name": "stdout",
          "text": [
            "RMSE: 0.8501\n",
            "Precision:  0.378\n",
            "Recall:  0.604\n",
            "F_1 score:  0.465\n"
          ]
        }
      ]
    },
    {
      "cell_type": "markdown",
      "source": [
        "#### M4 Meta Final Recommendations (6958)"
      ],
      "metadata": {
        "id": "qAbZAR9mgsQA"
      }
    },
    {
      "cell_type": "code",
      "source": [
        "# Getting top 5 recommendations for user_id x using \"svg_metadata\" algorithm\n",
        "recommendations = get_recommendations( df_final\n",
        "                                      , 6958 #df_final['user_id'].iloc[rand_index]\n",
        "                                      , 5\n",
        "                                      , svg_metadata\n",
        "                                      )\n",
        "recommendations"
      ],
      "metadata": {
        "colab": {
          "base_uri": "https://localhost:8080/"
        },
        "id": "mnbLJ1sReJYb",
        "outputId": "214f6275-07c5-46b5-c16a-725b92d0ffdb"
      },
      "execution_count": 204,
      "outputs": [
        {
          "output_type": "execute_result",
          "data": {
            "text/plain": [
              "[{'song_id': 1286,\n",
              "  'song_title': 'Somebody To Love',\n",
              "  'predicted_play_count': 2.098782211569386},\n",
              " {'song_id': 8247,\n",
              "  'song_title': 'Tighten Up',\n",
              "  'predicted_play_count': 1.9790629388576022},\n",
              " {'song_id': 7780,\n",
              "  'song_title': 'Home',\n",
              "  'predicted_play_count': 1.9755889404556595},\n",
              " {'song_id': 4975,\n",
              "  'song_title': 'Until The End Of Time',\n",
              "  'predicted_play_count': 1.9496678409049546},\n",
              " {'song_id': 4645,\n",
              "  'song_title': 'Live And Let Die',\n",
              "  'predicted_play_count': 1.9488981679347919}]"
            ]
          },
          "metadata": {},
          "execution_count": 204
        }
      ]
    },
    {
      "cell_type": "code",
      "source": [
        "# Building the dataframe for above recommendations with columns \"song_id\" and \"predicted_play_count\"\n",
        "df_output = pd.DataFrame(recommendations)\n",
        "df_output = df_output.rename(columns={'song_id': 'prod_id'\n",
        ", 'song_title': 'title'\n",
        ", 'predicted_play_count': 'play_freq'})\n",
        "df_output"
      ],
      "metadata": {
        "colab": {
          "base_uri": "https://localhost:8080/",
          "height": 206
        },
        "id": "FWj-QWdXeYHN",
        "outputId": "20ad20b8-3d50-4f8b-b318-a01537d46a97"
      },
      "execution_count": 205,
      "outputs": [
        {
          "output_type": "execute_result",
          "data": {
            "text/plain": [
              "   prod_id                  title  play_freq\n",
              "0     1286       Somebody To Love   2.098782\n",
              "1     8247             Tighten Up   1.979063\n",
              "2     7780                   Home   1.975589\n",
              "3     4975  Until The End Of Time   1.949668\n",
              "4     4645       Live And Let Die   1.948898"
            ],
            "text/html": [
              "\n",
              "  <div id=\"df-478fc40c-02a2-4dbb-ae49-0d6ba6273427\" class=\"colab-df-container\">\n",
              "    <div>\n",
              "<style scoped>\n",
              "    .dataframe tbody tr th:only-of-type {\n",
              "        vertical-align: middle;\n",
              "    }\n",
              "\n",
              "    .dataframe tbody tr th {\n",
              "        vertical-align: top;\n",
              "    }\n",
              "\n",
              "    .dataframe thead th {\n",
              "        text-align: right;\n",
              "    }\n",
              "</style>\n",
              "<table border=\"1\" class=\"dataframe\">\n",
              "  <thead>\n",
              "    <tr style=\"text-align: right;\">\n",
              "      <th></th>\n",
              "      <th>prod_id</th>\n",
              "      <th>title</th>\n",
              "      <th>play_freq</th>\n",
              "    </tr>\n",
              "  </thead>\n",
              "  <tbody>\n",
              "    <tr>\n",
              "      <th>0</th>\n",
              "      <td>1286</td>\n",
              "      <td>Somebody To Love</td>\n",
              "      <td>2.098782</td>\n",
              "    </tr>\n",
              "    <tr>\n",
              "      <th>1</th>\n",
              "      <td>8247</td>\n",
              "      <td>Tighten Up</td>\n",
              "      <td>1.979063</td>\n",
              "    </tr>\n",
              "    <tr>\n",
              "      <th>2</th>\n",
              "      <td>7780</td>\n",
              "      <td>Home</td>\n",
              "      <td>1.975589</td>\n",
              "    </tr>\n",
              "    <tr>\n",
              "      <th>3</th>\n",
              "      <td>4975</td>\n",
              "      <td>Until The End Of Time</td>\n",
              "      <td>1.949668</td>\n",
              "    </tr>\n",
              "    <tr>\n",
              "      <th>4</th>\n",
              "      <td>4645</td>\n",
              "      <td>Live And Let Die</td>\n",
              "      <td>1.948898</td>\n",
              "    </tr>\n",
              "  </tbody>\n",
              "</table>\n",
              "</div>\n",
              "    <div class=\"colab-df-buttons\">\n",
              "\n",
              "  <div class=\"colab-df-container\">\n",
              "    <button class=\"colab-df-convert\" onclick=\"convertToInteractive('df-478fc40c-02a2-4dbb-ae49-0d6ba6273427')\"\n",
              "            title=\"Convert this dataframe to an interactive table.\"\n",
              "            style=\"display:none;\">\n",
              "\n",
              "  <svg xmlns=\"http://www.w3.org/2000/svg\" height=\"24px\" viewBox=\"0 -960 960 960\">\n",
              "    <path d=\"M120-120v-720h720v720H120Zm60-500h600v-160H180v160Zm220 220h160v-160H400v160Zm0 220h160v-160H400v160ZM180-400h160v-160H180v160Zm440 0h160v-160H620v160ZM180-180h160v-160H180v160Zm440 0h160v-160H620v160Z\"/>\n",
              "  </svg>\n",
              "    </button>\n",
              "\n",
              "  <style>\n",
              "    .colab-df-container {\n",
              "      display:flex;\n",
              "      gap: 12px;\n",
              "    }\n",
              "\n",
              "    .colab-df-convert {\n",
              "      background-color: #E8F0FE;\n",
              "      border: none;\n",
              "      border-radius: 50%;\n",
              "      cursor: pointer;\n",
              "      display: none;\n",
              "      fill: #1967D2;\n",
              "      height: 32px;\n",
              "      padding: 0 0 0 0;\n",
              "      width: 32px;\n",
              "    }\n",
              "\n",
              "    .colab-df-convert:hover {\n",
              "      background-color: #E2EBFA;\n",
              "      box-shadow: 0px 1px 2px rgba(60, 64, 67, 0.3), 0px 1px 3px 1px rgba(60, 64, 67, 0.15);\n",
              "      fill: #174EA6;\n",
              "    }\n",
              "\n",
              "    .colab-df-buttons div {\n",
              "      margin-bottom: 4px;\n",
              "    }\n",
              "\n",
              "    [theme=dark] .colab-df-convert {\n",
              "      background-color: #3B4455;\n",
              "      fill: #D2E3FC;\n",
              "    }\n",
              "\n",
              "    [theme=dark] .colab-df-convert:hover {\n",
              "      background-color: #434B5C;\n",
              "      box-shadow: 0px 1px 3px 1px rgba(0, 0, 0, 0.15);\n",
              "      filter: drop-shadow(0px 1px 2px rgba(0, 0, 0, 0.3));\n",
              "      fill: #FFFFFF;\n",
              "    }\n",
              "  </style>\n",
              "\n",
              "    <script>\n",
              "      const buttonEl =\n",
              "        document.querySelector('#df-478fc40c-02a2-4dbb-ae49-0d6ba6273427 button.colab-df-convert');\n",
              "      buttonEl.style.display =\n",
              "        google.colab.kernel.accessAllowed ? 'block' : 'none';\n",
              "\n",
              "      async function convertToInteractive(key) {\n",
              "        const element = document.querySelector('#df-478fc40c-02a2-4dbb-ae49-0d6ba6273427');\n",
              "        const dataTable =\n",
              "          await google.colab.kernel.invokeFunction('convertToInteractive',\n",
              "                                                    [key], {});\n",
              "        if (!dataTable) return;\n",
              "\n",
              "        const docLinkHtml = 'Like what you see? Visit the ' +\n",
              "          '<a target=\"_blank\" href=https://colab.research.google.com/notebooks/data_table.ipynb>data table notebook</a>'\n",
              "          + ' to learn more about interactive tables.';\n",
              "        element.innerHTML = '';\n",
              "        dataTable['output_type'] = 'display_data';\n",
              "        await google.colab.output.renderOutput(dataTable, element);\n",
              "        const docLink = document.createElement('div');\n",
              "        docLink.innerHTML = docLinkHtml;\n",
              "        element.appendChild(docLink);\n",
              "      }\n",
              "    </script>\n",
              "  </div>\n",
              "\n",
              "\n",
              "<div id=\"df-f2cd84f2-c7ad-4c5c-9fd7-abc883b04dc8\">\n",
              "  <button class=\"colab-df-quickchart\" onclick=\"quickchart('df-f2cd84f2-c7ad-4c5c-9fd7-abc883b04dc8')\"\n",
              "            title=\"Suggest charts\"\n",
              "            style=\"display:none;\">\n",
              "\n",
              "<svg xmlns=\"http://www.w3.org/2000/svg\" height=\"24px\"viewBox=\"0 0 24 24\"\n",
              "     width=\"24px\">\n",
              "    <g>\n",
              "        <path d=\"M19 3H5c-1.1 0-2 .9-2 2v14c0 1.1.9 2 2 2h14c1.1 0 2-.9 2-2V5c0-1.1-.9-2-2-2zM9 17H7v-7h2v7zm4 0h-2V7h2v10zm4 0h-2v-4h2v4z\"/>\n",
              "    </g>\n",
              "</svg>\n",
              "  </button>\n",
              "\n",
              "<style>\n",
              "  .colab-df-quickchart {\n",
              "      --bg-color: #E8F0FE;\n",
              "      --fill-color: #1967D2;\n",
              "      --hover-bg-color: #E2EBFA;\n",
              "      --hover-fill-color: #174EA6;\n",
              "      --disabled-fill-color: #AAA;\n",
              "      --disabled-bg-color: #DDD;\n",
              "  }\n",
              "\n",
              "  [theme=dark] .colab-df-quickchart {\n",
              "      --bg-color: #3B4455;\n",
              "      --fill-color: #D2E3FC;\n",
              "      --hover-bg-color: #434B5C;\n",
              "      --hover-fill-color: #FFFFFF;\n",
              "      --disabled-bg-color: #3B4455;\n",
              "      --disabled-fill-color: #666;\n",
              "  }\n",
              "\n",
              "  .colab-df-quickchart {\n",
              "    background-color: var(--bg-color);\n",
              "    border: none;\n",
              "    border-radius: 50%;\n",
              "    cursor: pointer;\n",
              "    display: none;\n",
              "    fill: var(--fill-color);\n",
              "    height: 32px;\n",
              "    padding: 0;\n",
              "    width: 32px;\n",
              "  }\n",
              "\n",
              "  .colab-df-quickchart:hover {\n",
              "    background-color: var(--hover-bg-color);\n",
              "    box-shadow: 0 1px 2px rgba(60, 64, 67, 0.3), 0 1px 3px 1px rgba(60, 64, 67, 0.15);\n",
              "    fill: var(--button-hover-fill-color);\n",
              "  }\n",
              "\n",
              "  .colab-df-quickchart-complete:disabled,\n",
              "  .colab-df-quickchart-complete:disabled:hover {\n",
              "    background-color: var(--disabled-bg-color);\n",
              "    fill: var(--disabled-fill-color);\n",
              "    box-shadow: none;\n",
              "  }\n",
              "\n",
              "  .colab-df-spinner {\n",
              "    border: 2px solid var(--fill-color);\n",
              "    border-color: transparent;\n",
              "    border-bottom-color: var(--fill-color);\n",
              "    animation:\n",
              "      spin 1s steps(1) infinite;\n",
              "  }\n",
              "\n",
              "  @keyframes spin {\n",
              "    0% {\n",
              "      border-color: transparent;\n",
              "      border-bottom-color: var(--fill-color);\n",
              "      border-left-color: var(--fill-color);\n",
              "    }\n",
              "    20% {\n",
              "      border-color: transparent;\n",
              "      border-left-color: var(--fill-color);\n",
              "      border-top-color: var(--fill-color);\n",
              "    }\n",
              "    30% {\n",
              "      border-color: transparent;\n",
              "      border-left-color: var(--fill-color);\n",
              "      border-top-color: var(--fill-color);\n",
              "      border-right-color: var(--fill-color);\n",
              "    }\n",
              "    40% {\n",
              "      border-color: transparent;\n",
              "      border-right-color: var(--fill-color);\n",
              "      border-top-color: var(--fill-color);\n",
              "    }\n",
              "    60% {\n",
              "      border-color: transparent;\n",
              "      border-right-color: var(--fill-color);\n",
              "    }\n",
              "    80% {\n",
              "      border-color: transparent;\n",
              "      border-right-color: var(--fill-color);\n",
              "      border-bottom-color: var(--fill-color);\n",
              "    }\n",
              "    90% {\n",
              "      border-color: transparent;\n",
              "      border-bottom-color: var(--fill-color);\n",
              "    }\n",
              "  }\n",
              "</style>\n",
              "\n",
              "  <script>\n",
              "    async function quickchart(key) {\n",
              "      const quickchartButtonEl =\n",
              "        document.querySelector('#' + key + ' button');\n",
              "      quickchartButtonEl.disabled = true;  // To prevent multiple clicks.\n",
              "      quickchartButtonEl.classList.add('colab-df-spinner');\n",
              "      try {\n",
              "        const charts = await google.colab.kernel.invokeFunction(\n",
              "            'suggestCharts', [key], {});\n",
              "      } catch (error) {\n",
              "        console.error('Error during call to suggestCharts:', error);\n",
              "      }\n",
              "      quickchartButtonEl.classList.remove('colab-df-spinner');\n",
              "      quickchartButtonEl.classList.add('colab-df-quickchart-complete');\n",
              "    }\n",
              "    (() => {\n",
              "      let quickchartButtonEl =\n",
              "        document.querySelector('#df-f2cd84f2-c7ad-4c5c-9fd7-abc883b04dc8 button');\n",
              "      quickchartButtonEl.style.display =\n",
              "        google.colab.kernel.accessAllowed ? 'block' : 'none';\n",
              "    })();\n",
              "  </script>\n",
              "</div>\n",
              "\n",
              "  <div id=\"id_ebde7009-15c5-4bcf-a8af-76da15133465\">\n",
              "    <style>\n",
              "      .colab-df-generate {\n",
              "        background-color: #E8F0FE;\n",
              "        border: none;\n",
              "        border-radius: 50%;\n",
              "        cursor: pointer;\n",
              "        display: none;\n",
              "        fill: #1967D2;\n",
              "        height: 32px;\n",
              "        padding: 0 0 0 0;\n",
              "        width: 32px;\n",
              "      }\n",
              "\n",
              "      .colab-df-generate:hover {\n",
              "        background-color: #E2EBFA;\n",
              "        box-shadow: 0px 1px 2px rgba(60, 64, 67, 0.3), 0px 1px 3px 1px rgba(60, 64, 67, 0.15);\n",
              "        fill: #174EA6;\n",
              "      }\n",
              "\n",
              "      [theme=dark] .colab-df-generate {\n",
              "        background-color: #3B4455;\n",
              "        fill: #D2E3FC;\n",
              "      }\n",
              "\n",
              "      [theme=dark] .colab-df-generate:hover {\n",
              "        background-color: #434B5C;\n",
              "        box-shadow: 0px 1px 3px 1px rgba(0, 0, 0, 0.15);\n",
              "        filter: drop-shadow(0px 1px 2px rgba(0, 0, 0, 0.3));\n",
              "        fill: #FFFFFF;\n",
              "      }\n",
              "    </style>\n",
              "    <button class=\"colab-df-generate\" onclick=\"generateWithVariable('df_output')\"\n",
              "            title=\"Generate code using this dataframe.\"\n",
              "            style=\"display:none;\">\n",
              "\n",
              "  <svg xmlns=\"http://www.w3.org/2000/svg\" height=\"24px\"viewBox=\"0 0 24 24\"\n",
              "       width=\"24px\">\n",
              "    <path d=\"M7,19H8.4L18.45,9,17,7.55,7,17.6ZM5,21V16.75L18.45,3.32a2,2,0,0,1,2.83,0l1.4,1.43a1.91,1.91,0,0,1,.58,1.4,1.91,1.91,0,0,1-.58,1.4L9.25,21ZM18.45,9,17,7.55Zm-12,3A5.31,5.31,0,0,0,4.9,8.1,5.31,5.31,0,0,0,1,6.5,5.31,5.31,0,0,0,4.9,4.9,5.31,5.31,0,0,0,6.5,1,5.31,5.31,0,0,0,8.1,4.9,5.31,5.31,0,0,0,12,6.5,5.46,5.46,0,0,0,6.5,12Z\"/>\n",
              "  </svg>\n",
              "    </button>\n",
              "    <script>\n",
              "      (() => {\n",
              "      const buttonEl =\n",
              "        document.querySelector('#id_ebde7009-15c5-4bcf-a8af-76da15133465 button.colab-df-generate');\n",
              "      buttonEl.style.display =\n",
              "        google.colab.kernel.accessAllowed ? 'block' : 'none';\n",
              "\n",
              "      buttonEl.onclick = () => {\n",
              "        google.colab.notebook.generateWithVariable('df_output');\n",
              "      }\n",
              "      })();\n",
              "    </script>\n",
              "  </div>\n",
              "\n",
              "    </div>\n",
              "  </div>\n"
            ]
          },
          "metadata": {},
          "execution_count": 205
        }
      ]
    },
    {
      "cell_type": "markdown",
      "metadata": {
        "id": "57b31de5"
      },
      "source": [
        "### M5) Cluster Based Recommendation System"
      ]
    },
    {
      "cell_type": "markdown",
      "metadata": {
        "id": "9Xv2AZCszCdN"
      },
      "source": [
        "In **clustering-based recommendation systems**, we explore the **similarities and differences** in people's tastes in songs based on how they rate different songs. We cluster similar users together and recommend songs to a user based on play_counts from other users in the same cluster."
      ]
    },
    {
      "cell_type": "code",
      "execution_count": 193,
      "metadata": {
        "id": "0c4b20e4",
        "colab": {
          "base_uri": "https://localhost:8080/"
        },
        "outputId": "177666ef-4bab-4b98-dd4d-77444d2090fd"
      },
      "outputs": [
        {
          "output_type": "stream",
          "name": "stdout",
          "text": [
            "RMSE: 1.2779\n",
            "Precision:  0.361\n",
            "Recall:  0.549\n",
            "F_1 score:  0.436\n"
          ]
        }
      ],
      "source": [
        "coclustering = CoClustering(n_epochs=10\n",
        "                    , n_cltr_u=3\n",
        "                    , n_cltr_i=7\n",
        "                    , verbose=False)\n",
        "\n",
        "# Train the model on the training set\n",
        "coclustering.fit(trainset)\n",
        "\n",
        "# Evaluate the model performance\n",
        "precision_recall_at_k(coclustering)"
      ]
    },
    {
      "cell_type": "code",
      "execution_count": 194,
      "metadata": {
        "id": "11dbdc0f",
        "colab": {
          "base_uri": "https://localhost:8080/"
        },
        "outputId": "ed4bdff5-d89f-4512-90fc-2f20d6332bc8"
      },
      "outputs": [
        {
          "output_type": "stream",
          "name": "stdout",
          "text": [
            "user: 6958       item: 1671       r_ui = None   est = 0.92   {'was_impossible': False}\n"
          ]
        },
        {
          "output_type": "execute_result",
          "data": {
            "text/plain": [
              "Prediction(uid=6958, iid=1671, r_ui=None, est=0.9247942530338955, details={'was_impossible': False})"
            ]
          },
          "metadata": {},
          "execution_count": 194
        }
      ],
      "source": [
        "# Making prediction for user_id 6958 and song_id 1671\n",
        "coclustering.predict(6958\n",
        "                      , 1671\n",
        "                      , verbose = True)"
      ]
    },
    {
      "cell_type": "code",
      "execution_count": 195,
      "metadata": {
        "id": "dab1aaed",
        "colab": {
          "base_uri": "https://localhost:8080/"
        },
        "outputId": "45433c3d-d853-4994-8831-15bed9bacac5"
      },
      "outputs": [
        {
          "output_type": "stream",
          "name": "stdout",
          "text": [
            "user: 6958       item: 3232       r_ui = None   est = 1.77   {'was_impossible': False}\n"
          ]
        },
        {
          "output_type": "execute_result",
          "data": {
            "text/plain": [
              "Prediction(uid=6958, iid=3232, r_ui=None, est=1.7693237111147555, details={'was_impossible': False})"
            ]
          },
          "metadata": {},
          "execution_count": 195
        }
      ],
      "source": [
        "# Making prediction for user (userid 6958) for a song(song_id 3232) not heard by the user\n",
        "coclustering.predict(6958\n",
        "                      , 3232\n",
        "                      , verbose = True)"
      ]
    },
    {
      "cell_type": "markdown",
      "metadata": {
        "id": "c2fd66f5"
      },
      "source": [
        "#### Improving clustering-based recommendation system by tuning its hyper-parameters"
      ]
    },
    {
      "cell_type": "code",
      "execution_count": 196,
      "metadata": {
        "id": "efe7d8e6",
        "colab": {
          "base_uri": "https://localhost:8080/"
        },
        "outputId": "c05943a9-1940-4351-9c27-9458905964cd"
      },
      "outputs": [
        {
          "output_type": "stream",
          "name": "stdout",
          "text": [
            " Best RMSE score 1.1639149088656398 \n",
            "\n",
            "\n",
            "Combination of parameters for best RMSE score {'n_cltr_u': 3, 'n_cltr_i': 3, 'n_epochs': 10} \n",
            "\n"
          ]
        }
      ],
      "source": [
        "# Set the parameter space to tune\n",
        "param_grid = {'n_cltr_u': [3, 5, 7]\n",
        "              , 'n_cltr_i': [3, 5, 7]\n",
        "              , 'n_epochs': [10, 20, 30]}\n",
        "\n",
        "# Performing 3-fold gridsearch cross-validation\n",
        "gs_svd = GridSearchCV(CoClustering\n",
        "                   , param_grid\n",
        "                   , measures = ['rmse']\n",
        "                   , cv = 3\n",
        "                   , n_jobs = -1)\n",
        "\n",
        "# Fitting data\n",
        "gs_svd.fit(data)\n",
        "\n",
        "# Best RMSE score\n",
        "print(\" Best RMSE score\", gs_svd.best_score['rmse'], \"\\n\\n\")\n",
        "\n",
        "# Combination of parameters that gave the best RMSE score\n",
        "print(\"Combination of parameters for best RMSE score\", gs_svd.best_params['rmse'], \"\\n\")"
      ]
    },
    {
      "cell_type": "markdown",
      "metadata": {
        "id": "CS6aMVJLyj21"
      },
      "source": [
        "**Think About It**: How do the parameters affect the performance of the model? Can we improve the performance of the model further? Check the available hyperparameters [here](https://surprise.readthedocs.io/en/stable/co_clustering.html)."
      ]
    },
    {
      "cell_type": "code",
      "execution_count": 197,
      "metadata": {
        "id": "5a7a8a30",
        "colab": {
          "base_uri": "https://localhost:8080/"
        },
        "outputId": "245ffecc-dbc5-4b44-b86e-841ccc4fd14f"
      },
      "outputs": [
        {
          "output_type": "stream",
          "name": "stdout",
          "text": [
            "RMSE: 1.1862\n",
            "Precision:  0.381\n",
            "Recall:  0.576\n",
            "F_1 score:  0.459\n"
          ]
        }
      ],
      "source": [
        "# Train the tuned Coclustering algorithm\n",
        "coclustering_optimized = CoClustering(n_epochs=20\n",
        "                    , n_cltr_u=3\n",
        "                    , n_cltr_i=7\n",
        "                    , verbose=False)\n",
        "\n",
        "# Train the algorithm on the train set\n",
        "coclustering_optimized.fit(trainset)\n",
        "\n",
        "# Use the function precision_recall_at_k to compute precision@k, recall@k, F1-Score, and RMSE\n",
        "precision_recall_at_k(coclustering_optimized)"
      ]
    },
    {
      "cell_type": "code",
      "execution_count": 198,
      "metadata": {
        "id": "6ba5b26b",
        "colab": {
          "base_uri": "https://localhost:8080/"
        },
        "outputId": "0acb71c2-c753-4a34-c1e5-420268a6d72d"
      },
      "outputs": [
        {
          "output_type": "stream",
          "name": "stdout",
          "text": [
            "user: 6958       item: 1671       r_ui = None   est = 1.44   {'was_impossible': False}\n"
          ]
        },
        {
          "output_type": "execute_result",
          "data": {
            "text/plain": [
              "Prediction(uid=6958, iid=1671, r_ui=None, est=1.4448835281050045, details={'was_impossible': False})"
            ]
          },
          "metadata": {},
          "execution_count": 198
        }
      ],
      "source": [
        "# Using co_clustering_optimized model to recommend for userId 6958 and song_id 1671\n",
        "coclustering_optimized.predict(6958\n",
        "                      , 1671\n",
        "                      , verbose = True)"
      ]
    },
    {
      "cell_type": "code",
      "execution_count": 199,
      "metadata": {
        "id": "ec582940",
        "colab": {
          "base_uri": "https://localhost:8080/"
        },
        "outputId": "e6753945-c7b2-4ce9-fa9c-79f06a3446fc"
      },
      "outputs": [
        {
          "output_type": "stream",
          "name": "stdout",
          "text": [
            "user: 6958       item: 3232       r_ui = None   est = 1.34   {'was_impossible': False}\n"
          ]
        },
        {
          "output_type": "execute_result",
          "data": {
            "text/plain": [
              "Prediction(uid=6958, iid=3232, r_ui=None, est=1.3360722610722608, details={'was_impossible': False})"
            ]
          },
          "metadata": {},
          "execution_count": 199
        }
      ],
      "source": [
        "# Use Co_clustering based optimized model to recommend for userId 6958 and song_id 3232 with unknown baseline rating\n",
        "coclustering_optimized.predict(6958\n",
        "                      , 3232\n",
        "                      , verbose = True)"
      ]
    },
    {
      "cell_type": "markdown",
      "metadata": {
        "id": "df9e28ba"
      },
      "source": [
        "#### M5 Final Recommendations (6958)"
      ]
    },
    {
      "cell_type": "code",
      "execution_count": 208,
      "metadata": {
        "id": "e0f36e15",
        "colab": {
          "base_uri": "https://localhost:8080/"
        },
        "outputId": "9aa21062-2e18-4729-f735-935db71370b6"
      },
      "outputs": [
        {
          "output_type": "execute_result",
          "data": {
            "text/plain": [
              "[{'song_id': 4954, 'song_title': 'The Maestro', 'predicted_play_count': 5},\n",
              " {'song_id': 6378,\n",
              "  'song_title': 'Sayonara-Nostalgia',\n",
              "  'predicted_play_count': 4.83607226107226},\n",
              " {'song_id': 2048,\n",
              "  'song_title': 'Already Gone',\n",
              "  'predicted_play_count': 4.4853712342160215},\n",
              " {'song_id': 8494,\n",
              "  'song_title': 'Drops Of Jupiter',\n",
              "  'predicted_play_count': 4.4853712342160215},\n",
              " {'song_id': 786,\n",
              "  'song_title': 'TTHHEE PPAARRTTYY',\n",
              "  'predicted_play_count': 4.111550194771672}]"
            ]
          },
          "metadata": {},
          "execution_count": 208
        }
      ],
      "source": [
        "# Getting top 5 recommendations for user_id 6958 using \"Co-clustering based optimized\" algorithm\n",
        "recommendations = get_recommendations( df_final\n",
        "                                      , 6958\n",
        "                                      , 5\n",
        "                                      , coclustering_optimized\n",
        "                                      )\n",
        "recommendations"
      ]
    },
    {
      "cell_type": "code",
      "source": [
        "# Building the dataframe for above recommendations with columns \"song_id\" and \"predicted_play_count\"\n",
        "df_output = pd.DataFrame(recommendations)\n",
        "df_output = df_output.rename(columns={'song_id': 'prod_id'\n",
        ", 'song_title': 'title'\n",
        ", 'predicted_play_count': 'play_freq'})\n",
        "df_output"
      ],
      "metadata": {
        "colab": {
          "base_uri": "https://localhost:8080/",
          "height": 206
        },
        "id": "6DQphfSyhCw5",
        "outputId": "013c8571-4a6a-4752-8c38-d8366c08f11b"
      },
      "execution_count": 209,
      "outputs": [
        {
          "output_type": "execute_result",
          "data": {
            "text/plain": [
              "   prod_id               title  play_freq\n",
              "0     4954         The Maestro   5.000000\n",
              "1     6378  Sayonara-Nostalgia   4.836072\n",
              "2     2048        Already Gone   4.485371\n",
              "3     8494    Drops Of Jupiter   4.485371\n",
              "4      786   TTHHEE PPAARRTTYY   4.111550"
            ],
            "text/html": [
              "\n",
              "  <div id=\"df-e559a44e-2bb8-431e-a3e8-3df6b25fcf00\" class=\"colab-df-container\">\n",
              "    <div>\n",
              "<style scoped>\n",
              "    .dataframe tbody tr th:only-of-type {\n",
              "        vertical-align: middle;\n",
              "    }\n",
              "\n",
              "    .dataframe tbody tr th {\n",
              "        vertical-align: top;\n",
              "    }\n",
              "\n",
              "    .dataframe thead th {\n",
              "        text-align: right;\n",
              "    }\n",
              "</style>\n",
              "<table border=\"1\" class=\"dataframe\">\n",
              "  <thead>\n",
              "    <tr style=\"text-align: right;\">\n",
              "      <th></th>\n",
              "      <th>prod_id</th>\n",
              "      <th>title</th>\n",
              "      <th>play_freq</th>\n",
              "    </tr>\n",
              "  </thead>\n",
              "  <tbody>\n",
              "    <tr>\n",
              "      <th>0</th>\n",
              "      <td>4954</td>\n",
              "      <td>The Maestro</td>\n",
              "      <td>5.000000</td>\n",
              "    </tr>\n",
              "    <tr>\n",
              "      <th>1</th>\n",
              "      <td>6378</td>\n",
              "      <td>Sayonara-Nostalgia</td>\n",
              "      <td>4.836072</td>\n",
              "    </tr>\n",
              "    <tr>\n",
              "      <th>2</th>\n",
              "      <td>2048</td>\n",
              "      <td>Already Gone</td>\n",
              "      <td>4.485371</td>\n",
              "    </tr>\n",
              "    <tr>\n",
              "      <th>3</th>\n",
              "      <td>8494</td>\n",
              "      <td>Drops Of Jupiter</td>\n",
              "      <td>4.485371</td>\n",
              "    </tr>\n",
              "    <tr>\n",
              "      <th>4</th>\n",
              "      <td>786</td>\n",
              "      <td>TTHHEE PPAARRTTYY</td>\n",
              "      <td>4.111550</td>\n",
              "    </tr>\n",
              "  </tbody>\n",
              "</table>\n",
              "</div>\n",
              "    <div class=\"colab-df-buttons\">\n",
              "\n",
              "  <div class=\"colab-df-container\">\n",
              "    <button class=\"colab-df-convert\" onclick=\"convertToInteractive('df-e559a44e-2bb8-431e-a3e8-3df6b25fcf00')\"\n",
              "            title=\"Convert this dataframe to an interactive table.\"\n",
              "            style=\"display:none;\">\n",
              "\n",
              "  <svg xmlns=\"http://www.w3.org/2000/svg\" height=\"24px\" viewBox=\"0 -960 960 960\">\n",
              "    <path d=\"M120-120v-720h720v720H120Zm60-500h600v-160H180v160Zm220 220h160v-160H400v160Zm0 220h160v-160H400v160ZM180-400h160v-160H180v160Zm440 0h160v-160H620v160ZM180-180h160v-160H180v160Zm440 0h160v-160H620v160Z\"/>\n",
              "  </svg>\n",
              "    </button>\n",
              "\n",
              "  <style>\n",
              "    .colab-df-container {\n",
              "      display:flex;\n",
              "      gap: 12px;\n",
              "    }\n",
              "\n",
              "    .colab-df-convert {\n",
              "      background-color: #E8F0FE;\n",
              "      border: none;\n",
              "      border-radius: 50%;\n",
              "      cursor: pointer;\n",
              "      display: none;\n",
              "      fill: #1967D2;\n",
              "      height: 32px;\n",
              "      padding: 0 0 0 0;\n",
              "      width: 32px;\n",
              "    }\n",
              "\n",
              "    .colab-df-convert:hover {\n",
              "      background-color: #E2EBFA;\n",
              "      box-shadow: 0px 1px 2px rgba(60, 64, 67, 0.3), 0px 1px 3px 1px rgba(60, 64, 67, 0.15);\n",
              "      fill: #174EA6;\n",
              "    }\n",
              "\n",
              "    .colab-df-buttons div {\n",
              "      margin-bottom: 4px;\n",
              "    }\n",
              "\n",
              "    [theme=dark] .colab-df-convert {\n",
              "      background-color: #3B4455;\n",
              "      fill: #D2E3FC;\n",
              "    }\n",
              "\n",
              "    [theme=dark] .colab-df-convert:hover {\n",
              "      background-color: #434B5C;\n",
              "      box-shadow: 0px 1px 3px 1px rgba(0, 0, 0, 0.15);\n",
              "      filter: drop-shadow(0px 1px 2px rgba(0, 0, 0, 0.3));\n",
              "      fill: #FFFFFF;\n",
              "    }\n",
              "  </style>\n",
              "\n",
              "    <script>\n",
              "      const buttonEl =\n",
              "        document.querySelector('#df-e559a44e-2bb8-431e-a3e8-3df6b25fcf00 button.colab-df-convert');\n",
              "      buttonEl.style.display =\n",
              "        google.colab.kernel.accessAllowed ? 'block' : 'none';\n",
              "\n",
              "      async function convertToInteractive(key) {\n",
              "        const element = document.querySelector('#df-e559a44e-2bb8-431e-a3e8-3df6b25fcf00');\n",
              "        const dataTable =\n",
              "          await google.colab.kernel.invokeFunction('convertToInteractive',\n",
              "                                                    [key], {});\n",
              "        if (!dataTable) return;\n",
              "\n",
              "        const docLinkHtml = 'Like what you see? Visit the ' +\n",
              "          '<a target=\"_blank\" href=https://colab.research.google.com/notebooks/data_table.ipynb>data table notebook</a>'\n",
              "          + ' to learn more about interactive tables.';\n",
              "        element.innerHTML = '';\n",
              "        dataTable['output_type'] = 'display_data';\n",
              "        await google.colab.output.renderOutput(dataTable, element);\n",
              "        const docLink = document.createElement('div');\n",
              "        docLink.innerHTML = docLinkHtml;\n",
              "        element.appendChild(docLink);\n",
              "      }\n",
              "    </script>\n",
              "  </div>\n",
              "\n",
              "\n",
              "<div id=\"df-05b1a6fb-98df-4b93-99ed-a28da819e873\">\n",
              "  <button class=\"colab-df-quickchart\" onclick=\"quickchart('df-05b1a6fb-98df-4b93-99ed-a28da819e873')\"\n",
              "            title=\"Suggest charts\"\n",
              "            style=\"display:none;\">\n",
              "\n",
              "<svg xmlns=\"http://www.w3.org/2000/svg\" height=\"24px\"viewBox=\"0 0 24 24\"\n",
              "     width=\"24px\">\n",
              "    <g>\n",
              "        <path d=\"M19 3H5c-1.1 0-2 .9-2 2v14c0 1.1.9 2 2 2h14c1.1 0 2-.9 2-2V5c0-1.1-.9-2-2-2zM9 17H7v-7h2v7zm4 0h-2V7h2v10zm4 0h-2v-4h2v4z\"/>\n",
              "    </g>\n",
              "</svg>\n",
              "  </button>\n",
              "\n",
              "<style>\n",
              "  .colab-df-quickchart {\n",
              "      --bg-color: #E8F0FE;\n",
              "      --fill-color: #1967D2;\n",
              "      --hover-bg-color: #E2EBFA;\n",
              "      --hover-fill-color: #174EA6;\n",
              "      --disabled-fill-color: #AAA;\n",
              "      --disabled-bg-color: #DDD;\n",
              "  }\n",
              "\n",
              "  [theme=dark] .colab-df-quickchart {\n",
              "      --bg-color: #3B4455;\n",
              "      --fill-color: #D2E3FC;\n",
              "      --hover-bg-color: #434B5C;\n",
              "      --hover-fill-color: #FFFFFF;\n",
              "      --disabled-bg-color: #3B4455;\n",
              "      --disabled-fill-color: #666;\n",
              "  }\n",
              "\n",
              "  .colab-df-quickchart {\n",
              "    background-color: var(--bg-color);\n",
              "    border: none;\n",
              "    border-radius: 50%;\n",
              "    cursor: pointer;\n",
              "    display: none;\n",
              "    fill: var(--fill-color);\n",
              "    height: 32px;\n",
              "    padding: 0;\n",
              "    width: 32px;\n",
              "  }\n",
              "\n",
              "  .colab-df-quickchart:hover {\n",
              "    background-color: var(--hover-bg-color);\n",
              "    box-shadow: 0 1px 2px rgba(60, 64, 67, 0.3), 0 1px 3px 1px rgba(60, 64, 67, 0.15);\n",
              "    fill: var(--button-hover-fill-color);\n",
              "  }\n",
              "\n",
              "  .colab-df-quickchart-complete:disabled,\n",
              "  .colab-df-quickchart-complete:disabled:hover {\n",
              "    background-color: var(--disabled-bg-color);\n",
              "    fill: var(--disabled-fill-color);\n",
              "    box-shadow: none;\n",
              "  }\n",
              "\n",
              "  .colab-df-spinner {\n",
              "    border: 2px solid var(--fill-color);\n",
              "    border-color: transparent;\n",
              "    border-bottom-color: var(--fill-color);\n",
              "    animation:\n",
              "      spin 1s steps(1) infinite;\n",
              "  }\n",
              "\n",
              "  @keyframes spin {\n",
              "    0% {\n",
              "      border-color: transparent;\n",
              "      border-bottom-color: var(--fill-color);\n",
              "      border-left-color: var(--fill-color);\n",
              "    }\n",
              "    20% {\n",
              "      border-color: transparent;\n",
              "      border-left-color: var(--fill-color);\n",
              "      border-top-color: var(--fill-color);\n",
              "    }\n",
              "    30% {\n",
              "      border-color: transparent;\n",
              "      border-left-color: var(--fill-color);\n",
              "      border-top-color: var(--fill-color);\n",
              "      border-right-color: var(--fill-color);\n",
              "    }\n",
              "    40% {\n",
              "      border-color: transparent;\n",
              "      border-right-color: var(--fill-color);\n",
              "      border-top-color: var(--fill-color);\n",
              "    }\n",
              "    60% {\n",
              "      border-color: transparent;\n",
              "      border-right-color: var(--fill-color);\n",
              "    }\n",
              "    80% {\n",
              "      border-color: transparent;\n",
              "      border-right-color: var(--fill-color);\n",
              "      border-bottom-color: var(--fill-color);\n",
              "    }\n",
              "    90% {\n",
              "      border-color: transparent;\n",
              "      border-bottom-color: var(--fill-color);\n",
              "    }\n",
              "  }\n",
              "</style>\n",
              "\n",
              "  <script>\n",
              "    async function quickchart(key) {\n",
              "      const quickchartButtonEl =\n",
              "        document.querySelector('#' + key + ' button');\n",
              "      quickchartButtonEl.disabled = true;  // To prevent multiple clicks.\n",
              "      quickchartButtonEl.classList.add('colab-df-spinner');\n",
              "      try {\n",
              "        const charts = await google.colab.kernel.invokeFunction(\n",
              "            'suggestCharts', [key], {});\n",
              "      } catch (error) {\n",
              "        console.error('Error during call to suggestCharts:', error);\n",
              "      }\n",
              "      quickchartButtonEl.classList.remove('colab-df-spinner');\n",
              "      quickchartButtonEl.classList.add('colab-df-quickchart-complete');\n",
              "    }\n",
              "    (() => {\n",
              "      let quickchartButtonEl =\n",
              "        document.querySelector('#df-05b1a6fb-98df-4b93-99ed-a28da819e873 button');\n",
              "      quickchartButtonEl.style.display =\n",
              "        google.colab.kernel.accessAllowed ? 'block' : 'none';\n",
              "    })();\n",
              "  </script>\n",
              "</div>\n",
              "\n",
              "  <div id=\"id_b6033912-5f98-4214-aa57-1971cdea204f\">\n",
              "    <style>\n",
              "      .colab-df-generate {\n",
              "        background-color: #E8F0FE;\n",
              "        border: none;\n",
              "        border-radius: 50%;\n",
              "        cursor: pointer;\n",
              "        display: none;\n",
              "        fill: #1967D2;\n",
              "        height: 32px;\n",
              "        padding: 0 0 0 0;\n",
              "        width: 32px;\n",
              "      }\n",
              "\n",
              "      .colab-df-generate:hover {\n",
              "        background-color: #E2EBFA;\n",
              "        box-shadow: 0px 1px 2px rgba(60, 64, 67, 0.3), 0px 1px 3px 1px rgba(60, 64, 67, 0.15);\n",
              "        fill: #174EA6;\n",
              "      }\n",
              "\n",
              "      [theme=dark] .colab-df-generate {\n",
              "        background-color: #3B4455;\n",
              "        fill: #D2E3FC;\n",
              "      }\n",
              "\n",
              "      [theme=dark] .colab-df-generate:hover {\n",
              "        background-color: #434B5C;\n",
              "        box-shadow: 0px 1px 3px 1px rgba(0, 0, 0, 0.15);\n",
              "        filter: drop-shadow(0px 1px 2px rgba(0, 0, 0, 0.3));\n",
              "        fill: #FFFFFF;\n",
              "      }\n",
              "    </style>\n",
              "    <button class=\"colab-df-generate\" onclick=\"generateWithVariable('df_output')\"\n",
              "            title=\"Generate code using this dataframe.\"\n",
              "            style=\"display:none;\">\n",
              "\n",
              "  <svg xmlns=\"http://www.w3.org/2000/svg\" height=\"24px\"viewBox=\"0 0 24 24\"\n",
              "       width=\"24px\">\n",
              "    <path d=\"M7,19H8.4L18.45,9,17,7.55,7,17.6ZM5,21V16.75L18.45,3.32a2,2,0,0,1,2.83,0l1.4,1.43a1.91,1.91,0,0,1,.58,1.4,1.91,1.91,0,0,1-.58,1.4L9.25,21ZM18.45,9,17,7.55Zm-12,3A5.31,5.31,0,0,0,4.9,8.1,5.31,5.31,0,0,0,1,6.5,5.31,5.31,0,0,0,4.9,4.9,5.31,5.31,0,0,0,6.5,1,5.31,5.31,0,0,0,8.1,4.9,5.31,5.31,0,0,0,12,6.5,5.46,5.46,0,0,0,6.5,12Z\"/>\n",
              "  </svg>\n",
              "    </button>\n",
              "    <script>\n",
              "      (() => {\n",
              "      const buttonEl =\n",
              "        document.querySelector('#id_b6033912-5f98-4214-aa57-1971cdea204f button.colab-df-generate');\n",
              "      buttonEl.style.display =\n",
              "        google.colab.kernel.accessAllowed ? 'block' : 'none';\n",
              "\n",
              "      buttonEl.onclick = () => {\n",
              "        google.colab.notebook.generateWithVariable('df_output');\n",
              "      }\n",
              "      })();\n",
              "    </script>\n",
              "  </div>\n",
              "\n",
              "    </div>\n",
              "  </div>\n"
            ]
          },
          "metadata": {},
          "execution_count": 209
        }
      ]
    },
    {
      "cell_type": "markdown",
      "metadata": {
        "id": "f1696941"
      },
      "source": [
        "### Correcting the play_count and Ranking the above songs"
      ]
    },
    {
      "cell_type": "code",
      "execution_count": null,
      "metadata": {
        "id": "c186f13b",
        "scrolled": true
      },
      "outputs": [],
      "source": [
        "# Ranking songs based on the above recommendations\n",
        "ranked_songs = ranking_songs(recommendations\n",
        "                             , df_final)\n",
        "print(ranked_songs.head())"
      ]
    },
    {
      "cell_type": "markdown",
      "metadata": {
        "id": "5U56oSNsR-F2"
      },
      "source": [
        "### M6) Content Based Recommendation Systems"
      ]
    },
    {
      "cell_type": "markdown",
      "metadata": {
        "id": "9aTEqaOjhoEg"
      },
      "source": [
        "**Think About It:** So far we have only used the play_count of songs to find recommendations but we have other information/features on songs as well. Can we take those song features into account?"
      ]
    },
    {
      "cell_type": "code",
      "execution_count": 214,
      "metadata": {
        "id": "RhUx2jgp4frC"
      },
      "outputs": [],
      "source": [
        "temp = df_final"
      ]
    },
    {
      "cell_type": "code",
      "execution_count": 215,
      "metadata": {
        "id": "UX826CsjR-F3"
      },
      "outputs": [],
      "source": [
        "# Concatenate the \"title\", \"release\", \"artist_name\" columns to create a different column named \"text\"\n",
        "temp['text'] = temp['song_title'] + ' - ' + temp['song_release'] + ' - ' + temp['song_artist']"
      ]
    },
    {
      "cell_type": "code",
      "execution_count": 216,
      "metadata": {
        "id": "WdXw4U-wR-F4",
        "colab": {
          "base_uri": "https://localhost:8080/"
        },
        "outputId": "03d1e4bf-dd50-43eb-cdc2-32d170239317"
      },
      "outputs": [
        {
          "output_type": "stream",
          "name": "stdout",
          "text": [
            "                                 user_id  song_id  play_count  \\\n",
            "song_title                                                      \n",
            "Daisy And Prudence                  6958      447           1   \n",
            "The Ballad of Michael Valentine     6958      512           1   \n",
            "They Might Follow You               6958      703           1   \n",
            "Monkey Man                          6958      719           1   \n",
            "Bleeding Hearts                     6958      892           1   \n",
            "\n",
            "                                                                              text  \n",
            "song_title                                                                          \n",
            "Daisy And Prudence                Daisy And Prudence - Distillation - Erin McKeown  \n",
            "The Ballad of Michael Valentine  The Ballad of Michael Valentine - Sawdust - Th...  \n",
            "They Might Follow You            They Might Follow You - Tiny Vipers - Tiny Vipers  \n",
            "Monkey Man                       Monkey Man - You Know I'm No Good - Amy Winehouse  \n",
            "Bleeding Hearts                             Bleeding Hearts - Hell Train - Soltero  \n"
          ]
        }
      ],
      "source": [
        "# Select the columns 'user_id', 'song_id', 'play_count', 'title', 'text' from df_small data\n",
        "selected_columns = ['user_id', 'song_id', 'play_count', 'song_title', 'text']\n",
        "df_small = df_final[selected_columns]\n",
        "# Drop the duplicates from the title column\n",
        "df_small = df_small.drop_duplicates()\n",
        "# Set the title column as the index\n",
        "df_small = df_small.set_index('song_title')\n",
        "# See the first 5 records of the df_small dataset\n",
        "print(df_small.head())"
      ]
    },
    {
      "cell_type": "code",
      "execution_count": 220,
      "metadata": {
        "id": "qDcYHwZTR-F5",
        "colab": {
          "base_uri": "https://localhost:8080/"
        },
        "outputId": "1fb89023-4aca-4063-a4bf-e62988368d08"
      },
      "outputs": [
        {
          "output_type": "execute_result",
          "data": {
            "text/plain": [
              "0                 Daisy And Prudence\n",
              "1    The Ballad of Michael Valentine\n",
              "2              They Might Follow You\n",
              "3                         Monkey Man\n",
              "4                    Bleeding Hearts\n",
              "Name: song_title, dtype: object"
            ]
          },
          "metadata": {},
          "execution_count": 220
        }
      ],
      "source": [
        "# Create the series of indices from the data\n",
        "indices = pd.Series(df_small.index, name='song_title')\n",
        "indices[ : 5]"
      ]
    },
    {
      "cell_type": "markdown",
      "source": [
        "### Overview of Evaluation Values:\n",
        "\n",
        "Overview by Model (Mx):,  \n",
        "\n",
        "*   Columns E:O represent the evaluation values of the original model (E:H),\n",
        "*   the optimized model (I:L),\n",
        "*   and their difference (M: O)"
      ],
      "metadata": {
        "id": "kxi-4vBKYwgx"
      }
    },
    {
      "cell_type": "markdown",
      "source": [
        "| Model Name | Algorithm Type           | Implemented in CAPSTONE |               | RMSE     | Precision | Recall  | F_1   | RMSE     | Precision | Recall  | F_1    | RMSE     | Precision | Recall  | F_1     |\n",
        "| ---------- | ------------------------ | ----------------------- | ------------- | -------- | --------- | ------- | ----- | -------- | --------- | ------- | ------ | -------- | --------- | ------- | ------- |\n",
        "| M1         |                          | Yes                     |               |          |           |         |       |          |           |         |        |          |           |         |         |\n",
        "| M2         | User - User Similarity   | Yes                     | sim_user_user | 1.0614   | 0.395     | 0.647   | 0.491 | 0.9819   | 0.446     | 0.574   | 0.502  | \\-0.0795 | 0.051     | \\-0.073 | 0.011   |\n",
        "| M3         | Item - Item Similarity   | Yes                     | sim_item_item | 1.0154   | 0.323     | 0.548   | 0.406 | 1.0134   | 0.44      | 0.548   | 0.488  | \\-0.002  | 0.117     | 0       | 0.082   |\n",
        "| M4         | Matrix Factorization     | Yes                     | svd           | 0.9786   | 0.429     | 0.611   | 0.504 | 1.0009   | 0.401     | 0.612   | 0.485  | 0.0223   | \\-0.028   | 0.001   | \\-0.019 |\n",
        "| M5         | Cluster Based Approaches | Yes                     | coclustering  | 1.0329   | 0.391     | 0.555   | 0.459 | 1.0321   | 0.395     | 0.559   | 0.463  | \\-0.0008 | 0.004     | 0.004   | 0.004   |\n",
        "| M6         | TF-IDF                   | TBD                     |               |          |           |         |       |          |           |         |        | 0        | 0         | 0       | 0       |\n",
        "| M7         | Hybrid                   | TBD                     |               |          |           |         |       |          |           |         |        | 0        | 0         | 0       | 0       |\n",
        "| M8         | Advanced                 | TBD                     |               |          |           |         |       |          |           |         |        | 0        | 0         | 0       | 0       |\n",
        "| Average    |                          |                         |               | 1.022075 | 0.3845    | 0.59025 | 0.465 | 1.007075 | 0.4205    | 0.57325 | 0.4845 | \\-0.015  | 0.036     | \\-0.017 | 0.0195  |"
      ],
      "metadata": {
        "id": "9-Iy-mC3VMM8"
      }
    },
    {
      "cell_type": "markdown",
      "metadata": {
        "id": "73367782"
      },
      "source": [
        "## **Conclusion and Recommendations** (Milestone 001)"
      ]
    },
    {
      "cell_type": "markdown",
      "metadata": {
        "id": "N5BT7Ocwqf5x"
      },
      "source": [
        "![vealuation metrics.png](data:image/png;base64,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)**1. Comparison of various techniques and their relative performance based on chosen Metric (Measure of success)**:\n",
        "- How do different techniques perform? Which one is performing relatively better? Is there scope to improve the performance further?"
      ]
    },
    {
      "cell_type": "markdown",
      "source": [],
      "metadata": {
        "id": "oNS0o7Dfq3S2"
      }
    },
    {
      "cell_type": "markdown",
      "source": [
        "*   The overall evaluation metrics performed very low and need to be improved.\n",
        "\n",
        "*   On average the original models metrics were:\n",
        "\n",
        "```\n",
        "AVG: RMSE: 1.022075, Precision 0.3845, Recall: 0.59025, F_1: 0.465\n",
        "```\n",
        "\n",
        "*   Most of the hyperparameter tuning imporved the Precision at the cost of Recall (thus also lowering F_1) although most of the RMSE was lowered by -0.015 on AVG.\n",
        "\n",
        "*   The best performing model was M4 or Matrix Factorization. M4 had the lowest\n",
        "RMSE and highest Precision and F1, Recall was very close to M2. M2 had the highest Recall metric. The recommendation values however were much lower AVG(-0.7) than compared to the other models.\n",
        "\n",
        "```\n",
        "*  M1 - Popularity\n",
        "Good base model and easy to implement\n",
        "\n",
        "*  M2 - User - User CF\n",
        "Showed the highest Recall value and second best performing model\n",
        "sim_user_user,1.0614,0.395,0.647,0.491,0.9819,0.446,0.574,0.502,-0.0795,0.051,-0.073,0.011\n",
        "\n",
        "Top 5 recommendations\n",
        "[(9942, 2.7),\n",
        "(8324, 2.5),\n",
        "(614, 2.5),\n",
        "(657, 2.4),\n",
        "(6450, 2.3)]\n",
        "\n",
        "*  M3 - Item - Item CF\n",
        "Showed the highest improvement in precision (+0.02) after parameter tuning\n",
        "sim_item_item,1.0154,0.323,0.548,0.406,1.0134,0.44,0.548,0.488,-0.002,0.117,0,0.082\n",
        "\n",
        "Top 5 recommendations\n",
        "[(8324, 2.8),\n",
        "(9942, 2.6),\n",
        "(4811, 2.5),\n",
        "(614, 2.5),\n",
        "(4954, 2.4)]\n",
        "\n",
        "*  M4 - **Matrix Factorization CF**\n",
        "Best performing model overall\n",
        "svd,0.9786,0.429,0.611,0.504,1.0009,0.401,0.612,0.485,0.0223,-0.028,0.001,-0.019\n",
        "\n",
        "Top 5 recommendations\n",
        "[(6450, 2.0),\n",
        "(2220, 1.9),\n",
        "(9942, 1.9),\n",
        "(5653, 1.8),\n",
        "(8324, 1.8)]\n",
        "\n",
        "*  M5 - Cluster Based Approach\n",
        "coclustering,1.0329,0.391,0.555,0.459,1.0321,0.395,0.559,0.463,-0.0008,0.004,0.004,0.004\n",
        "\n",
        "Top 5 recommendations\n",
        "[(6450, 2.2),\n",
        "(8324, 2.2),\n",
        "(2220, 2.1),\n",
        "(5531, 2.0),\n",
        "(352, 1.9)]\n",
        "\n",
        "*  M6 - TF-IDF\n",
        "\n",
        "```\n"
      ],
      "metadata": {
        "id": "ah1Jcj3rVzGB"
      }
    },
    {
      "cell_type": "markdown",
      "metadata": {
        "id": "wjc6vTcoqp6v"
      },
      "source": [
        "**2. Refined insights**:\n",
        "- What are the most meaningful insights from the data relevant to the problem?\n",
        "\n"
      ]
    },
    {
      "cell_type": "markdown",
      "metadata": {
        "id": "hK6PMGUtoxVx"
      },
      "source": [
        "**3. Proposal for the final solution design:**\n",
        "- What model do you propose to be adopted? Why is this the best solution to adopt?"
      ]
    },
    {
      "cell_type": "markdown",
      "source": [
        "Proposal:\n",
        "*   Adopt model M4 Matrix Factorization\n",
        "*   Improve the Data Preparation and tryout different filters e.g.,\n",
        "    *   USER CUTOFF and other selection criteria (song, user cutoffs)\n",
        "    *   Apply the IQR Qunatile analysis performed\n",
        "    *   Experiment with the Spotify Web API for data augmentation adding more features e..g, song genre\n",
        "*   Tryout other models:\n",
        "    *   Hybrid models: Combining M4![vealuation metrics_002.png](data:image/png;base64,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) and M2 to improve performance\n",
        "    *   \n",
        "\n",
        "\n"
      ],
      "metadata": {
        "id": "qne692ZLah21"
      }
    },
    {
      "cell_type": "markdown",
      "source": [
        "### Convert to HTML"
      ],
      "metadata": {
        "id": "o0W2ptDqqsuC"
      }
    },
    {
      "cell_type": "code",
      "source": [
        "# !pip install nbconvert\n",
        "# !pip install --upgrade nbconvert\n",
        "# import nbconvert\n",
        "# Mounting the drive\n",
        "# from google.colab import drive\n",
        "# drive.mount('/content/gdrive')"
      ],
      "metadata": {
        "id": "FZ2MLbGyOyRj"
      },
      "execution_count": null,
      "outputs": []
    },
    {
      "cell_type": "code",
      "execution_count": null,
      "metadata": {
        "id": "fmGylkEOHmAv"
      },
      "outputs": [],
      "source": [
        "# !jupyter nbconvert --to html /content/sample_data/CAPSTONE_music_recsys_gabrysiak.ipynb"
      ]
    },
    {
      "cell_type": "markdown",
      "source": [
        "## Conclusions & Recommendations\n"
      ],
      "metadata": {
        "id": "dt20NjfhbnLY"
      }
    },
    {
      "cell_type": "markdown",
      "source": [
        "### Executive summary\n",
        "**What are the most important findings from the analysis done in Milestone**\n",
        "1.   Further details can be found in the pandas report. The initial dataset had a total of 154377 x 7 variables. Play count information included outluiers that were excluded defining the final dataset with song of playcounts of =< 5.Furthermore the most popular bands were Coldplay and most popular songs were Use Somebody, Yellow and Don't Stop the Music.\n",
        "\n",
        "**Provide the final proposed model specifications**\n",
        "2. Most models had an initial poor performance and poor improvment upon hyperparameter tuning. The model with best performance was M4 or Matrix Factorization. The same model had very poor improvement upon hyperparameter tuning or data augmentation with Spotipy. The optimized model paramteres are the following: {'n_epochs': 30, 'lr_all': 0.01, 'reg_all': 0.2}. The models were tested with different data preparation operations and parameter configurations however this one was the best performing one.\n",
        "\n",
        "\n"
      ],
      "metadata": {
        "id": "UqozcQ5mbo-6"
      }
    },
    {
      "cell_type": "markdown",
      "source": [
        "### Problem and solution summary\n",
        "**Summary of the problem**\n",
        "\n",
        "1.   The goal of this project is to come up with the ‘optimal’ design of a recommendation system. ‘Optimal’ is very subjective and it refers hereby to not only evaluation metrics but other aspects that can be described with the following steps: Understanding the data with user preferences Understanding what an ‘optimal’ recommendation system is and its trade-offs (evaluation metrics, business context, user preferences, scalability/efficiency) or limitations (cold-start problem) Performing several model design experiments and testing (+ trade-offs/drawbacks as above) Selecting the final model and getting user feedback\n",
        "\n",
        "\n",
        "\n",
        "**Explain the reason for the proposed solution design**\n",
        "1.   The proposed solution design likely stems from the specific requirements and challenges of the project, particularly in the context of building a recommendation system using the Spotify Web API and other relevant data. While the exact details of the project and its objectives aren't provided, I can outline general reasons why certain components or approaches might be part of the proposed solution design: The decision to augment the initial dataset with the Spotify Web API likely came from the need to enrich the dataset with additional relevant information.The choice of variables included in the augmented dataset is likely driven by factors such as their relevance to music recommendation and their availability from the Spotify Web API.The selection of M4 as the best model is based on the evaluation metrics and its characteristics. By learning latent factors, the model can generalize well to unseen user-item pairs, making it effective in recommending items that a user has not interacted with.\n",
        "\n",
        "\n",
        "**How it would affect the problem/business?**\n",
        "1.   Matrix factorization models are computationally efficient and scalable, making them suitable for large-scale recommendation systems.As datasets grow, the model should scale efficiently to handle the increased volume of user-item interactions. Matrix factorization techniques are well-suited for scalability.Given that the data augmentation created no impact it needs to be revised for model improvement.The data augmentation step took considerable time and resources even after being implemented with Spark."
      ],
      "metadata": {
        "id": "TZZpCyvdbuhV"
      }
    },
    {
      "cell_type": "markdown",
      "source": [
        "### Recommendations for implementation\n",
        "\n",
        "**What are some key recommendations to implement the solutions?**\n",
        "1.   To successfully implement the recommendation system, it's crucial to evaluate the model's performance using metrics like RMSE, precision, and recall. Integrate a user feedback loop to collect valuable insights and employ A/B testing for continuous optimization. Ensure scalability of the infrastructure to accommodate growing user bases and items. Prioritize low-latency recommendations and strike a balance between personalization and diversity for an engaging user experience. Enhance system transparency by providing explanations for recommendations and incorporate additional metadata to improve quality. Prioritize user privacy and security, update the model regularly for content freshness, and dynamically adjust hyperparameters based on evolving user behavior. Collaborate with stakeholders for alignment with business goals, document system details for knowledge transfer, and implement robust monitoring for proactive maintenance. Perform some user -feedback evaluation e.g., A/B testing and if needed educate users on system interaction, and foster a culture of continuous improvement through iterative development and adaptation to changing user preferences.\n",
        "\n",
        "**What are the key actionables for stakeholders?**\n",
        "1.   Regular feedback is essential for evaluating the system's performance metrics, such as RMSE, precision, and recall, ensuring continuous improvement. Collaborating on strategies to enhance the user experience, ensuring scalability, and addressing privacy concerns are key areas where stakeholder input is invaluable. Alignment with broader business goals, transparent communication about the system's workings, and educational initiatives for users contribute to a positive and trusted relationship. Stakeholders should stay agile in adapting the system to changing requirements, participate in strategic planning, and contribute to documentation and knowledge transfer within the organization. Ultimately, their engagement is vital for the recommendation system to thrive and remain aligned with organizational objectives.\n",
        "\n",
        "**What is the expected benefit and/or costs? What are the key risks and challenges?**\n",
        "1.   The recommendation system is expected to enhance user experience and engagement, providing personalized content and potentially boosting user loyalty. However, implementing and maintaining the system involves investment in technology and data infrastructure. There's a need for ongoing monitoring to ensure user privacy and data security compliance. The risk of biased recommendations poses a challenge, requiring regular audits and adjustments to algorithms. Success depends on the availability and quality of data, and any issues in data collection may impact accuracy. Transparent communication with users about recommendation generation is crucial, and finding the right balance between personalization and 'serendipity' is an ongoing challenge. In conclusion, while the system offers significant benefits, managing costs, risks, and challenges is vital for sustained success.\n",
        "\n",
        "**What further analysis needs to be done or what other associated problems need to be solved?**\n",
        "1.   Further analysis should focus on continuous evaluation and refinement of the recommendation system. Ongoing monitoring of user feedback, interaction patterns, and any emerging trends is crucial. Conducting A/B testing to assess the impact of algorithm adjustments on user engagement can provide valuable insights. Addressing issues related to cold starts for new users or items is essential for broadening the system's applicability. Exploring advanced algorithms or hybrid models that combine collaborative and content-based approaches may enhance recommendation accuracy. Additionally, analyzing the system's scalability and performance under increasing user loads is important for ensuring a seamless user experience. Regular updates and adaptation to changing user preferences and industry dynamics will contribute to the system's long-term success."
      ],
      "metadata": {
        "id": "M78mYqhNbywO"
      }
    },
    {
      "cell_type": "code",
      "source": [
        "!python -m pip install -U notebook-as-pdf\n",
        "#pyppeteer-install"
      ],
      "metadata": {
        "colab": {
          "base_uri": "https://localhost:8080/",
          "height": 1000
        },
        "id": "pu4YfkSLmAm2",
        "outputId": "f950107d-621d-4a50-9c25-e0ffb21c1e68"
      },
      "execution_count": 229,
      "outputs": [
        {
          "output_type": "stream",
          "name": "stdout",
          "text": [
            "Collecting notebook-as-pdf\n",
            "  Downloading notebook_as_pdf-0.5.0-py3-none-any.whl (6.5 kB)\n",
            "Requirement already satisfied: nbconvert in /usr/local/lib/python3.10/dist-packages (from notebook-as-pdf) (6.5.4)\n",
            "Collecting pyppeteer (from notebook-as-pdf)\n",
            "  Downloading pyppeteer-1.0.2-py3-none-any.whl (83 kB)\n",
            "\u001b[2K     \u001b[90m━━━━━━━━━━━━━━━━━━━━━━━━━━━━━━━━━━━━━━━━\u001b[0m \u001b[32m83.4/83.4 kB\u001b[0m \u001b[31m2.1 MB/s\u001b[0m eta \u001b[36m0:00:00\u001b[0m\n",
            "\u001b[?25hCollecting PyPDF2 (from notebook-as-pdf)\n",
            "  Downloading pypdf2-3.0.1-py3-none-any.whl (232 kB)\n",
            "\u001b[2K     \u001b[90m━━━━━━━━━━━━━━━━━━━━━━━━━━━━━━━━━━━━━━━━\u001b[0m \u001b[32m232.6/232.6 kB\u001b[0m \u001b[31m5.8 MB/s\u001b[0m eta \u001b[36m0:00:00\u001b[0m\n",
            "\u001b[?25hRequirement already satisfied: lxml in /usr/local/lib/python3.10/dist-packages (from nbconvert->notebook-as-pdf) (4.9.3)\n",
            "Requirement already satisfied: beautifulsoup4 in /usr/local/lib/python3.10/dist-packages (from nbconvert->notebook-as-pdf) (4.11.2)\n",
            "Requirement already satisfied: bleach in /usr/local/lib/python3.10/dist-packages (from nbconvert->notebook-as-pdf) (6.1.0)\n",
            "Requirement already satisfied: defusedxml in /usr/local/lib/python3.10/dist-packages (from nbconvert->notebook-as-pdf) (0.7.1)\n",
            "Requirement already satisfied: entrypoints>=0.2.2 in /usr/local/lib/python3.10/dist-packages (from nbconvert->notebook-as-pdf) (0.4)\n",
            "Requirement already satisfied: jinja2>=3.0 in /usr/local/lib/python3.10/dist-packages (from nbconvert->notebook-as-pdf) (3.1.2)\n",
            "Requirement already satisfied: jupyter-core>=4.7 in /usr/local/lib/python3.10/dist-packages (from nbconvert->notebook-as-pdf) (5.5.0)\n",
            "Requirement already satisfied: jupyterlab-pygments in /usr/local/lib/python3.10/dist-packages (from nbconvert->notebook-as-pdf) (0.3.0)\n",
            "Requirement already satisfied: MarkupSafe>=2.0 in /usr/local/lib/python3.10/dist-packages (from nbconvert->notebook-as-pdf) (2.1.3)\n",
            "Requirement already satisfied: mistune<2,>=0.8.1 in /usr/local/lib/python3.10/dist-packages (from nbconvert->notebook-as-pdf) (0.8.4)\n",
            "Requirement already satisfied: nbclient>=0.5.0 in /usr/local/lib/python3.10/dist-packages (from nbconvert->notebook-as-pdf) (0.9.0)\n",
            "Requirement already satisfied: nbformat>=5.1 in /usr/local/lib/python3.10/dist-packages (from nbconvert->notebook-as-pdf) (5.9.2)\n",
            "Requirement already satisfied: packaging in /usr/local/lib/python3.10/dist-packages (from nbconvert->notebook-as-pdf) (23.2)\n",
            "Requirement already satisfied: pandocfilters>=1.4.1 in /usr/local/lib/python3.10/dist-packages (from nbconvert->notebook-as-pdf) (1.5.0)\n",
            "Requirement already satisfied: pygments>=2.4.1 in /usr/local/lib/python3.10/dist-packages (from nbconvert->notebook-as-pdf) (2.16.1)\n",
            "Requirement already satisfied: tinycss2 in /usr/local/lib/python3.10/dist-packages (from nbconvert->notebook-as-pdf) (1.2.1)\n",
            "Requirement already satisfied: traitlets>=5.0 in /usr/local/lib/python3.10/dist-packages (from nbconvert->notebook-as-pdf) (5.7.1)\n",
            "Requirement already satisfied: appdirs<2.0.0,>=1.4.3 in /usr/local/lib/python3.10/dist-packages (from pyppeteer->notebook-as-pdf) (1.4.4)\n",
            "Requirement already satisfied: certifi>=2021 in /usr/local/lib/python3.10/dist-packages (from pyppeteer->notebook-as-pdf) (2023.11.17)\n",
            "Requirement already satisfied: importlib-metadata>=1.4 in /usr/local/lib/python3.10/dist-packages (from pyppeteer->notebook-as-pdf) (7.0.0)\n",
            "Collecting pyee<9.0.0,>=8.1.0 (from pyppeteer->notebook-as-pdf)\n",
            "  Downloading pyee-8.2.2-py2.py3-none-any.whl (12 kB)\n",
            "Requirement already satisfied: tqdm<5.0.0,>=4.42.1 in /usr/local/lib/python3.10/dist-packages (from pyppeteer->notebook-as-pdf) (4.66.1)\n",
            "Collecting urllib3<2.0.0,>=1.25.8 (from pyppeteer->notebook-as-pdf)\n",
            "  Downloading urllib3-1.26.18-py2.py3-none-any.whl (143 kB)\n",
            "\u001b[2K     \u001b[90m━━━━━━━━━━━━━━━━━━━━━━━━━━━━━━━━━━━━━━━━\u001b[0m \u001b[32m143.8/143.8 kB\u001b[0m \u001b[31m7.4 MB/s\u001b[0m eta \u001b[36m0:00:00\u001b[0m\n",
            "\u001b[?25hCollecting websockets<11.0,>=10.0 (from pyppeteer->notebook-as-pdf)\n",
            "  Downloading websockets-10.4-cp310-cp310-manylinux_2_5_x86_64.manylinux1_x86_64.manylinux_2_17_x86_64.manylinux2014_x86_64.whl (106 kB)\n",
            "\u001b[2K     \u001b[90m━━━━━━━━━━━━━━━━━━━━━━━━━━━━━━━━━━━━━━━━\u001b[0m \u001b[32m106.8/106.8 kB\u001b[0m \u001b[31m6.5 MB/s\u001b[0m eta \u001b[36m0:00:00\u001b[0m\n",
            "\u001b[?25hRequirement already satisfied: zipp>=0.5 in /usr/local/lib/python3.10/dist-packages (from importlib-metadata>=1.4->pyppeteer->notebook-as-pdf) (3.17.0)\n",
            "Requirement already satisfied: platformdirs>=2.5 in /usr/local/lib/python3.10/dist-packages (from jupyter-core>=4.7->nbconvert->notebook-as-pdf) (4.1.0)\n",
            "Requirement already satisfied: jupyter-client>=6.1.12 in /usr/local/lib/python3.10/dist-packages (from nbclient>=0.5.0->nbconvert->notebook-as-pdf) (6.1.12)\n",
            "Requirement already satisfied: fastjsonschema in /usr/local/lib/python3.10/dist-packages (from nbformat>=5.1->nbconvert->notebook-as-pdf) (2.19.0)\n",
            "Requirement already satisfied: jsonschema>=2.6 in /usr/local/lib/python3.10/dist-packages (from nbformat>=5.1->nbconvert->notebook-as-pdf) (4.19.2)\n",
            "Requirement already satisfied: soupsieve>1.2 in /usr/local/lib/python3.10/dist-packages (from beautifulsoup4->nbconvert->notebook-as-pdf) (2.5)\n",
            "Requirement already satisfied: six>=1.9.0 in /usr/local/lib/python3.10/dist-packages (from bleach->nbconvert->notebook-as-pdf) (1.16.0)\n",
            "Requirement already satisfied: webencodings in /usr/local/lib/python3.10/dist-packages (from bleach->nbconvert->notebook-as-pdf) (0.5.1)\n",
            "Requirement already satisfied: attrs>=22.2.0 in /usr/local/lib/python3.10/dist-packages (from jsonschema>=2.6->nbformat>=5.1->nbconvert->notebook-as-pdf) (23.1.0)\n",
            "Requirement already satisfied: jsonschema-specifications>=2023.03.6 in /usr/local/lib/python3.10/dist-packages (from jsonschema>=2.6->nbformat>=5.1->nbconvert->notebook-as-pdf) (2023.11.2)\n",
            "Requirement already satisfied: referencing>=0.28.4 in /usr/local/lib/python3.10/dist-packages (from jsonschema>=2.6->nbformat>=5.1->nbconvert->notebook-as-pdf) (0.32.0)\n",
            "Requirement already satisfied: rpds-py>=0.7.1 in /usr/local/lib/python3.10/dist-packages (from jsonschema>=2.6->nbformat>=5.1->nbconvert->notebook-as-pdf) (0.13.2)\n",
            "Requirement already satisfied: pyzmq>=13 in /usr/local/lib/python3.10/dist-packages (from jupyter-client>=6.1.12->nbclient>=0.5.0->nbconvert->notebook-as-pdf) (23.2.1)\n",
            "Requirement already satisfied: python-dateutil>=2.1 in /usr/local/lib/python3.10/dist-packages (from jupyter-client>=6.1.12->nbclient>=0.5.0->nbconvert->notebook-as-pdf) (2.8.2)\n",
            "Requirement already satisfied: tornado>=4.1 in /usr/local/lib/python3.10/dist-packages (from jupyter-client>=6.1.12->nbclient>=0.5.0->nbconvert->notebook-as-pdf) (6.3.2)\n",
            "Installing collected packages: pyee, websockets, urllib3, PyPDF2, pyppeteer, notebook-as-pdf\n",
            "  Attempting uninstall: urllib3\n",
            "    Found existing installation: urllib3 2.0.7\n",
            "    Uninstalling urllib3-2.0.7:\n",
            "      Successfully uninstalled urllib3-2.0.7\n",
            "Successfully installed PyPDF2-3.0.1 notebook-as-pdf-0.5.0 pyee-8.2.2 pyppeteer-1.0.2 urllib3-1.26.18 websockets-10.4\n"
          ]
        },
        {
          "output_type": "error",
          "ename": "NameError",
          "evalue": "ignored",
          "traceback": [
            "\u001b[0;31m---------------------------------------------------------------------------\u001b[0m",
            "\u001b[0;31mNameError\u001b[0m                                 Traceback (most recent call last)",
            "\u001b[0;32m<ipython-input-229-8a900ff57edd>\u001b[0m in \u001b[0;36m<cell line: 2>\u001b[0;34m()\u001b[0m\n\u001b[1;32m      1\u001b[0m \u001b[0mget_ipython\u001b[0m\u001b[0;34m(\u001b[0m\u001b[0;34m)\u001b[0m\u001b[0;34m.\u001b[0m\u001b[0msystem\u001b[0m\u001b[0;34m(\u001b[0m\u001b[0;34m'python -m pip install -U notebook-as-pdf'\u001b[0m\u001b[0;34m)\u001b[0m\u001b[0;34m\u001b[0m\u001b[0;34m\u001b[0m\u001b[0m\n\u001b[0;32m----> 2\u001b[0;31m \u001b[0mpyppeteer\u001b[0m\u001b[0;34m-\u001b[0m\u001b[0minstall\u001b[0m\u001b[0;34m\u001b[0m\u001b[0;34m\u001b[0m\u001b[0m\n\u001b[0m",
            "\u001b[0;31mNameError\u001b[0m: name 'pyppeteer' is not defined"
          ]
        }
      ]
    }
  ],
  "metadata": {
    "colab": {
      "collapsed_sections": [
        "luKdq6FDcR2u",
        "bvk-YAo-eGGW"
      ],
      "provenance": [],
      "toc_visible": true,
      "include_colab_link": true
    },
    "kernelspec": {
      "display_name": "Python 3",
      "name": "python3"
    },
    "language_info": {
      "codemirror_mode": {
        "name": "ipython",
        "version": 3
      },
      "file_extension": ".py",
      "mimetype": "text/x-python",
      "name": "python",
      "nbconvert_exporter": "python",
      "pygments_lexer": "ipython3",
      "version": "3.9.13"
    }
  },
  "nbformat": 4,
  "nbformat_minor": 0
}