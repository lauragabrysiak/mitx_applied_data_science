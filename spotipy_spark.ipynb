{
  "nbformat": 4,
  "nbformat_minor": 0,
  "metadata": {
    "colab": {
      "provenance": [],
      "authorship_tag": "ABX9TyMfuPAIH08LTiUZJG366SYJ",
      "include_colab_link": true
    },
    "kernelspec": {
      "name": "python3",
      "display_name": "Python 3"
    },
    "language_info": {
      "name": "python"
    }
  },
  "cells": [
    {
      "cell_type": "markdown",
      "metadata": {
        "id": "view-in-github",
        "colab_type": "text"
      },
      "source": [
        "<a href=\"https://colab.research.google.com/github/lauragabrysiak/mitx_applied_data_science/blob/main/spotipy_spark.ipynb\" target=\"_parent\"><img src=\"https://colab.research.google.com/assets/colab-badge.svg\" alt=\"Open In Colab\"/></a>"
      ]
    },
    {
      "cell_type": "code",
      "execution_count": 61,
      "metadata": {
        "colab": {
          "base_uri": "https://localhost:8080/"
        },
        "id": "G7rEbI7egGCS",
        "outputId": "d71712e6-a829-4fcd-938f-d241888502d4"
      },
      "outputs": [
        {
          "output_type": "stream",
          "name": "stdout",
          "text": [
            "Drive already mounted at /content/gdrive/; to attempt to forcibly remount, call drive.mount(\"/content/gdrive/\", force_remount=True).\n"
          ]
        }
      ],
      "source": [
        "# Mounting the drive\n",
        "from google.colab import drive\n",
        "drive.mount('/content/gdrive/')"
      ]
    },
    {
      "cell_type": "code",
      "source": [
        "# Installing Spotify Web API spotipy\n",
        "!pip install findspark pyspark spotipy"
      ],
      "metadata": {
        "colab": {
          "base_uri": "https://localhost:8080/"
        },
        "id": "rA6eNw0TgH7K",
        "outputId": "f18c9a1e-1302-4e9a-8484-6e257eb18041"
      },
      "execution_count": 62,
      "outputs": [
        {
          "output_type": "stream",
          "name": "stdout",
          "text": [
            "Requirement already satisfied: findspark in /usr/local/lib/python3.10/dist-packages (2.0.1)\n",
            "Requirement already satisfied: pyspark in /usr/local/lib/python3.10/dist-packages (3.5.0)\n",
            "Requirement already satisfied: spotipy in /usr/local/lib/python3.10/dist-packages (2.23.0)\n",
            "Requirement already satisfied: py4j==0.10.9.7 in /usr/local/lib/python3.10/dist-packages (from pyspark) (0.10.9.7)\n",
            "Requirement already satisfied: redis>=3.5.3 in /usr/local/lib/python3.10/dist-packages (from spotipy) (5.0.1)\n",
            "Requirement already satisfied: requests>=2.25.0 in /usr/local/lib/python3.10/dist-packages (from spotipy) (2.31.0)\n",
            "Requirement already satisfied: six>=1.15.0 in /usr/local/lib/python3.10/dist-packages (from spotipy) (1.16.0)\n",
            "Requirement already satisfied: urllib3>=1.26.0 in /usr/local/lib/python3.10/dist-packages (from spotipy) (2.0.7)\n",
            "Requirement already satisfied: async-timeout>=4.0.2 in /usr/local/lib/python3.10/dist-packages (from redis>=3.5.3->spotipy) (4.0.3)\n",
            "Requirement already satisfied: charset-normalizer<4,>=2 in /usr/local/lib/python3.10/dist-packages (from requests>=2.25.0->spotipy) (3.3.2)\n",
            "Requirement already satisfied: idna<4,>=2.5 in /usr/local/lib/python3.10/dist-packages (from requests>=2.25.0->spotipy) (3.6)\n",
            "Requirement already satisfied: certifi>=2017.4.17 in /usr/local/lib/python3.10/dist-packages (from requests>=2.25.0->spotipy) (2023.11.17)\n"
          ]
        }
      ]
    },
    {
      "cell_type": "code",
      "source": [
        "import pandas as pd\n",
        "import time\n",
        "\n",
        "from spotipy.oauth2 import SpotifyClientCredentials\n",
        "import spotipy\n",
        "\n",
        "from pyspark.sql import SparkSession\n",
        "from pyspark.sql.functions import udf\n",
        "from pyspark.sql import functions as F\n",
        "from pyspark.sql.types import StructType, StructField, StringType, IntegerType, ArrayType\n",
        "\n",
        "import findspark\n",
        "findspark.init()\n",
        "\n",
        "# A dictionary output that does not raise a key error\n",
        "import warnings\n",
        "warnings.filterwarnings('ignore')\n",
        "from collections import defaultdict"
      ],
      "metadata": {
        "id": "Q-cIrO3VgLeL"
      },
      "execution_count": 117,
      "outputs": []
    },
    {
      "cell_type": "markdown",
      "source": [
        "### Setting up your PySpark Session"
      ],
      "metadata": {
        "id": "aMZ0qBJMTCKt"
      }
    },
    {
      "cell_type": "code",
      "source": [
        "# Set up Spark session\n",
        "spark = SparkSession.builder.appName(\"SparkSpotipyIntegration\").getOrCreate()"
      ],
      "metadata": {
        "id": "wkOV47MSxhoX"
      },
      "execution_count": 89,
      "outputs": []
    },
    {
      "cell_type": "code",
      "source": [
        "# Replace 'your_data.csv' with your actual dataset\n",
        "df_final = pd.read_csv('/content/sample_data/df_final.csv'\n",
        "                  , on_bad_lines='skip'\n",
        "                  )"
      ],
      "metadata": {
        "id": "KvqLi8DRzaLF"
      },
      "execution_count": 90,
      "outputs": []
    },
    {
      "cell_type": "code",
      "source": [
        "df = spark.createDataFrame(pd.DataFrame(df_final.head(500)))"
      ],
      "metadata": {
        "id": "FtmNHba4zJgj"
      },
      "execution_count": 107,
      "outputs": []
    },
    {
      "cell_type": "code",
      "source": [
        "df.printSchema()"
      ],
      "metadata": {
        "colab": {
          "base_uri": "https://localhost:8080/"
        },
        "id": "8bqCFGS1-xtf",
        "outputId": "90740f2c-d7c3-485c-d845-685fbe6e38ca"
      },
      "execution_count": 108,
      "outputs": [
        {
          "output_type": "stream",
          "name": "stdout",
          "text": [
            "root\n",
            " |-- user_id: long (nullable = true)\n",
            " |-- song_id: long (nullable = true)\n",
            " |-- play_count: long (nullable = true)\n",
            " |-- song_title: string (nullable = true)\n",
            " |-- song_release: string (nullable = true)\n",
            " |-- song_artist: string (nullable = true)\n",
            " |-- song_year: long (nullable = true)\n",
            "\n"
          ]
        }
      ]
    },
    {
      "cell_type": "code",
      "source": [
        "df_check = df.withColumn(\"song_title\", F.col(\"song_title\"))\n",
        "df_check.show(3)"
      ],
      "metadata": {
        "colab": {
          "base_uri": "https://localhost:8080/"
        },
        "id": "By18oD1a_brB",
        "outputId": "1ce57f2b-e979-40f9-fbe5-d46e4cb44c1f"
      },
      "execution_count": 113,
      "outputs": [
        {
          "output_type": "stream",
          "name": "stdout",
          "text": [
            "+-------+-------+----------+--------------------+---------------+---------------+---------+\n",
            "|user_id|song_id|play_count|          song_title|   song_release|    song_artist|song_year|\n",
            "+-------+-------+----------+--------------------+---------------+---------------+---------+\n",
            "|   6958|    447|         1|  Daisy And Prudence|   Distillation|   Erin McKeown|     2000|\n",
            "|   6958|    512|         1|The Ballad of Mic...|        Sawdust|    The Killers|     2004|\n",
            "|   6958|    549|         1|I Stand Corrected...|Vampire Weekend|Vampire Weekend|     2007|\n",
            "+-------+-------+----------+--------------------+---------------+---------------+---------+\n",
            "only showing top 3 rows\n",
            "\n"
          ]
        }
      ]
    },
    {
      "cell_type": "markdown",
      "source": [
        "### Spotify Web API\n",
        "\n",
        "Source: https://developer.spotify.com/documentation/web-api/reference/get-track"
      ],
      "metadata": {
        "id": "dZQAYeoNqBhY"
      }
    },
    {
      "cell_type": "code",
      "source": [
        "# Spotipy credentials\n",
        "client_id = '930c85172af549c7bed7661f025edf11'\n",
        "client_secret = 'b33c88126c014981b3fc1d7c426d3a1c'\n",
        "\n",
        "# Set up Spotipy\n",
        "sp = spotipy.Spotify(auth_manager=SpotifyClientCredentials(client_id=client_id, client_secret=client_secret))"
      ],
      "metadata": {
        "id": "v98WxiAEzwKS"
      },
      "execution_count": 114,
      "outputs": []
    },
    {
      "cell_type": "code",
      "source": [
        "def get_spotify_track_info(artist, track):\n",
        "    try:\n",
        "        result = sp.search(q=f'artist:{artist} track:{track}', type='track', limit=1)\n",
        "\n",
        "        if not result['tracks']['items']:\n",
        "            # No matching track found\n",
        "            return None\n",
        "\n",
        "        track_info = result['tracks']['items'][0]\n",
        "\n",
        "        return {\n",
        "            'artist': artist,\n",
        "            'track': track,\n",
        "            'spotify_id': track_info['id'],\n",
        "            'title': track_info['name'],\n",
        "            'popularity': track_info['popularity'],\n",
        "            'is_local': track_info['is_local'],\n",
        "            'explicit': track_info['explicit'],\n",
        "            'duration_ms': track_info['duration_ms'],\n",
        "\n",
        "            # Album info\n",
        "            'album': track_info['album']['name'],\n",
        "            'release_date': track_info['album']['release_date'],\n",
        "            'album_type': track_info['album']['album_type'],\n",
        "            'album_available_markets': track_info['album']['available_markets'],\n",
        "\n",
        "            # Artist Info\n",
        "            'artist_name': track_info['artists'][0]['name'],\n",
        "            'artist_popularity': sp.artist(track_info['artists'][0]['id'])['popularity'],\n",
        "            'artist_followers': sp.artist(track_info['artists'][0]['id'])['followers']['total'],\n",
        "            'artist_genres': sp.artist(track_info['artists'][0]['id'])['genres']\n",
        "        }\n",
        "\n",
        "    except Exception as e:\n",
        "        print(f\"Error processing {artist} - {track}: {e}\")\n",
        "        return None\n",
        "\n",
        "# Register the UDF\n",
        "spotify_udf = udf(get_spotify_track_info, StructType([\n",
        "    StructField(\"artist\", StringType()),\n",
        "    StructField(\"track\", StringType()),\n",
        "    StructField(\"spotify_id\", StringType()),\n",
        "    StructField(\"title\", StringType()),\n",
        "    StructField(\"popularity\", IntegerType()),\n",
        "    StructField(\"is_local\", StringType()),\n",
        "    StructField(\"explicit\", StringType()),\n",
        "    StructField(\"duration_ms\", IntegerType()),\n",
        "    StructField(\"album\", StringType()),\n",
        "    StructField(\"release_date\", StringType()),\n",
        "    StructField(\"album_type\", StringType()),\n",
        "    StructField(\"album_available_markets\", ArrayType(StringType())),\n",
        "    StructField(\"artist_name\", StringType()),\n",
        "    StructField(\"artist_popularity\", IntegerType()),\n",
        "    StructField(\"artist_followers\", IntegerType()),\n",
        "    StructField(\"artist_genres\", ArrayType(StringType()))\n",
        "]))"
      ],
      "metadata": {
        "id": "hKUc44qiBBQE"
      },
      "execution_count": 118,
      "outputs": []
    },
    {
      "cell_type": "code",
      "source": [
        "result_df = df.withColumn(\"metadata\", spotify_udf(df['song_artist'], df['song_title']))"
      ],
      "metadata": {
        "id": "8OZRkMsrBDfe"
      },
      "execution_count": 119,
      "outputs": []
    },
    {
      "cell_type": "code",
      "source": [
        "result_df.show(3, truncate=False)"
      ],
      "metadata": {
        "id": "Vv94o3HeBGjI"
      },
      "execution_count": null,
      "outputs": []
    },
    {
      "cell_type": "code",
      "source": [
        "spark.stop()"
      ],
      "metadata": {
        "id": "3X54gWE6BTac"
      },
      "execution_count": null,
      "outputs": []
    },
    {
      "cell_type": "code",
      "source": [
        "# Write the result DataFrame back to a CSV file or other storage\n",
        "result_df.write.csv('df_final_spotify_augmented.csv', header=True, mode='overwrite')"
      ],
      "metadata": {
        "id": "V1N1c-_QylEC"
      },
      "execution_count": null,
      "outputs": []
    }
  ]
}