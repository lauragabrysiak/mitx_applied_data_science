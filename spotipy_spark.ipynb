{
  "nbformat": 4,
  "nbformat_minor": 0,
  "metadata": {
    "colab": {
      "provenance": [],
      "authorship_tag": "ABX9TyPJUBRnF+KPSP+M0kUBakw5",
      "include_colab_link": true
    },
    "kernelspec": {
      "name": "python3",
      "display_name": "Python 3"
    },
    "language_info": {
      "name": "python"
    }
  },
  "cells": [
    {
      "cell_type": "markdown",
      "metadata": {
        "id": "view-in-github",
        "colab_type": "text"
      },
      "source": [
        "<a href=\"https://colab.research.google.com/github/lauragabrysiak/mitx_applied_data_science/blob/main/spotipy_spark.ipynb\" target=\"_parent\"><img src=\"https://colab.research.google.com/assets/colab-badge.svg\" alt=\"Open In Colab\"/></a>"
      ]
    },
    {
      "cell_type": "code",
      "execution_count": null,
      "metadata": {
        "colab": {
          "base_uri": "https://localhost:8080/"
        },
        "id": "G7rEbI7egGCS",
        "outputId": "d71712e6-a829-4fcd-938f-d241888502d4"
      },
      "outputs": [
        {
          "output_type": "stream",
          "name": "stdout",
          "text": [
            "Drive already mounted at /content/gdrive/; to attempt to forcibly remount, call drive.mount(\"/content/gdrive/\", force_remount=True).\n"
          ]
        }
      ],
      "source": [
        "# Mounting the drive\n",
        "from google.colab import drive\n",
        "drive.mount('/content/gdrive/')"
      ]
    },
    {
      "cell_type": "code",
      "source": [
        "# Installing Spotify Web API spotipy\n",
        "!pip install findspark pyspark spotipy"
      ],
      "metadata": {
        "colab": {
          "base_uri": "https://localhost:8080/"
        },
        "id": "rA6eNw0TgH7K",
        "outputId": "f18c9a1e-1302-4e9a-8484-6e257eb18041"
      },
      "execution_count": null,
      "outputs": [
        {
          "output_type": "stream",
          "name": "stdout",
          "text": [
            "Requirement already satisfied: findspark in /usr/local/lib/python3.10/dist-packages (2.0.1)\n",
            "Requirement already satisfied: pyspark in /usr/local/lib/python3.10/dist-packages (3.5.0)\n",
            "Requirement already satisfied: spotipy in /usr/local/lib/python3.10/dist-packages (2.23.0)\n",
            "Requirement already satisfied: py4j==0.10.9.7 in /usr/local/lib/python3.10/dist-packages (from pyspark) (0.10.9.7)\n",
            "Requirement already satisfied: redis>=3.5.3 in /usr/local/lib/python3.10/dist-packages (from spotipy) (5.0.1)\n",
            "Requirement already satisfied: requests>=2.25.0 in /usr/local/lib/python3.10/dist-packages (from spotipy) (2.31.0)\n",
            "Requirement already satisfied: six>=1.15.0 in /usr/local/lib/python3.10/dist-packages (from spotipy) (1.16.0)\n",
            "Requirement already satisfied: urllib3>=1.26.0 in /usr/local/lib/python3.10/dist-packages (from spotipy) (2.0.7)\n",
            "Requirement already satisfied: async-timeout>=4.0.2 in /usr/local/lib/python3.10/dist-packages (from redis>=3.5.3->spotipy) (4.0.3)\n",
            "Requirement already satisfied: charset-normalizer<4,>=2 in /usr/local/lib/python3.10/dist-packages (from requests>=2.25.0->spotipy) (3.3.2)\n",
            "Requirement already satisfied: idna<4,>=2.5 in /usr/local/lib/python3.10/dist-packages (from requests>=2.25.0->spotipy) (3.6)\n",
            "Requirement already satisfied: certifi>=2017.4.17 in /usr/local/lib/python3.10/dist-packages (from requests>=2.25.0->spotipy) (2023.11.17)\n"
          ]
        }
      ]
    },
    {
      "cell_type": "code",
      "source": [
        "import pandas as pd\n",
        "import time\n",
        "\n",
        "import spotipy\n",
        "from spotipy.oauth2 import SpotifyClientCredentials\n",
        "\n",
        "from pyspark.sql import SparkSession\n",
        "from pyspark.sql.functions import udf\n",
        "from pyspark.sql import functions as F\n",
        "from pyspark.sql.functions import col\n",
        "from pyspark.sql.functions import explode\n",
        "from pyspark.sql.types import StructType, StructField, StringType, IntegerType, ArrayType\n",
        "\n",
        "import findspark\n",
        "findspark.init()\n",
        "\n",
        "# A dictionary output that does not raise a key error\n",
        "import warnings\n",
        "warnings.filterwarnings('ignore')\n",
        "from collections import defaultdict"
      ],
      "metadata": {
        "id": "Q-cIrO3VgLeL"
      },
      "execution_count": 208,
      "outputs": []
    },
    {
      "cell_type": "markdown",
      "source": [
        "### Setting up your PySpark Session"
      ],
      "metadata": {
        "id": "aMZ0qBJMTCKt"
      }
    },
    {
      "cell_type": "code",
      "source": [
        "# Set up Spark session\n",
        "spark = SparkSession.builder.appName(\"SparkSpotipyIntegration\").getOrCreate()"
      ],
      "metadata": {
        "id": "wkOV47MSxhoX"
      },
      "execution_count": 209,
      "outputs": []
    },
    {
      "cell_type": "code",
      "source": [
        "# Replace 'your_data.csv' with your actual dataset\n",
        "df_final = pd.read_csv('/content/sample_data/df_final.csv'\n",
        "                  , on_bad_lines='skip'\n",
        "                  )"
      ],
      "metadata": {
        "id": "KvqLi8DRzaLF"
      },
      "execution_count": 210,
      "outputs": []
    },
    {
      "cell_type": "code",
      "source": [
        "df = spark.createDataFrame(pd.DataFrame(df_final.head(5000)))"
      ],
      "metadata": {
        "id": "FtmNHba4zJgj"
      },
      "execution_count": 211,
      "outputs": []
    },
    {
      "cell_type": "code",
      "source": [
        "df.printSchema()"
      ],
      "metadata": {
        "colab": {
          "base_uri": "https://localhost:8080/"
        },
        "id": "8bqCFGS1-xtf",
        "outputId": "ffcb14b0-2075-45bd-c75d-be82ac77cb7d"
      },
      "execution_count": 212,
      "outputs": [
        {
          "output_type": "stream",
          "name": "stdout",
          "text": [
            "root\n",
            " |-- user_id: long (nullable = true)\n",
            " |-- song_id: long (nullable = true)\n",
            " |-- play_count: long (nullable = true)\n",
            " |-- song_title: string (nullable = true)\n",
            " |-- song_release: string (nullable = true)\n",
            " |-- song_artist: string (nullable = true)\n",
            " |-- song_year: long (nullable = true)\n",
            "\n"
          ]
        }
      ]
    },
    {
      "cell_type": "code",
      "source": [
        "#df_check = df.withColumn(\"song_title\", F.col(\"song_title\"))\n",
        "#df_check.show()"
      ],
      "metadata": {
        "colab": {
          "base_uri": "https://localhost:8080/"
        },
        "id": "By18oD1a_brB",
        "outputId": "fc32942a-ffa3-4dd0-ddd0-af296aaa9378"
      },
      "execution_count": null,
      "outputs": [
        {
          "output_type": "stream",
          "name": "stdout",
          "text": [
            "+-------+-------+----------+--------------------+--------------------+--------------------+---------+\n",
            "|user_id|song_id|play_count|          song_title|        song_release|         song_artist|song_year|\n",
            "+-------+-------+----------+--------------------+--------------------+--------------------+---------+\n",
            "|   6958|    447|         1|  Daisy And Prudence|        Distillation|        Erin McKeown|     2000|\n",
            "|   6958|    512|         1|The Ballad of Mic...|             Sawdust|         The Killers|     2004|\n",
            "|   6958|    549|         1|I Stand Corrected...|     Vampire Weekend|     Vampire Weekend|     2007|\n",
            "|   6958|    703|         1|They Might Follow...|         Tiny Vipers|         Tiny Vipers|     2007|\n",
            "|   6958|    719|         1|          Monkey Man|You Know I'm No Good|       Amy Winehouse|     2007|\n",
            "|   6958|    892|         1|     Bleeding Hearts|          Hell Train|             Soltero|        0|\n",
            "|   6958|   1050|         5|         Wet Blanket|Old World Undergr...|              Metric|     2003|\n",
            "|   6958|   1480|         1|       Fast As I Can| Monday Morning Cold|        Erin McKeown|     2000|\n",
            "|   6958|   1671|         2| Sleeping In (Album)|             Give Up|      Postal Service|     2003|\n",
            "|   6958|   1752|         1|      Gimme Sympathy|      Gimme Sympathy|              Metric|     2009|\n",
            "|   6958|   1756|         1|You Mustn't Kick ...|        Distillation|        Erin McKeown|     2000|\n",
            "|   6958|   1787|         2|      Help I'm Alive|           Fantasies|              Metric|     2009|\n",
            "|   6958|   2304|         1|        Daddy's Eyes|             Sawdust|         The Killers|     2006|\n",
            "|   6958|   2425|         1|            Señorita|           Justified|   Justin Timberlake|     2002|\n",
            "|   6958|   2701|         1|                Tron|           Antidotes|               Foals|     2008|\n",
            "|   6958|   2994|         1|        Elephant Gun|  The Gulag Orkestar|              Beirut|     2006|\n",
            "|   6958|   3074|         1|Catch You Baby (S...|      Catch You Baby|       Lonnie Gordon|        0|\n",
            "|   6958|   3551|         1|        You're A Cad|Ray Guns Are Not ...|the bird and the bee|     2009|\n",
            "|   6958|   3718|         2|         The Penalty| The Flying Club Cup|              Beirut|     2007|\n",
            "|   6958|   3801|         1|                Baby|Ray Guns Are Not ...|the bird and the bee|     2009|\n",
            "+-------+-------+----------+--------------------+--------------------+--------------------+---------+\n",
            "only showing top 20 rows\n",
            "\n"
          ]
        }
      ]
    },
    {
      "cell_type": "markdown",
      "source": [
        "### Spotify Web API\n",
        "\n",
        "Source: https://developer.spotify.com/documentation/web-api/reference/get-track"
      ],
      "metadata": {
        "id": "dZQAYeoNqBhY"
      }
    },
    {
      "cell_type": "code",
      "source": [
        "# Spotipy credentials\n",
        "client_id = '930c85172af549c7bed7661f025edf11'\n",
        "client_secret = 'b33c88126c014981b3fc1d7c426d3a1c'\n",
        "\n",
        "# Set up Spotipy\n",
        "sp = spotipy.Spotify(auth_manager=SpotifyClientCredentials(client_id=client_id, client_secret=client_secret))"
      ],
      "metadata": {
        "id": "v98WxiAEzwKS"
      },
      "execution_count": 213,
      "outputs": []
    },
    {
      "cell_type": "code",
      "source": [
        "def get_spotify_track_info(artist, track):\n",
        "    try:\n",
        "        result = sp.search(q=f'artist:{artist} track:{track}', type='track', limit=1)\n",
        "\n",
        "        if not result['tracks']['items']:\n",
        "            # No matching track found\n",
        "            return None\n",
        "\n",
        "        track_info = result['tracks']['items'][0]\n",
        "\n",
        "        return {\n",
        "            'artist': artist,\n",
        "            'track': track,\n",
        "            'spotify_id': track_info['id'],\n",
        "            'title': track_info['name'],\n",
        "            'popularity': track_info['popularity'],\n",
        "            'is_local': track_info['is_local'],\n",
        "            'explicit': track_info['explicit'],\n",
        "            'duration_ms': track_info['duration_ms'],\n",
        "\n",
        "            # Album info\n",
        "            'album': track_info['album']['name'],\n",
        "            'release_date': track_info['album']['release_date'],\n",
        "            'album_type': track_info['album']['album_type'],\n",
        "            'album_available_markets': track_info['album']['available_markets'],\n",
        "\n",
        "            # Artist Info\n",
        "            'artist_name': track_info['artists'][0]['name'],\n",
        "            'artist_popularity': sp.artist(track_info['artists'][0]['id'])['popularity'],\n",
        "            'artist_followers': sp.artist(track_info['artists'][0]['id'])['followers']['total'],\n",
        "            'artist_genres': sp.artist(track_info['artists'][0]['id'])['genres']\n",
        "        }\n",
        "\n",
        "    except Exception as e:\n",
        "        print(f\"Error processing {artist} - {track}: {e}\")\n",
        "        return None\n",
        "\n",
        "# Register the UDF\n",
        "spotify_udf = udf(get_spotify_track_info, StructType([\n",
        "    StructField(\"artist\", StringType()),\n",
        "    StructField(\"track\", StringType()),\n",
        "    StructField(\"spotify_id\", StringType()),\n",
        "    StructField(\"title\", StringType()),\n",
        "    StructField(\"popularity\", IntegerType()),\n",
        "    StructField(\"is_local\", StringType()),\n",
        "    StructField(\"explicit\", StringType()),\n",
        "    StructField(\"duration_ms\", IntegerType()),\n",
        "    StructField(\"album\", StringType()),\n",
        "    StructField(\"release_date\", StringType()),\n",
        "    StructField(\"album_type\", StringType()),\n",
        "    StructField(\"album_available_markets\", ArrayType(StringType())),\n",
        "    StructField(\"artist_name\", StringType()),\n",
        "    StructField(\"artist_popularity\", IntegerType()),\n",
        "    StructField(\"artist_followers\", IntegerType()),\n",
        "    StructField(\"artist_genres\", ArrayType(StringType()))\n",
        "]))"
      ],
      "metadata": {
        "id": "hKUc44qiBBQE"
      },
      "execution_count": 214,
      "outputs": []
    },
    {
      "cell_type": "code",
      "source": [
        "result_df = df.withColumn(\"metadata\", spotify_udf(df['song_artist'], df['song_title']))"
      ],
      "metadata": {
        "id": "8OZRkMsrBDfe"
      },
      "execution_count": 215,
      "outputs": []
    },
    {
      "cell_type": "code",
      "source": [
        "result_df.printSchema()"
      ],
      "metadata": {
        "colab": {
          "base_uri": "https://localhost:8080/"
        },
        "id": "kKuFWq4wCPAA",
        "outputId": "079ca69a-1ece-4922-b7d0-026c55cd7de0"
      },
      "execution_count": 216,
      "outputs": [
        {
          "output_type": "stream",
          "name": "stdout",
          "text": [
            "root\n",
            " |-- user_id: long (nullable = true)\n",
            " |-- song_id: long (nullable = true)\n",
            " |-- play_count: long (nullable = true)\n",
            " |-- song_title: string (nullable = true)\n",
            " |-- song_release: string (nullable = true)\n",
            " |-- song_artist: string (nullable = true)\n",
            " |-- song_year: long (nullable = true)\n",
            " |-- metadata: struct (nullable = true)\n",
            " |    |-- artist: string (nullable = true)\n",
            " |    |-- track: string (nullable = true)\n",
            " |    |-- spotify_id: string (nullable = true)\n",
            " |    |-- title: string (nullable = true)\n",
            " |    |-- popularity: integer (nullable = true)\n",
            " |    |-- is_local: string (nullable = true)\n",
            " |    |-- explicit: string (nullable = true)\n",
            " |    |-- duration_ms: integer (nullable = true)\n",
            " |    |-- album: string (nullable = true)\n",
            " |    |-- release_date: string (nullable = true)\n",
            " |    |-- album_type: string (nullable = true)\n",
            " |    |-- album_available_markets: array (nullable = true)\n",
            " |    |    |-- element: string (containsNull = true)\n",
            " |    |-- artist_name: string (nullable = true)\n",
            " |    |-- artist_popularity: integer (nullable = true)\n",
            " |    |-- artist_followers: integer (nullable = true)\n",
            " |    |-- artist_genres: array (nullable = true)\n",
            " |    |    |-- element: string (containsNull = true)\n",
            "\n"
          ]
        }
      ]
    },
    {
      "cell_type": "code",
      "source": [
        "flattened_df = result_df.select(\n",
        "    \"user_id\",\n",
        "    \"song_id\",\n",
        "    \"play_count\",\n",
        "    \"song_title\",\n",
        "    \"song_release\",\n",
        "    \"song_artist\",\n",
        "    \"song_year\",\n",
        "# add columns\n",
        "    #col(\"metadata.artist\").alias(\"song_artist\"),\n",
        "    col(\"metadata.track\").alias(\"song_track\"),\n",
        "    col(\"metadata.popularity\").alias(\"song_popularity\"),\n",
        "    col(\"metadata.spotify_id\").alias(\"song_spotify_id\"),\n",
        "    col(\"metadata.title\").alias(\"song_title\"),\n",
        "    #col(\"metadata.popularity\").alias(\"song_popularity\"),\n",
        "    col(\"metadata.is_local\").alias(\"is_local\"),\n",
        "    col(\"metadata.explicit\").alias(\"explicit\"),\n",
        "    col(\"metadata.duration_ms\").alias(\"song_duration_ms\"),\n",
        "    col(\"metadata.album\").alias(\"album\"),\n",
        "    col(\"metadata.release_date\").alias(\"album_release_date\"),\n",
        "    col(\"metadata.album_type\").alias(\"album_type\"),\n",
        "    #explode(\"metadata.album_available_markets\").alias(\"album_markets\"), #col\n",
        "    col(\"metadata.artist_name\").alias(\"artist_name\"),\n",
        "    col(\"metadata.artist_popularity\").alias(\"artist_popularity\"),\n",
        "    col(\"metadata.artist_followers\").alias(\"artist_followers\")\n",
        "    #explode(\"metadata.artist_genres\").alias(\"artist_genres\") #col\n",
        ")"
      ],
      "metadata": {
        "id": "276Fad_gCrZS"
      },
      "execution_count": 217,
      "outputs": []
    },
    {
      "cell_type": "code",
      "source": [
        "# add market\n",
        "exp_market = result_df.select(\"user_id\",\"song_id\",explode(\"metadata.album_available_markets\").alias(\"album_markets\"))"
      ],
      "metadata": {
        "id": "SNT5zyYJZotm"
      },
      "execution_count": 219,
      "outputs": []
    },
    {
      "cell_type": "code",
      "source": [
        "# add genres\n",
        "exp_genres = result_df.select(\"user_id\",\"song_id\",explode(\"metadata.artist_genres\").alias(\"artist_genres\"))"
      ],
      "metadata": {
        "id": "5G6nxvzsZJjT"
      },
      "execution_count": 218,
      "outputs": []
    },
    {
      "cell_type": "code",
      "source": [
        "# Join the exploded DataFrames\n",
        "result_df = (\n",
        "    flattened_df\n",
        "    .join(exp_market, [\"user_id\", \"song_id\"])\n",
        "    .join(exp_genres, [\"user_id\", \"song_id\"])\n",
        ")"
      ],
      "metadata": {
        "id": "pQVaqofsZpis"
      },
      "execution_count": 220,
      "outputs": []
    },
    {
      "cell_type": "code",
      "source": [
        "result_df.printSchema()"
      ],
      "metadata": {
        "colab": {
          "base_uri": "https://localhost:8080/"
        },
        "id": "GniaB5u7Iu9L",
        "outputId": "c3547de5-c4b0-4836-8d05-1f81731ec362"
      },
      "execution_count": 221,
      "outputs": [
        {
          "output_type": "stream",
          "name": "stdout",
          "text": [
            "root\n",
            " |-- user_id: long (nullable = true)\n",
            " |-- song_id: long (nullable = true)\n",
            " |-- play_count: long (nullable = true)\n",
            " |-- song_title: string (nullable = true)\n",
            " |-- song_release: string (nullable = true)\n",
            " |-- song_artist: string (nullable = true)\n",
            " |-- song_year: long (nullable = true)\n",
            " |-- artist: string (nullable = true)\n",
            " |-- track: string (nullable = true)\n",
            " |-- popularity: integer (nullable = true)\n",
            " |-- spotify_id: string (nullable = true)\n",
            " |-- title: string (nullable = true)\n",
            " |-- song_popularity: integer (nullable = true)\n",
            " |-- is_local: string (nullable = true)\n",
            " |-- explicit: string (nullable = true)\n",
            " |-- duration_ms: integer (nullable = true)\n",
            " |-- album: string (nullable = true)\n",
            " |-- release_date: string (nullable = true)\n",
            " |-- album_type: string (nullable = true)\n",
            " |-- artist_name: string (nullable = true)\n",
            " |-- artist_popularity: integer (nullable = true)\n",
            " |-- artist_followers: integer (nullable = true)\n",
            " |-- artist_genres: string (nullable = true)\n",
            " |-- album_markets: string (nullable = true)\n",
            "\n"
          ]
        }
      ]
    },
    {
      "cell_type": "code",
      "source": [
        "#result_df.show(2)"
      ],
      "metadata": {
        "id": "Vv94o3HeBGjI"
      },
      "execution_count": null,
      "outputs": []
    },
    {
      "cell_type": "code",
      "source": [
        "# Write the result DataFrame back to a CSV file or other storage\n",
        "flattened_df.write.csv(\"/content/sample_data/spark_output/df_final_spotify_augmented.csv\", header=True, mode=\"overwrite\")"
      ],
      "metadata": {
        "id": "V1N1c-_QylEC"
      },
      "execution_count": null,
      "outputs": []
    },
    {
      "cell_type": "code",
      "source": [
        "spark.stop()"
      ],
      "metadata": {
        "id": "3X54gWE6BTac"
      },
      "execution_count": null,
      "outputs": []
    }
  ]
}